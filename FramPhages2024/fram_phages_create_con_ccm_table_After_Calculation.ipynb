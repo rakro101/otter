{
 "cells": [
  {
   "cell_type": "code",
   "execution_count": null,
   "id": "initial_id",
   "metadata": {
    "collapsed": true
   },
   "outputs": [],
   "source": [
    "import pandas as pd"
   ]
  },
  {
   "cell_type": "code",
   "execution_count": null,
   "outputs": [],
   "source": [
    "df = pd.read_csv('data/project/fram_phages/tables/Enriched1_Pearson_FFT_Hellinger_False__16_complete_network_table_meta_0.7_0.05_purple_snail_update_new.csv',sep=\",\")"
   ],
   "metadata": {
    "collapsed": false
   },
   "id": "f0c72efdf8c1f943"
  },
  {
   "cell_type": "code",
   "execution_count": null,
   "outputs": [],
   "source": [
    "df.drop(columns=['Unnamed: 0'], inplace=True)\n",
    "df.set_index(\"Nodes\",inplace=True)\n",
    "df"
   ],
   "metadata": {
    "collapsed": false
   },
   "id": "fdeb4ed427e8d402"
  },
  {
   "cell_type": "code",
   "execution_count": null,
   "outputs": [],
   "source": [
    "df_2 =df\n",
    "df_2"
   ],
   "metadata": {
    "collapsed": false
   },
   "id": "27694946bba2418e"
  },
  {
   "cell_type": "code",
   "execution_count": null,
   "outputs": [],
   "source": [
    "df_2.columns"
   ],
   "metadata": {
    "collapsed": false
   },
   "id": "be39a2a69977ac33"
  },
  {
   "cell_type": "code",
   "execution_count": null,
   "outputs": [],
   "source": [
    "select =['Kingdom',\n",
    "       'Phylum', 'Class', 'Order', 'Family', 'Genus', 'Species', 'LouvainLabelD', 'Betweenness_Centrality',\n",
    "       'Closeness Centrality', 'Abundance4y',\n",
    "        'CCM_Betweenness_Centrality',\n",
    "       'CCM_Closeness Centrality', 'ccm_cluster_closseness_centrality',\n",
    "       'ccm_cluster_betweeness_centrality', 'CON_Betweenness_Centrality',\n",
    "       'CON_Closeness Centrality', 'con_cluster_closseness_centrality',\n",
    "       'con_cluster_betweeness_centrality', 'louvain_label_color', 'max_abundance_month',\n",
    "       'max_abundance_month_color',\n",
    "        'daylight','depth', 'temp', 'sal', 'sig', 'O2_conc', 'O2_sat', 'chl_sens', 'CO2',\n",
    "       'pH', 'AW_frac', 'PW_frac', 'NO3_NO2', 'PO4', 'NO2', 'SiO4', 'MLD',\n",
    "       'PAR_satellite',]"
   ],
   "metadata": {
    "collapsed": false
   },
   "id": "8a86d06adaedadd2"
  },
  {
   "cell_type": "code",
   "execution_count": null,
   "outputs": [],
   "source": [
    "df_nettable = df_2[select]\n",
    "df_nettable.to_csv('data/project/fram_phages/tables/network_info_table_purple_snail.csv',sep=\",\")"
   ],
   "metadata": {
    "collapsed": false
   },
   "id": "32528612c9c67a51"
  },
  {
   "cell_type": "code",
   "execution_count": null,
   "outputs": [],
   "source": [
    "df_nettable[~df_nettable[\"LouvainLabelD\"].isnull()]"
   ],
   "metadata": {
    "collapsed": false
   },
   "id": "a36eef38f98065d0"
  },
  {
   "cell_type": "code",
   "execution_count": null,
   "outputs": [],
   "source": [
    "df_ccm = pd.read_csv(\"data/project/fram_phages/tables/Pruned_CCM_CON_MAP_Network_purple_snail.csv\",sep=\";\")\n",
    "df_ccm.columns"
   ],
   "metadata": {
    "collapsed": false
   },
   "id": "fa6ba9cfc78b3b1"
  },
  {
   "cell_type": "code",
   "execution_count": null,
   "outputs": [],
   "source": [
    "df_ccm_clean = df_ccm[['from', 'to', 'corr', 'p-value','from_clu', 'to_clu']]"
   ],
   "metadata": {
    "collapsed": false
   },
   "id": "b62c3743c516500a"
  },
  {
   "cell_type": "code",
   "execution_count": null,
   "outputs": [],
   "source": [
    "df_ccm_clean.to_csv(\"data/project/fram_phages/tables/CCM_Network_purple_snail.csv\",sep=\",\")"
   ],
   "metadata": {
    "collapsed": false
   },
   "id": "de7b91f151d98a37"
  },
  {
   "cell_type": "code",
   "execution_count": null,
   "outputs": [],
   "source": [
    "df_com = pd.read_csv(\"data/project/fram_phages/tables/Louvain_1_Pearson_FFT_Hellinger_False__16_complete_network_table_0.7_0.05_purple_snail_new.csv\",sep=\";\")\n",
    "df_com.columns"
   ],
   "metadata": {
    "collapsed": false
   },
   "id": "2705b6b20b73f7c3"
  },
  {
   "cell_type": "code",
   "execution_count": null,
   "outputs": [],
   "source": [
    "df_com"
   ],
   "metadata": {
    "collapsed": false
   },
   "id": "2e1dffc85563a8d4"
  },
  {
   "cell_type": "code",
   "execution_count": null,
   "outputs": [],
   "source": [
    "df_com_clean = df_com[['from', 'to', 'corr', 'p-value', 'p-value_adj_fdr_bh']]"
   ],
   "metadata": {
    "collapsed": false
   },
   "id": "d1b710e856eaabb5"
  },
  {
   "cell_type": "code",
   "execution_count": null,
   "outputs": [],
   "source": [
    "df_com_clean.to_csv(\"data/project/fram_phages/tables/CON_Network_purple_snail.csv\",sep=\",\")"
   ],
   "metadata": {
    "collapsed": false
   },
   "id": "7d02c4bdf4404e5"
  },
  {
   "cell_type": "code",
   "execution_count": null,
   "outputs": [],
   "source": [
    "df_nettable"
   ],
   "metadata": {
    "collapsed": false
   },
   "id": "260afdab006e956b"
  },
  {
   "cell_type": "code",
   "execution_count": null,
   "outputs": [],
   "source": [
    "df_nettable.columns"
   ],
   "metadata": {
    "collapsed": false
   },
   "id": "30c8f2ec588adf9d"
  },
  {
   "cell_type": "code",
   "execution_count": null,
   "outputs": [],
   "source": [
    "# explanation:\n",
    "\n",
    "explain_dict = {'from': \"Network_Table_Attribute: Start Node (ASV) \",\n",
    " 'to': \"Network_Table_Attribute: End Node (ASV)\",\n",
    " 'corr': \"Network_Table_Attribute: Pairwise Pearson Correlation between 'from' and 'to' Node (ASV)\",\n",
    " 'p-value': \"Network_Table_Attribute: Pairwise Pearson Correlation P-Value (Significance) between 'from' and 'to' Node (ASV)\",\n",
    " 'from_clu': \"Network_Table_Attribute: Louvain cluster of the 'from' Node (ASV)\",\n",
    " 'to_clu': \"Network_Table_Attribute: Louvain cluster of the 'to' Node (ASV)\",\n",
    " 'Kingdom':\"Network_Table_Info_Attribute: Kingdom of the Node (ASV)\",\n",
    "'Phylum':\"Network_Table_Info_Attribute: Phylum of the Node (ASV)\",\n",
    "'Class':\"Network_Table_Info_Attribute: Class of the Node (ASV)\",\n",
    "'Order':\"Network_Table_Info_Attribute: Order of the Node (ASV)\",\n",
    "'Family':\"Network_Table_Info_Attribute: Family of the Node (ASV)\",\n",
    "'Genus':\"Network_Table_Info_Attribute: Genus of the Node (ASV)\",\n",
    "'Species':\"Network_Table_Info_Attribute: Species of the Node (ASV)\",\n",
    "'LouvainLabelD':\"Network_Table_Info_Attribute: Cluster Number of the Node (ASV)\",\n",
    "'Abundance4y':\"Network_Table_Info_Attribute: Sum of Abundance over the whole time (4 years)\",\n",
    "#'ColorMonth',\n",
    "#'ColorLabel',\n",
    "'CCM_Betweenness_Centrality':\"Network_Table_Info_Attribute: Betweenness of the Node (ASV) in the whole CCM network (only if node is in CCM still present)\",\n",
    "'CCM_Closeness Centrality':\"Network_Table_Info_Attribute: Closeness of the Node (ASV) in the whole CCM network (only if node is in CCM still present)\",\n",
    "'ccm_cluster_closseness_centrality':\"Network_Table_Info_Attribute: Betweenness of the Node (ASV) in the specific cluster of CCM network (only if node is in CCM still present)\",\n",
    "'ccm_cluster_betweeness_centrality':\"Network_Table_Info_Attribute: Closeness of the Node (ASV) in the specific cluster of CCM network (only if node is in CCM still present)\",\n",
    "'CON_Betweenness_Centrality':\"Network_Table_Info_Attribute: Betweenness of the Node (ASV) in the whole CON network\",\n",
    "'CON_Closeness Centrality':\"Network_Table_Info_Attribute: Closeness of the Node (ASV) in the whole CON network\",\n",
    "'con_cluster_closseness_centrality':\"Network_Table_Info_Attribute: Betweenness of the Node (ASV) in the specific cluster of CON network\",\n",
    "'con_cluster_betweeness_centrality':\"Network_Table_Info_Attribute: Betweenness of the Node (ASV) in the specific cluster of CON network\",\n",
    "'louvain_label_color':\"Network_Table_Info_Attribute: Hexcode for the color of louvain label\",\n",
    "'max_abundance_month':\"Network_Table_Info_Attribute: Month of maximal abundance\",\n",
    "'max_abundance_month_color':\"Network_Table_Info_Attribute: Hexcode for the color of Month of maximal abundance\",\n",
    "'daylight':\"Network_Table_Info_Attribute: Environment variable from the month of maximal abundance of this Node (ASV)\",\n",
    "'depth':\"Network_Table_Info_Attribute: Environment variable from the month of maximal abundance of this Node (ASV)\",\n",
    "'temp':\"Network_Table_Info_Attribute: Environment variable from the month of maximal abundance of this Node (ASV)\",\n",
    "'sal':\"Network_Table_Info_Attribute: Environment variable from the month of maximal abundance of this Node (ASV)\",\n",
    "'sig':\"Network_Table_Info_Attribute: Environment variable from the month of maximal abundance of this Node (ASV)\",\n",
    "'O2_conc':\"Network_Table_Info_Attribute: Environment variable from the month of maximal abundance of this Node (ASV)\",\n",
    "'O2_sat':\"Network_Table_Info_Attribute: Environment variable from the month of maximal abundance of this Node (ASV)\",\n",
    "'chl_sens':\"Network_Table_Info_Attribute: Environment variable from the month of maximal abundance of this Node (ASV)\",\n",
    "'CO2':\"Network_Table_Info_Attribute: Environment variable from the month of maximal abundance of this Node (ASV)\",\n",
    "'pH':\"Network_Table_Info_Attribute: Environment variable from the month of maximal abundance of this Node (ASV)\",\n",
    "'AW_frac':\"Network_Table_Info_Attribute: Environment variable from the month of maximal abundance of this Node (ASV)\",\n",
    "'PW_frac':\"Network_Table_Info_Attribute: Environment variable from the month of maximal abundance of this Node (ASV)\",\n",
    "'NO3_NO2':\"Network_Table_Info_Attribute: Environment variable from the month of maximal abundance of this Node (ASV)\",\n",
    "'PO4':\"Network_Table_Info_Attribute: Environment variable from the month of maximal abundance of this Node (ASV)\",\n",
    "'NO2':\"Network_Table_Info_Attribute: Environment variable from the month of maximal abundance of this Node (ASV)\",\n",
    "'SiO4':\"Network_Table_Info_Attribute: Environment variable from the month of maximal abundance of this Node (ASV)\",\n",
    "'MLD':\"Network_Table_Info_Attribute: Environment variable from the month of maximal abundance of this Node (ASV)\",\n",
    "'PAR_satellite':\"Network_Table_Info_Attribute: Environment variable from the month of maximal abundance of this Node (ASV)\",\n",
    " }\n",
    "\n"
   ],
   "metadata": {
    "collapsed": false
   },
   "id": "54ee0c665b521772"
  },
  {
   "cell_type": "code",
   "execution_count": null,
   "outputs": [],
   "source": [
    "val = explain_dict.values()\n",
    "key = explain_dict.keys()\n",
    "df_ = pd.DataFrame(key)"
   ],
   "metadata": {
    "collapsed": false
   },
   "id": "44f7876c83b6afb4"
  },
  {
   "cell_type": "code",
   "execution_count": null,
   "outputs": [],
   "source": [
    "df_[\"Column_Content\"] = val"
   ],
   "metadata": {
    "collapsed": false
   },
   "id": "ce946ee49e212d5c"
  },
  {
   "cell_type": "code",
   "execution_count": null,
   "outputs": [],
   "source": [
    "df_.rename(columns={0:\"Column\"}, inplace=True)"
   ],
   "metadata": {
    "collapsed": false
   },
   "id": "f7742a58b21c6962"
  },
  {
   "cell_type": "code",
   "execution_count": null,
   "outputs": [],
   "source": [
    "df_"
   ],
   "metadata": {
    "collapsed": false
   },
   "id": "e6fab990a06f85f6"
  },
  {
   "cell_type": "code",
   "execution_count": null,
   "outputs": [],
   "source": [
    "import openpyxl\n",
    "df_.to_excel(\"data/project/fram_phages/tables/Explained_columns.xlsx\")"
   ],
   "metadata": {
    "collapsed": false
   },
   "id": "5ab3574f334434ac"
  },
  {
   "cell_type": "code",
   "execution_count": null,
   "outputs": [],
   "source": [
    "!pip install openpyxl"
   ],
   "metadata": {
    "collapsed": false
   },
   "id": "2ad105036deb1dfd"
  },
  {
   "cell_type": "code",
   "execution_count": null,
   "outputs": [],
   "source": [],
   "metadata": {
    "collapsed": false
   },
   "id": "496da71b598d43f2"
  }
 ],
 "metadata": {
  "kernelspec": {
   "display_name": "Python 3",
   "language": "python",
   "name": "python3"
  },
  "language_info": {
   "codemirror_mode": {
    "name": "ipython",
    "version": 2
   },
   "file_extension": ".py",
   "mimetype": "text/x-python",
   "name": "python",
   "nbconvert_exporter": "python",
   "pygments_lexer": "ipython2",
   "version": "2.7.6"
  }
 },
 "nbformat": 4,
 "nbformat_minor": 5
}
