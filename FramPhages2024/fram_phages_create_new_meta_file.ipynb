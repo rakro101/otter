{
 "cells": [
  {
   "cell_type": "code",
   "execution_count": null,
   "id": "initial_id",
   "metadata": {
    "collapsed": true
   },
   "outputs": [],
   "source": [
    "import pandas as pd"
   ]
  },
  {
   "cell_type": "code",
   "execution_count": null,
   "outputs": [],
   "source": [
    "\n",
    "sub_dir = \"data/project/fram_phages\"\n",
    "df_abundance = pd.read_csv(f'{sub_dir}/data/abundance.csv', sep=\";\")\n",
    "df_abundance.set_index(\"Unnamed: 0\", inplace=True)\n",
    "max_abundance_samples = df_abundance.idxmax()\n",
    "max_abundance_samples"
   ],
   "metadata": {
    "collapsed": false
   },
   "id": "7797989b0cc7202e"
  },
  {
   "cell_type": "code",
   "execution_count": null,
   "outputs": [],
   "source": [
    "max_abundance_samples_ = df_abundance.max()\n",
    "max_abundance_samples_"
   ],
   "metadata": {
    "collapsed": false
   },
   "id": "d6759dd6ccf17665"
  },
  {
   "cell_type": "code",
   "execution_count": null,
   "outputs": [],
   "source": [
    "max_abundance_table = pd.DataFrame({\n",
    "        'Nodes': max_abundance_samples.index,\n",
    "        'Sample_with_Max_Abundance': max_abundance_samples.values\n",
    "    })"
   ],
   "metadata": {
    "collapsed": false
   },
   "id": "b62d9765a52dcfe9"
  },
  {
   "cell_type": "code",
   "execution_count": null,
   "outputs": [],
   "source": [
    "max_abundance_table['Sample_with_Max_Abundance'].unique()"
   ],
   "metadata": {
    "collapsed": false
   },
   "id": "e2b3c8b690edb316"
  },
  {
   "cell_type": "code",
   "execution_count": null,
   "outputs": [],
   "source": [
    "df_env = pd.read_csv(f'{sub_dir}/data/environment_info.csv', sep=\";\", index_col=0, decimal=\",\")\n",
    "df_env"
   ],
   "metadata": {
    "collapsed": false
   },
   "id": "f842ebe5e256a6fa"
  },
  {
   "cell_type": "code",
   "execution_count": null,
   "outputs": [],
   "source": [
    "meta_data_enhanced = pd.merge(max_abundance_table, df_env, left_on=max_abundance_samples.values,\n",
    "                                  right_on=df_env.index)"
   ],
   "metadata": {
    "collapsed": false
   },
   "id": "575434411b70c998"
  },
  {
   "cell_type": "code",
   "execution_count": null,
   "outputs": [],
   "source": [
    "df_bac_meta = pd.read_csv(f'data/project/fram_phages/data/bacMeta_sec_filter.txt',sep=\"\\t\",)\n",
    "df_bac_meta.columns"
   ],
   "metadata": {
    "collapsed": false
   },
   "id": "82d3b6629d6ff0e2"
  },
  {
   "cell_type": "code",
   "execution_count": null,
   "outputs": [],
   "source": [
    "selected_columns= ['lat', 'daylight', 'depth', 'temp', 'sal', 'sig',\n",
    "       'O2_conc', 'O2_sat', 'chl_sens', 'CO2', 'pH', 'AW_frac', 'PW_frac',\n",
    "       'NO3_NO2', 'PO4', 'NO2', 'SiO4', 'iceConc', 'iceDist', 'icePast',\n",
    "       'iceDistPast', 'MLD', 'date1', 'date2', 'date3',\n",
    "       'date4', 'year', 'month','date', 'PAR_satellite']"
   ],
   "metadata": {
    "collapsed": false
   },
   "id": "4e47128c6ef0075f"
  },
  {
   "cell_type": "code",
   "execution_count": null,
   "outputs": [],
   "source": [
    "import numpy as np"
   ],
   "metadata": {
    "collapsed": false
   },
   "id": "ac79fb09394c60fb"
  },
  {
   "cell_type": "code",
   "execution_count": null,
   "outputs": [],
   "source": [
    "df_bac_meta = df_bac_meta[selected_columns]\n",
    "df_bac_meta['date'] = pd.to_datetime(df_bac_meta['date']).dt.strftime('%m-%Y')\n",
    "df_bac_meta = pd.DataFrame(df_bac_meta.groupby('date').agg(np.mean))\n",
    "#df_bac_meta.set_index('date', inplace=True)\n",
    "df_bac_meta"
   ],
   "metadata": {
    "collapsed": false
   },
   "id": "c874ef0cb7ceaf7d"
  },
  {
   "cell_type": "code",
   "execution_count": null,
   "outputs": [],
   "source": [
    "df_bac_meta.to_csv(\"data/project/fram_phages/data/meta_info.csv\",sep=\";\")"
   ],
   "metadata": {
    "collapsed": false
   },
   "id": "f378f37347503cd2"
  }
 ],
 "metadata": {
  "kernelspec": {
   "display_name": "Python 3",
   "language": "python",
   "name": "python3"
  },
  "language_info": {
   "codemirror_mode": {
    "name": "ipython",
    "version": 2
   },
   "file_extension": ".py",
   "mimetype": "text/x-python",
   "name": "python",
   "nbconvert_exporter": "python",
   "pygments_lexer": "ipython2",
   "version": "2.7.6"
  }
 },
 "nbformat": 4,
 "nbformat_minor": 5
}
