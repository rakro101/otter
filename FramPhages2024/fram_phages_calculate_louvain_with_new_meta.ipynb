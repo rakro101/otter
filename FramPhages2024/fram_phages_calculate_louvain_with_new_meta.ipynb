{
 "cells": [
  {
   "cell_type": "code",
   "execution_count": null,
   "id": "initial_id",
   "metadata": {
    "collapsed": true
   },
   "outputs": [],
   "source": [
    "import pandas as pd\n",
    "from lutra.louvain import filter_threshold, find_fewest_cluster_number, create_meta_file\n",
    "import pandas as pd\n",
    "import numpy as np\n",
    "import matplotlib.pyplot as plt\n",
    "from scipy.stats import pearsonr\n",
    "np.random.seed(42)\n",
    "mod= \"purple_snail\"\n",
    "sub_dir = \"data/project/fram_phages\"\n",
    "num_fft = 16\n",
    "\n",
    "hellinger=False\n",
    "chosen_method = \"Pearson_FFT\"\n",
    "threshold = 0.70\n",
    "alpha = 0.05\n",
    "tr = threshold\n",
    "df = pd.read_csv(f\"{sub_dir}/tables/Hellinger_{hellinger}_{num_fft}_Pearson_FFT__complete_network_table_0.7_0.05_{mod}_new.csv\", sep=\";\")\n",
    "df\n",
    "df[df[\"to\"]==\"bac_asv_1155\"]"
   ]
  },
  {
   "cell_type": "code",
   "execution_count": null,
   "outputs": [],
   "source": [
    "\n",
    "df_meta = pd.read_csv(f\"{sub_dir}/tables/Hellinger_{hellinger}_{num_fft}_Pearson_FFT__complete_network_table_meta_0.7_0.05_{mod}_new.csv\", sep=\";\")\n",
    "df_meta.rename(columns={\"Unnamed: 0\": \"Nodes\"},inplace=True)\n",
    "df_meta[df_meta[\"Nodes\"]==\"bac_asv_1155\"]\n",
    "df_meta"
   ],
   "metadata": {
    "collapsed": false
   },
   "id": "a8e3a85a678ada91"
  },
  {
   "cell_type": "code",
   "execution_count": null,
   "outputs": [],
   "source": [
    "resolutions = [1]\n",
    "res = resolutions[0]\n",
    "save_table = f\"{sub_dir}/tables/Louvain_{res}_{chosen_method}_Hellinger_{hellinger}__{num_fft}_complete_network_table_{tr}_{alpha}_{mod}_new.csv\"\n",
    "save_meta = f\"{sub_dir}/tables/Louvain_{res}_{chosen_method}_Hellinger_{hellinger}__{num_fft}_complete_network_table_meta_{tr}_{alpha}_{mod}_new.csv\"\n",
    "df = filter_threshold(df, threshold, save_table)\n",
    "ret_dict, res = find_fewest_cluster_number(df, resolutions)\n",
    "create_meta_file(ret_dict, df_meta, res, save_meta)"
   ],
   "metadata": {
    "collapsed": false
   },
   "id": "4a26de04066a67"
  },
  {
   "cell_type": "code",
   "execution_count": null,
   "outputs": [],
   "source": [],
   "metadata": {
    "collapsed": false
   },
   "id": "b00b242fd8aecb0b"
  }
 ],
 "metadata": {
  "kernelspec": {
   "display_name": "Python 3",
   "language": "python",
   "name": "python3"
  },
  "language_info": {
   "codemirror_mode": {
    "name": "ipython",
    "version": 2
   },
   "file_extension": ".py",
   "mimetype": "text/x-python",
   "name": "python",
   "nbconvert_exporter": "python",
   "pygments_lexer": "ipython2",
   "version": "2.7.6"
  }
 },
 "nbformat": 4,
 "nbformat_minor": 5
}
