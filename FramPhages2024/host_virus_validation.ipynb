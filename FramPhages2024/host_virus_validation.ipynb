{
 "cells": [
  {
   "cell_type": "code",
   "execution_count": null,
   "id": "initial_id",
   "metadata": {
    "collapsed": true,
    "jupyter": {
     "outputs_hidden": true
    }
   },
   "outputs": [],
   "source": [
    "import pandas as pd"
   ]
  },
  {
   "cell_type": "markdown",
   "id": "8da150a240467f72",
   "metadata": {
    "collapsed": false
   },
   "source": [
    "# Load the potential matches"
   ]
  },
  {
   "cell_type": "code",
   "execution_count": null,
   "id": "184a494157b24628",
   "metadata": {
    "collapsed": false
   },
   "outputs": [],
   "source": [
    "df_genome = pd.read_csv('validation/final_unique_iphop_host_genome_pred_filtered.csv',sep=\",\")\n",
    "df_genome.head()"
   ]
  },
  {
   "cell_type": "markdown",
   "id": "a11e4771af0db329",
   "metadata": {
    "collapsed": false
   },
   "source": [
    "# Map their name to our ids"
   ]
  },
  {
   "cell_type": "code",
   "execution_count": null,
   "id": "52708e87c40d247e",
   "metadata": {
    "collapsed": false
   },
   "outputs": [],
   "source": [
    "df_mapping = pd.read_csv(\"validation/ReadName2virOTU_ID.txt\",sep=\" \")\n",
    "df_mapping.set_index('Read_name',inplace=True)\n",
    "map_dict = df_mapping[\"virOTU\"].to_dict()"
   ]
  },
  {
   "cell_type": "code",
   "execution_count": null,
   "id": "cbc4cf0578ad5410",
   "metadata": {
    "collapsed": false
   },
   "outputs": [],
   "source": [
    "df_genome[\"virOTU\"] = df_genome[\"Virus\"].map(map_dict)\n",
    "df_genome.head()"
   ]
  },
  {
   "cell_type": "code",
   "execution_count": null,
   "id": "951ade32a9be8d2e",
   "metadata": {
    "collapsed": false
   },
   "outputs": [],
   "source": [
    "print(\"Number of Host virus pairs:\",df_genome.shape[0])"
   ]
  },
  {
   "cell_type": "markdown",
   "id": "d46ebd93ce76c66f",
   "metadata": {
    "collapsed": false
   },
   "source": [
    "# CCMN"
   ]
  },
  {
   "cell_type": "code",
   "execution_count": null,
   "id": "9452b91dc81995d8",
   "metadata": {
    "collapsed": false
   },
   "outputs": [],
   "source": [
    "df_ccm = pd.read_csv('tables/FramPhages2024_Hellinger_True_16_PV_CCM_CON_MAP_Network.csv',sep=\";\")\n",
    "df_ccm.head()"
   ]
  },
  {
   "cell_type": "markdown",
   "id": "17f0b1a5220dd954",
   "metadata": {
    "collapsed": false
   },
   "source": [
    "# Add Taxa"
   ]
  },
  {
   "cell_type": "code",
   "execution_count": null,
   "id": "4c90249646fa8985",
   "metadata": {
    "collapsed": false
   },
   "outputs": [],
   "source": [
    "df_taxa = pd.read_csv('data/taxa_info.csv',sep=\";\")\n",
    "df_taxa"
   ]
  },
  {
   "cell_type": "code",
   "execution_count": null,
   "outputs": [],
   "source": [
    "#df_taxa.fillna(\"virus\",inplace=True)\n",
    "df_taxa.loc[df_taxa['Kingdom'] == 'virus'] = df_taxa.loc[df_taxa['Kingdom'] == 'virus'].fillna('virus')\n",
    "asv_fam =df_taxa[[\"ASV\",\"Family\"]]\n",
    "asv_fam.set_index(\"ASV\",inplace=True)\n",
    "asv_fam_dict = asv_fam.to_dict()[\"Family\"]\n",
    "asv_fam_dict"
   ],
   "metadata": {
    "collapsed": false
   },
   "id": "2d8e5febd88b4993"
  },
  {
   "cell_type": "code",
   "execution_count": null,
   "id": "ef3140a35ecb0340",
   "metadata": {
    "collapsed": false
   },
   "outputs": [],
   "source": [
    "asv_kin =df_taxa[[\"ASV\",\"Kingdom\"]]\n",
    "asv_kin.set_index(\"ASV\",inplace=True)\n",
    "asv_kin_dict = asv_kin.to_dict()[\"Kingdom\"]\n",
    "asv_kin_dict"
   ]
  },
  {
   "cell_type": "code",
   "execution_count": null,
   "id": "de159084e317b2a4",
   "metadata": {
    "collapsed": false
   },
   "outputs": [],
   "source": [
    "df_ccm[\"from_kingdom\"] = df_ccm[\"from\"].map(asv_kin_dict)\n",
    "df_ccm[\"to_kingdom\"]= df_ccm[\"to\"].map(asv_kin_dict)"
   ]
  },
  {
   "cell_type": "code",
   "execution_count": null,
   "id": "e42420c25d802e1",
   "metadata": {
    "collapsed": false
   },
   "outputs": [],
   "source": [
    "df_ccm[\"from_family\"] = df_ccm[\"from\"].map(asv_fam_dict)\n",
    "df_ccm[\"to_family\"]= df_ccm[\"to\"].map(asv_fam_dict)\n",
    "df_ccm[\"InCCMN\"] =1"
   ]
  },
  {
   "cell_type": "code",
   "execution_count": null,
   "id": "b0eb32c1a3896cc5",
   "metadata": {
    "collapsed": false
   },
   "outputs": [],
   "source": [
    "ccm_fams = df_ccm[\"from_family\"].to_list() +df_ccm[\"to_family\"].to_list()\n",
    "ccm_virus = df_ccm[\"to\"].to_list() +df_ccm[\"from\"].to_list()\n",
    "tab_fams =df_genome[\"Families\"].to_list()\n",
    "tab_vir =df_genome[\"virOTU\"].to_list()"
   ]
  },
  {
   "cell_type": "code",
   "execution_count": null,
   "id": "64363fd97e7576c5",
   "metadata": {
    "collapsed": false
   },
   "outputs": [],
   "source": [
    "df_genome[df_genome[\"virOTU\"].isna()].to_csv(\"tables/not_found_virus_in_our_id.csv\", sep=\";\", index=False)"
   ]
  },
  {
   "cell_type": "markdown",
   "id": "56a41cf576d04f7b",
   "metadata": {
    "collapsed": false
   },
   "source": [
    "# Overlapping Families"
   ]
  },
  {
   "cell_type": "code",
   "execution_count": null,
   "id": "2b10de843d03f9d4",
   "metadata": {
    "collapsed": false
   },
   "outputs": [],
   "source": [
    "print(len(set(ccm_fams)))\n",
    "print(len(set(tab_fams)))\n",
    "print(len(set(tab_fams).intersection(set(ccm_fams))))\n",
    "print(len(set(ccm_fams).intersection(set(tab_fams))))\n",
    "shared_fams = list(set(ccm_fams).intersection(set(tab_fams)))"
   ]
  },
  {
   "cell_type": "markdown",
   "id": "c4ea0c9cab981ef4",
   "metadata": {
    "collapsed": false
   },
   "source": [
    "# Overlapping Virus"
   ]
  },
  {
   "cell_type": "code",
   "execution_count": null,
   "id": "5cd95f021c18384d",
   "metadata": {
    "collapsed": false
   },
   "outputs": [],
   "source": [
    "print(len(set(ccm_virus)))\n",
    "print(len(set(tab_vir)))\n",
    "print(len(set(tab_vir).intersection(set(ccm_virus))))\n",
    "print(len(set(ccm_virus).intersection(set(tab_vir))))\n",
    "shared_vir = list(set(ccm_virus).intersection(set(tab_vir)))"
   ]
  },
  {
   "cell_type": "markdown",
   "id": "6a6c6065ee8ff2c0",
   "metadata": {
    "collapsed": false
   },
   "source": [
    "# Find in abundance table"
   ]
  },
  {
   "cell_type": "code",
   "execution_count": null,
   "id": "c7a1a53f4e612d23",
   "metadata": {
    "collapsed": false
   },
   "outputs": [],
   "source": [
    "df_abundance = pd.read_csv(\"data/abundance.csv\",sep=\";\")\n",
    "df_abundance.set_index(\"Unnamed: 0\",inplace=True)\n",
    "all_asvs = df_abundance.columns.to_list()"
   ]
  },
  {
   "cell_type": "code",
   "execution_count": null,
   "id": "48850d29970c642a",
   "metadata": {
    "collapsed": false
   },
   "outputs": [],
   "source": [
    "print(len(set(all_asvs).intersection(set(tab_vir))))\n",
    "print(\"1 nan\")\n",
    "print(\"Sonst viren gleich => also durch CON raus\")"
   ]
  },
  {
   "cell_type": "code",
   "execution_count": null,
   "id": "6fc6487781725750",
   "metadata": {
    "collapsed": false
   },
   "outputs": [],
   "source": [
    "def return_fam(x):\n",
    "    try:\n",
    "        return asv_fam_dict[x]\n",
    "    except:\n",
    "        return \"No\"\n",
    "all_famms = [return_fam(x) for x in all_asvs]\n",
    "print(len(set(all_famms).intersection(set(tab_fams))))\n",
    "print(\"Only 34 Familie of Bacteria, keine durchs con weg\")"
   ]
  },
  {
   "cell_type": "code",
   "execution_count": null,
   "id": "2a738190e9e6bfbc",
   "metadata": {
    "collapsed": false
   },
   "outputs": [],
   "source": [
    "df_genome_search = df_genome[df_genome[(\"Families\")].isin(shared_fams) & df_genome[\"virOTU\"].isin(shared_vir)]\n",
    "df_genome_search"
   ]
  },
  {
   "cell_type": "code",
   "execution_count": null,
   "id": "997d97b5d9f53568",
   "metadata": {
    "collapsed": false
   },
   "outputs": [],
   "source": [
    "df_ccm.head()"
   ]
  },
  {
   "cell_type": "code",
   "execution_count": null,
   "id": "419e308e87549c54",
   "metadata": {
    "collapsed": false
   },
   "outputs": [],
   "source": [
    "asv_fam2 =df_taxa[[\"ASV\",\"Family\"]]\n",
    "import numpy as np\n",
    "bac_asv_list = list(set(asv_fam2[asv_fam2[\"Family\"].isin(df_genome_search[\"Families\"].to_list())][\"ASV\"].to_list()))\n",
    "print(\"number of bac asvs\",len(bac_asv_list))"
   ]
  },
  {
   "cell_type": "code",
   "execution_count": null,
   "id": "6cec12a445a55efb",
   "metadata": {
    "collapsed": false
   },
   "outputs": [],
   "source": [
    "vir_asv_list = list(set(df_genome_search[\"virOTU\"].to_list()))\n",
    "print(\"number of virus asvs\",len(vir_asv_list))"
   ]
  },
  {
   "cell_type": "code",
   "execution_count": null,
   "id": "437d05fb586490a1",
   "metadata": {
    "collapsed": false
   },
   "outputs": [],
   "source": [
    "df_genome2_from = df_genome.copy()\n",
    "df_genome2_to = df_genome.copy()\n",
    "df_genome2_from.rename(columns={\"Families\": \"to_family\", \"virOTU\": \"from\"}, inplace=True)\n",
    "df_genome2_to.rename(columns={\"Families\": \"from_family\", \"virOTU\": \"to\"}, inplace=True)\n",
    "df_genome2_from[\"left\"]=1\n",
    "df_genome2_to[\"right\"]=1"
   ]
  },
  {
   "cell_type": "code",
   "execution_count": null,
   "id": "cfcc3568feb236f4",
   "metadata": {
    "collapsed": false
   },
   "outputs": [],
   "source": [
    "df_candidates_merge =pd.merge(df_ccm, df_genome2_from, how=\"outer\", on=[\"from\", \"to_family\"])\n",
    "df_candidates_merge2 =pd.merge(df_candidates_merge, df_genome2_to, how=\"outer\", on=[\"to\", \"from_family\"])"
   ]
  },
  {
   "cell_type": "code",
   "execution_count": null,
   "id": "7605e7f72fe19467",
   "metadata": {
    "collapsed": false
   },
   "outputs": [],
   "source": [
    "df_candidates_merge.columns"
   ]
  },
  {
   "cell_type": "code",
   "execution_count": null,
   "id": "cb408c246df99f0b",
   "metadata": {
    "collapsed": false
   },
   "outputs": [],
   "source": [
    "df_candidates_merge2[(df_candidates_merge2[\"left\"]==1)&(df_candidates_merge2[\"InCCMN\"]==1)].shape"
   ]
  },
  {
   "cell_type": "code",
   "execution_count": null,
   "id": "59c630ab26d4b093",
   "metadata": {
    "collapsed": false
   },
   "outputs": [],
   "source": [
    "df_candidates_merge2[(df_candidates_merge2[\"right\"]==1)&(df_candidates_merge2[\"InCCMN\"]==1)].shape"
   ]
  },
  {
   "cell_type": "code",
   "execution_count": null,
   "id": "efd54b8b15fdfd75",
   "metadata": {
    "collapsed": false
   },
   "outputs": [],
   "source": [
    "table_prunded_network =df_candidates_merge2[((df_candidates_merge2[\"right\"]==1)  | (df_candidates_merge2[\"left\"]==1)) &(df_candidates_merge2[\"InCCMN\"]==1)]"
   ]
  },
  {
   "cell_type": "markdown",
   "id": "b07c49735e721302",
   "metadata": {
    "collapsed": false
   },
   "source": [
    "# Network with the egdes from the delivered tables"
   ]
  },
  {
   "cell_type": "code",
   "execution_count": null,
   "id": "7fd3da3cc2b9256c",
   "metadata": {
    "collapsed": false
   },
   "outputs": [],
   "source": [
    "table_prunded_network.shape"
   ]
  },
  {
   "cell_type": "code",
   "execution_count": null,
   "id": "5322a23cef7be3cf",
   "metadata": {
    "collapsed": false
   },
   "outputs": [],
   "source": [
    "table_prunded_network.columns"
   ]
  },
  {
   "cell_type": "code",
   "execution_count": null,
   "id": "b28f1989e666d938",
   "metadata": {
    "collapsed": false
   },
   "outputs": [],
   "source": [
    "table_prunded_network_save = table_prunded_network[['from', 'to', 'corr', 'from_clu', 'to_clu', 'p-value',\n",
    "       'from_kingdom', 'to_kingdom', 'from_family', 'to_family']]"
   ]
  },
  {
   "cell_type": "code",
   "execution_count": null,
   "id": "ca92f5d95a62e45b",
   "metadata": {
    "collapsed": false
   },
   "outputs": [],
   "source": [
    "table_prunded_network_save.to_csv(\"tables/table_prunded_network_without_pval.csv\", index=False, sep=\",\")\n",
    "table_prunded_network_save.shape"
   ]
  },
  {
   "cell_type": "code",
   "execution_count": null,
   "id": "c756e670bdc1b9d4",
   "metadata": {
    "collapsed": false
   },
   "outputs": [],
   "source": [
    "table_prunded_network_save.describe()"
   ]
  },
  {
   "cell_type": "code",
   "execution_count": null,
   "id": "b01b1c61101d7cb9",
   "metadata": {
    "collapsed": false
   },
   "outputs": [],
   "source": []
  },
  {
   "cell_type": "markdown",
   "id": "33ea6bd6b2c9cb4b",
   "metadata": {
    "collapsed": false
   },
   "source": [
    "# Network with significant prediction from the provided table"
   ]
  },
  {
   "cell_type": "code",
   "execution_count": null,
   "id": "b509d64931fa2af3",
   "metadata": {
    "collapsed": false
   },
   "outputs": [],
   "source": [
    "table_prunded_network_save_significant = table_prunded_network_save[table_prunded_network_save[\"p-value\"]<0.05]\n",
    "table_prunded_network_save_significant.shape"
   ]
  },
  {
   "cell_type": "code",
   "execution_count": null,
   "id": "98dc47d2f1c05f1e",
   "metadata": {
    "collapsed": false
   },
   "outputs": [],
   "source": [
    "table_prunded_network_save_significant.to_csv(\"tables/table_prunded_network_significant.csv\", index=False, sep=\",\")"
   ]
  },
  {
   "cell_type": "code",
   "execution_count": null,
   "id": "1dfaf3ee5c902b7d",
   "metadata": {
    "collapsed": false
   },
   "outputs": [],
   "source": [
    "table_prunded_network_save_significant.describe()"
   ]
  },
  {
   "cell_type": "code",
   "execution_count": null,
   "id": "4b89e3d6d95d15e8",
   "metadata": {
    "collapsed": false
   },
   "outputs": [],
   "source": [
    "table_prunded_network_save_significant[table_prunded_network_save_significant[\"from_kingdom\"]==\"virus\"].describe()"
   ]
  },
  {
   "cell_type": "code",
   "execution_count": null,
   "id": "adeb9ee247c30838",
   "metadata": {
    "collapsed": false
   },
   "outputs": [],
   "source": [
    "table_prunded_network_save_significant[table_prunded_network_save_significant[\"to_kingdom\"]==\"virus\"].describe()"
   ]
  },
  {
   "cell_type": "code",
   "execution_count": null,
   "id": "95d5f804e1c31c9c",
   "metadata": {
    "collapsed": false
   },
   "outputs": [],
   "source": [
    "table_prunded_network_save_significant[table_prunded_network_save_significant[\"from_kingdom\"]==\"virus\"]"
   ]
  },
  {
   "cell_type": "code",
   "execution_count": null,
   "outputs": [],
   "source": [
    "table_prunded_network_save_significant[table_prunded_network_save_significant[\"to_kingdom\"]==\"virus\"]"
   ],
   "metadata": {
    "collapsed": false
   },
   "id": "e9821689bfcb668e"
  },
  {
   "cell_type": "code",
   "execution_count": null,
   "outputs": [],
   "source": [],
   "metadata": {
    "collapsed": false
   },
   "id": "6fef700726807e5a"
  }
 ],
 "metadata": {
  "kernelspec": {
   "display_name": "Python 3 (ipykernel)",
   "language": "python",
   "name": "python3"
  },
  "language_info": {
   "codemirror_mode": {
    "name": "ipython",
    "version": 3
   },
   "file_extension": ".py",
   "mimetype": "text/x-python",
   "name": "python",
   "nbconvert_exporter": "python",
   "pygments_lexer": "ipython3",
   "version": "3.10.5"
  }
 },
 "nbformat": 4,
 "nbformat_minor": 5
}
