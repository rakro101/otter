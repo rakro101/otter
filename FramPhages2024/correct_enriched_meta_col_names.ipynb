{
 "cells": [
  {
   "cell_type": "code",
   "execution_count": null,
   "id": "initial_id",
   "metadata": {
    "collapsed": true
   },
   "outputs": [],
   "source": [
    "import pandas as pd"
   ]
  },
  {
   "cell_type": "code",
   "execution_count": null,
   "outputs": [],
   "source": [
    "df = pd.read_csv(\"tables/FramPhages2024_Hellinger_True_16_Enriched_Hellinger_complete_network_table_meta_CON_CCM.csv\",sep=\",\")"
   ],
   "metadata": {
    "collapsed": false
   },
   "id": "4e1bba479883d576"
  },
  {
   "cell_type": "code",
   "execution_count": null,
   "outputs": [],
   "source": [
    "df.columns"
   ],
   "metadata": {
    "collapsed": false
   },
   "id": "692366557c441a21"
  },
  {
   "cell_type": "code",
   "execution_count": null,
   "outputs": [],
   "source": [
    "new_columns = {'ASV':\"Kingdom\", 'Kingdom': \"Phylum\", 'Phylum':\"Class\", 'Class':\"Order\", 'Order':\"Family\",\n",
    "       'Family':\"Genus\", 'Genus':\"Species\", 'Species':\"Drop\"}"
   ],
   "metadata": {
    "collapsed": false
   },
   "id": "a6d01c6bfa297cca"
  },
  {
   "cell_type": "code",
   "execution_count": null,
   "outputs": [],
   "source": [
    "df.rename(columns=new_columns, inplace=True)"
   ],
   "metadata": {
    "collapsed": false
   },
   "id": "4987103ee66ae1f8"
  },
  {
   "cell_type": "code",
   "execution_count": null,
   "outputs": [],
   "source": [
    "df.drop(columns=['Drop'], inplace=True)"
   ],
   "metadata": {
    "collapsed": false
   },
   "id": "463feeb988659d5a"
  },
  {
   "cell_type": "code",
   "execution_count": null,
   "outputs": [],
   "source": [
    "df.drop(columns=['Unnamed: 0'], inplace=True)"
   ],
   "metadata": {
    "collapsed": false
   },
   "id": "14275b34d81ccdc8"
  },
  {
   "cell_type": "code",
   "execution_count": null,
   "outputs": [],
   "source": [
    "df"
   ],
   "metadata": {
    "collapsed": false
   },
   "id": "fa6e4ada0e2f72b6"
  },
  {
   "cell_type": "code",
   "execution_count": null,
   "outputs": [],
   "source": [
    "df.to_csv(\"tables/FramPhages2024_Hellinger_True_16_Enriched_Hellinger_complete_network_table_meta_CON_CCM.csv\",sep=\",\")"
   ],
   "metadata": {
    "collapsed": false
   },
   "id": "7b08a3d3da6e9128"
  },
  {
   "cell_type": "code",
   "execution_count": null,
   "outputs": [],
   "source": [],
   "metadata": {
    "collapsed": false
   },
   "id": "8ed03f473991cf1f"
  }
 ],
 "metadata": {
  "kernelspec": {
   "display_name": "Python 3",
   "language": "python",
   "name": "python3"
  },
  "language_info": {
   "codemirror_mode": {
    "name": "ipython",
    "version": 2
   },
   "file_extension": ".py",
   "mimetype": "text/x-python",
   "name": "python",
   "nbconvert_exporter": "python",
   "pygments_lexer": "ipython2",
   "version": "2.7.6"
  }
 },
 "nbformat": 4,
 "nbformat_minor": 5
}
