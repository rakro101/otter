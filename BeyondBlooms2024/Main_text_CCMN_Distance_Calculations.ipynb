{
 "cells": [
  {
   "cell_type": "code",
   "execution_count": null,
   "id": "initial_id",
   "metadata": {
    "collapsed": true
   },
   "outputs": [],
   "source": [
    "import pandas as pd\n",
    "import numpy as np\n",
    "df = pd.read_csv(\"data/F4_euk_abundance_table.csv\",sep=\";\")\n",
    "df.shape"
   ]
  },
  {
   "cell_type": "code",
   "execution_count": null,
   "outputs": [],
   "source": [
    "df.set_index(\"Unnamed: 0\",inplace=True)"
   ],
   "metadata": {
    "collapsed": false
   },
   "id": "5d127ef0915eb2fe"
  },
  {
   "cell_type": "markdown",
   "source": [
    "# Number of ASVs"
   ],
   "metadata": {
    "collapsed": false
   },
   "id": "c54c51b7de13b6d5"
  },
  {
   "cell_type": "code",
   "execution_count": null,
   "outputs": [],
   "source": [
    "df.shape[0]"
   ],
   "metadata": {
    "collapsed": false
   },
   "id": "b36bf00fbe2f0b8f"
  },
  {
   "cell_type": "code",
   "execution_count": null,
   "outputs": [],
   "source": [
    "from BeyondBlooms2024.config_file import CON_NETWORK_PATH, PRUNED_PVAL_CCMN_PATH, ENRICH, CCMN_CON_MAP_PATH,PVAL_CCMN_PATH"
   ],
   "metadata": {
    "collapsed": false
   },
   "id": "6e53bd206bd70b5a"
  },
  {
   "cell_type": "code",
   "execution_count": null,
   "outputs": [],
   "source": [
    "df_con = pd.read_csv(CON_NETWORK_PATH,sep=\";\")\n",
    "#df_ccm = pd.read_csv(CCMN_CON_MAP_PATH,sep=\";\")\n",
    "df_ccm = pd.read_csv(PRUNED_PVAL_CCMN_PATH,sep=\";\")"
   ],
   "metadata": {
    "collapsed": false
   },
   "id": "5ef09e3775ca15f1"
  },
  {
   "cell_type": "code",
   "execution_count": null,
   "outputs": [],
   "source": [
    "df_er = pd.read_csv(ENRICH,sep=\",\")"
   ],
   "metadata": {
    "collapsed": false
   },
   "id": "58db64bd31eb793a"
  },
  {
   "cell_type": "code",
   "execution_count": null,
   "outputs": [],
   "source": [
    "df_er[[\"Nodes\",\"cluster_names\"]]\n",
    "df_er_d = df_er\n",
    "df_er_d.set_index(\"Nodes\",inplace=True)\n",
    "clu_dict = df_er_d[\"cluster_names\"].to_dict()"
   ],
   "metadata": {
    "collapsed": false
   },
   "id": "9be25f9d694c007a"
  },
  {
   "cell_type": "code",
   "execution_count": null,
   "outputs": [],
   "source": [
    "df_con.shape"
   ],
   "metadata": {
    "collapsed": false
   },
   "id": "5fa9bbb48aaf5415"
  },
  {
   "cell_type": "code",
   "execution_count": null,
   "outputs": [],
   "source": [
    "df_con.head()"
   ],
   "metadata": {
    "collapsed": false
   },
   "id": "f302c6df3ebd5f99"
  },
  {
   "cell_type": "code",
   "execution_count": null,
   "outputs": [],
   "source": [
    "df_con[\"from_clu\"]=df_con[\"from\"].map(clu_dict)\n",
    "df_con[\"to_clu\"]=df_con[\"to\"].map(clu_dict)"
   ],
   "metadata": {
    "collapsed": false
   },
   "id": "e88cad4b9cf1a303"
  },
  {
   "cell_type": "code",
   "execution_count": null,
   "outputs": [],
   "source": [
    "df_con_main= df_con[(df_con[\"from_clu\"].isin(df_er[\"cluster_names\"].to_list())) & (df_con[\"to_clu\"].isin(df_er[\"cluster_names\"].to_list()))]"
   ],
   "metadata": {
    "collapsed": false
   },
   "id": "b0215fb569b5db72"
  },
  {
   "cell_type": "code",
   "execution_count": null,
   "outputs": [],
   "source": [
    "df_con_main.shape\n"
   ],
   "metadata": {
    "collapsed": false
   },
   "id": "b4b88f6a45e33a51"
  },
  {
   "cell_type": "code",
   "execution_count": null,
   "outputs": [],
   "source": [
    "nnoder = np.unique(df_con_main[\"from\"].to_list() +df_con_main[\"to\"].to_list())\n",
    "print(len(nnoder))"
   ],
   "metadata": {
    "collapsed": false
   },
   "id": "869c4b7496cc230e"
  },
  {
   "cell_type": "code",
   "execution_count": null,
   "outputs": [],
   "source": [
    "df_ccm[\"from_clu\"]=df_ccm[\"from\"].map(clu_dict)\n",
    "df_ccm[\"to_clu\"]=df_ccm[\"to\"].map(clu_dict)\n",
    "df_ccm_main= df_ccm[(df_ccm[\"from_clu\"].isin(df_er[\"cluster_names\"].to_list())) & (df_ccm[\"to_clu\"].isin(df_er[\"cluster_names\"].to_list()))]\n",
    "print(df_ccm_main.shape)\n",
    "nnoderccm = np.unique(df_ccm_main[\"from\"].to_list() +df_ccm_main[\"to\"].to_list())\n",
    "print(len(nnoderccm))"
   ],
   "metadata": {
    "collapsed": false
   },
   "id": "451e2c77e1add7a1"
  },
  {
   "cell_type": "code",
   "execution_count": null,
   "outputs": [],
   "source": [
    "df_er.columns"
   ],
   "metadata": {
    "collapsed": false
   },
   "id": "b42c3f28b00fc53b"
  },
  {
   "cell_type": "markdown",
   "source": [],
   "metadata": {
    "collapsed": false
   },
   "id": "ab7033ba77e1cc17"
  },
  {
   "cell_type": "code",
   "execution_count": null,
   "outputs": [],
   "source": [
    "euk_clu_map = df_er[[\"cluster_names\"]].to_dict()[\"cluster_names\"]\n",
    "\n",
    "euk_month_map = df_er[[\"MaxMonthName\"]].to_dict()[\"MaxMonthName\"]"
   ],
   "metadata": {
    "collapsed": false
   },
   "id": "7ca240fa928becbf"
  },
  {
   "cell_type": "code",
   "execution_count": null,
   "outputs": [],
   "source": [
    "df_ccm_NON = pd.read_csv(PVAL_CCMN_PATH,sep=\";\")"
   ],
   "metadata": {
    "collapsed": false
   },
   "id": "aa3a079190971b48"
  },
  {
   "cell_type": "code",
   "execution_count": null,
   "outputs": [],
   "source": [
    "df_ccm_non_prunded= df_ccm_NON[df_ccm_NON[\"p-value\"]>=0.05]"
   ],
   "metadata": {
    "collapsed": false
   },
   "id": "a0fd58efd9ff4a4a"
  },
  {
   "cell_type": "code",
   "execution_count": null,
   "outputs": [],
   "source": [
    "df_ccm_non_prunded"
   ],
   "metadata": {
    "collapsed": false
   },
   "id": "c0b59fa49f26843a"
  },
  {
   "cell_type": "code",
   "execution_count": null,
   "outputs": [],
   "source": [
    "df_ccm_non_prunded[\"from_clu\"] = df_ccm_non_prunded[\"from\"].map(euk_clu_map)\n",
    "df_ccm_non_prunded[\"to_clu\"] = df_ccm_non_prunded[\"to\"].map(euk_clu_map)\n",
    "df_ccm_non_prunded[\"from_mon\"] = df_ccm_non_prunded[\"from\"].map(euk_month_map)\n",
    "df_ccm_non_prunded[\"to_mon\"] = df_ccm_non_prunded[\"to\"].map(euk_month_map)\n"
   ],
   "metadata": {
    "collapsed": false
   },
   "id": "f4de06ff7d08895c"
  },
  {
   "cell_type": "code",
   "execution_count": null,
   "outputs": [],
   "source": [
    "df_ccm_non_prunded = df_ccm_non_prunded.dropna()"
   ],
   "metadata": {
    "collapsed": false
   },
   "id": "db3fc7399f02f946"
  },
  {
   "cell_type": "code",
   "execution_count": null,
   "outputs": [],
   "source": [
    "df_ccm_non_prunded.shape"
   ],
   "metadata": {
    "collapsed": false
   },
   "id": "75020b4122cf8372"
  },
  {
   "cell_type": "code",
   "execution_count": null,
   "outputs": [],
   "source": [
    "df_ccm_non_prunded[(df_ccm_non_prunded[\"from_mon\"]==\"Mar\") & (df_ccm_non_prunded[\"to_mon\"]==\"Mar\")].shape"
   ],
   "metadata": {
    "collapsed": false
   },
   "id": "c54ff6b6a1e06c83"
  },
  {
   "cell_type": "markdown",
   "source": [
    "# Pruned ASV from March"
   ],
   "metadata": {
    "collapsed": false
   },
   "id": "f07e95e79d071d6"
  },
  {
   "cell_type": "code",
   "execution_count": null,
   "outputs": [],
   "source": [
    "2297/12648"
   ],
   "metadata": {
    "collapsed": false
   },
   "id": "861ae1c09e3d03bd"
  },
  {
   "cell_type": "code",
   "execution_count": null,
   "outputs": [],
   "source": [
    "#### "
   ],
   "metadata": {
    "collapsed": false
   },
   "id": "c085dbdffdf6e4c1"
  },
  {
   "cell_type": "code",
   "execution_count": null,
   "outputs": [],
   "source": [
    "df_distance = pd.read_csv(\"tables/Sup_Figures_4_5_6_Latentspace_distance_matrix.csv\",sep=\";\")"
   ],
   "metadata": {
    "collapsed": false
   },
   "id": "1b06d64d7b2595ca"
  },
  {
   "cell_type": "code",
   "execution_count": null,
   "outputs": [],
   "source": [
    "df_distance"
   ],
   "metadata": {
    "collapsed": false
   },
   "id": "c3b8e30a3b340d86"
  },
  {
   "cell_type": "code",
   "execution_count": null,
   "outputs": [],
   "source": [
    "df_distance[\"01TA\"].iloc[2]"
   ],
   "metadata": {
    "collapsed": false
   },
   "id": "919dc7db742e3231"
  },
  {
   "cell_type": "code",
   "execution_count": null,
   "outputs": [],
   "source": [
    "clu_name_dict = {\n",
    "        \"01TA\": 0,\n",
    "        \"02TA\": 1,\n",
    "        \"03LW\":2,\n",
    "        \"04LW\": 3,\n",
    "        \"05LW\": 4,\n",
    "        \"06TS\": 5,\n",
    "        \"07TS\": 6,\n",
    "        \"08TS\": 7,\n",
    "        \"09HS\":8,\n",
    "        \"10HS\":9,\n",
    "}"
   ],
   "metadata": {
    "collapsed": false
   },
   "id": "e8970468aa988c93"
  },
  {
   "cell_type": "code",
   "execution_count": null,
   "outputs": [],
   "source": [
    "df_ccm_ = pd.read_csv(PRUNED_PVAL_CCMN_PATH,sep=\";\")"
   ],
   "metadata": {
    "collapsed": false
   },
   "id": "898a6a1632d503b0"
  },
  {
   "cell_type": "code",
   "execution_count": null,
   "outputs": [],
   "source": [
    "df_ccm_[\"from_clu\"] = df_ccm_[\"from\"].map(euk_clu_map)\n",
    "df_ccm_[\"to_clu\"] = df_ccm_[\"to\"].map(euk_clu_map)\n",
    "df_ccm_[\"from_mon\"] = df_ccm_[\"from\"].map(euk_month_map)\n",
    "df_ccm_[\"to_mon\"] = df_ccm_[\"to\"].map(euk_month_map)"
   ],
   "metadata": {
    "collapsed": false
   },
   "id": "6f63da2e1a7b3b6b"
  },
  {
   "cell_type": "code",
   "execution_count": null,
   "outputs": [],
   "source": [
    "df_ccm_.dropna(inplace=True)"
   ],
   "metadata": {
    "collapsed": false
   },
   "id": "cc33e608842a056c"
  },
  {
   "cell_type": "code",
   "execution_count": null,
   "outputs": [],
   "source": [
    "df_ccm_"
   ],
   "metadata": {
    "collapsed": false
   },
   "id": "dca0f28e448e821a"
  },
  {
   "cell_type": "code",
   "execution_count": null,
   "outputs": [],
   "source": [
    "df_ccm_[\"distance\"]= df_ccm_.apply(lambda row: df_distance[row[\"from_clu\"]].iloc[clu_name_dict[row[\"to_clu\"]]],axis=1)"
   ],
   "metadata": {
    "collapsed": false
   },
   "id": "6e04711e7c9603ef"
  },
  {
   "cell_type": "code",
   "execution_count": null,
   "outputs": [],
   "source": [
    "df_ccm_"
   ],
   "metadata": {
    "collapsed": false
   },
   "id": "3f212ca249d29f56"
  },
  {
   "cell_type": "code",
   "execution_count": null,
   "outputs": [],
   "source": [
    "df_diff_month =df_ccm_[~(df_ccm_[\"from_clu\"]==df_ccm_[\"to_clu\"])]"
   ],
   "metadata": {
    "collapsed": false
   },
   "id": "675df74afebb202f"
  },
  {
   "cell_type": "code",
   "execution_count": null,
   "outputs": [],
   "source": [
    "df_diff_month"
   ],
   "metadata": {
    "collapsed": false
   },
   "id": "ead61c6ead800483"
  },
  {
   "cell_type": "markdown",
   "source": [
    "# Procentual distribution of distances"
   ],
   "metadata": {
    "collapsed": false
   },
   "id": "9c5eb1858e1e7ee7"
  },
  {
   "cell_type": "code",
   "execution_count": null,
   "outputs": [],
   "source": [
    "df_diff_month.shape"
   ],
   "metadata": {
    "collapsed": false
   },
   "id": "656b347a4a8cad51"
  },
  {
   "cell_type": "code",
   "execution_count": null,
   "outputs": [],
   "source": [
    "df_diff_month.value_counts(\"distance\")/580"
   ],
   "metadata": {
    "collapsed": false
   },
   "id": "c07345394ccc3976"
  },
  {
   "cell_type": "code",
   "execution_count": null,
   "outputs": [],
   "source": [],
   "metadata": {
    "collapsed": false
   },
   "id": "3c4e771731f703fa"
  }
 ],
 "metadata": {
  "kernelspec": {
   "display_name": "Python 3",
   "language": "python",
   "name": "python3"
  },
  "language_info": {
   "codemirror_mode": {
    "name": "ipython",
    "version": 2
   },
   "file_extension": ".py",
   "mimetype": "text/x-python",
   "name": "python",
   "nbconvert_exporter": "python",
   "pygments_lexer": "ipython2",
   "version": "2.7.6"
  }
 },
 "nbformat": 4,
 "nbformat_minor": 5
}
