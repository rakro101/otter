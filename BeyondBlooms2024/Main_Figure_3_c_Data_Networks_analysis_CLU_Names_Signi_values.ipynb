{
 "cells": [
  {
   "cell_type": "code",
   "execution_count": null,
   "metadata": {
    "collapsed": true
   },
   "outputs": [],
   "source": [
    "import pandas as pd"
   ]
  },
  {
   "cell_type": "code",
   "execution_count": null,
   "outputs": [],
   "source": [
    "import networkx as nx\n",
    "from BeyondBlooms2024.config import name_dict\n",
    "from BeyondBlooms2024.config_file import (ABUNDANCES_FILE, CCMN_CON_MAP_PATH, CON_LOUVAIN_META_PATH,CON_LOUVAIN_NETWORK_PATH, ENRICH\n",
    ",NUM_PERMUTATIONS, NUM_SAMPLES, NUM_CORES, METADATA_FILE, PRUNED_PVAL_CCMN_PATH,PVAL_CCMN_PATH,ENRICHED_META_PATH, RANDOM_PVAL_CCMN_PATH)"
   ],
   "metadata": {
    "collapsed": false
   }
  },
  {
   "cell_type": "code",
   "execution_count": null,
   "outputs": [],
   "source": [
    "df_ccm = pd.read_csv(PRUNED_PVAL_CCMN_PATH,sep=\";\")\n",
    "df_ccm.dropna(inplace=True)\n",
    "print(df_ccm.shape)\n",
    "df_ccm.head()"
   ],
   "metadata": {
    "collapsed": false
   }
  },
  {
   "cell_type": "code",
   "execution_count": null,
   "outputs": [],
   "source": [
    "df_ccm = df_ccm[~(df_ccm['from_clu'].isin([-1]) & df_ccm['to_clu'].isin([-1]))]\n",
    "print(df_ccm.shape)"
   ],
   "metadata": {
    "collapsed": false
   }
  },
  {
   "cell_type": "code",
   "execution_count": null,
   "outputs": [],
   "source": [
    "edges_count = len(df_ccm)\n",
    "nodes_count = len(pd.concat([df_ccm['from'], df_ccm['to']]).unique())\n",
    "\n",
    "print(\"Number of edges (CCM):\", edges_count)\n",
    "print(\"Number of nodes: (CCM)\", nodes_count)"
   ],
   "metadata": {
    "collapsed": false
   }
  },
  {
   "cell_type": "code",
   "execution_count": null,
   "outputs": [],
   "source": [
    "G = nx.from_pandas_edgelist(df_ccm, 'from', 'to', ['corr', 'p-value'])\n",
    "df = df_ccm"
   ],
   "metadata": {
    "collapsed": false
   }
  },
  {
   "cell_type": "code",
   "execution_count": null,
   "outputs": [],
   "source": [
    "#df['from_clu'] = df[\"from\"].apply(lambda x: apply_dict(x, meta_dict))\n",
    "#df['to_clu'] = df[\"to\"].apply(lambda x: apply_dict(x, meta_dict))\n",
    "#df['from_clu_'] = df['from_clu']\n",
    "#df['to_clu_'] = df['to_clu']\n",
    "df['from_clu'] = df['from_clu'].apply(lambda x: name_dict[str(x)])\n",
    "df['to_clu'] = df['to_clu'].apply(lambda x: name_dict[str(x)])\n",
    "df = df[~(df['from_clu'].isin([\"RAUS\"]))]\n",
    "df = df[~(df['to_clu'].isin([\"RAUS\"]))]\n",
    "#print(df['to_clu'])\n",
    "#df"
   ],
   "metadata": {
    "collapsed": false
   }
  },
  {
   "cell_type": "code",
   "execution_count": null,
   "outputs": [],
   "source": [
    "name_dict"
   ],
   "metadata": {
    "collapsed": false
   }
  },
  {
   "cell_type": "code",
   "execution_count": null,
   "outputs": [],
   "source": [
    "def create_combined_column(row):\n",
    "    if row['from_clu'] == row['to_clu']:\n",
    "        return row['from_clu']\n",
    "    else:\n",
    "        return f\"{row['from_clu']}->{row['to_clu']}\"\n",
    "\n",
    "def create_combined_column_(row):\n",
    "    if row['from_clu'] == row['to_clu']:\n",
    "        return row['from_clu']\n",
    "    else:\n",
    "        return f\"{row['from_clu']}->\"\n",
    "\n",
    "def create_combined_column__(row):\n",
    "    if row['from_clu'] == row['to_clu']:\n",
    "        return row['from_clu']\n",
    "    else:\n",
    "        return f\"->{row['to_clu']}\"\n",
    "\n",
    "df['egdes_between_clu'] = df.apply(create_combined_column, axis=1)\n",
    "df['egdes_from_cluster'] = df.apply(create_combined_column_, axis=1)\n",
    "df['egdes_cluster'] = df.apply(create_combined_column__, axis=1)\n",
    "print(df)"
   ],
   "metadata": {
    "collapsed": false
   }
  },
  {
   "cell_type": "code",
   "execution_count": null,
   "outputs": [],
   "source": [
    "print(df['egdes_between_clu'].value_counts())"
   ],
   "metadata": {
    "collapsed": false
   }
  },
  {
   "cell_type": "code",
   "execution_count": null,
   "outputs": [],
   "source": [
    "df.columns"
   ],
   "metadata": {
    "collapsed": false
   }
  },
  {
   "cell_type": "code",
   "execution_count": null,
   "outputs": [],
   "source": [
    "# print(df['egdes_between_clu'].value_counts().index)\n",
    "import numpy as np\n",
    "from scipy import stats\n",
    "def mode(x):\n",
    "    return stats.mode(x)[0]\n",
    "#df['egdes_between_clu'] =df['egdes_between_clu'].astype(int)\n",
    "between = df.groupby(['egdes_between_clu']).aggregate({\"corr\": \"mean\", \"from_clu\": \"first\", \"to_clu\": \"first\",}).reset_index()\n",
    "between_2 = between#[~between[\"egdes_between_clu\"].isin([\"01-F\",\"02-F\",\"03-L\",\"04-L\",\"05-L\",\"06-M\",\"07-M\",\"08-M\",\"09-H\",\"10-H\"])] #ToDo: names\n",
    "print(between_2.shape)\n",
    "#between_2[\"from_clu_\"] =between_2[\"from_clu_\"].astype(int)\n",
    "#between_2[\"to_clu_\"] =between_2[\"to_clu_\"].astype(int)\n",
    "print(between_2)\n",
    "between_3 = between_2[[\"egdes_between_clu\",\"from_clu\", \"to_clu\", \"corr\"]]\n",
    "#between_3[\"from_clu_\"] =between_3[\"from_clu\"].apply(lambda x: name_dict[str(x)])\n",
    "#between_3[\"to_clu_\"] =between_3[\"to_clu\"].apply(lambda x: name_dict[str(x)])\n",
    "between_3.to_csv(\"tables/Sup_Figure_3c_network_table.csv\", sep=\";\")\n",
    "between_3"
   ],
   "metadata": {
    "collapsed": false
   }
  },
  {
   "cell_type": "code",
   "execution_count": null,
   "outputs": [],
   "source": [
    "print(between_3)"
   ],
   "metadata": {
    "collapsed": false
   }
  },
  {
   "cell_type": "code",
   "execution_count": null,
   "outputs": [],
   "source": [
    "between_4 = between[between[\"egdes_between_clu\"]!=\"RAUS\"]\n",
    "#print(between_4.head())\n",
    "df_taxa_3 = pd.read_csv(ENRICH, sep =',', engine=\"python\")\n",
    "df_taxa_3 = df_taxa_3[~df_taxa_3[\"cluster_names\"].isin([\"RAUS\"])]\n",
    "df_taxa_3.head()"
   ],
   "metadata": {
    "collapsed": false
   }
  },
  {
   "cell_type": "code",
   "execution_count": null,
   "outputs": [],
   "source": [
    "def mode_first(x):\n",
    "    modes = x.mode()\n",
    "    if isinstance(modes, pd.Series):\n",
    "        return modes.iloc[0]  # Return the first mode if it's a single value\n",
    "    elif isinstance(modes, pd.DataFrame):\n",
    "        return modes.iloc[0, 0]  # Return the first value of the first mode if it's a list\n",
    "    else:\n",
    "        return None\n",
    "    "
   ],
   "metadata": {
    "collapsed": false
   }
  },
  {
   "cell_type": "code",
   "execution_count": null,
   "outputs": [],
   "source": [
    "aad = df_taxa_3[[\"LouvainLabelD\",\"MaxMonth\",\"MaxMonthColor\",\"louvain_label_color\"]].groupby(['LouvainLabelD']).aggregate(mode_first).reset_index()\n",
    "#[[\"LouvainLabelD\", \"MaxMonth\"]]\n",
    "aad[\"Cluster\"]=aad['LouvainLabelD']\n",
    "aad.set_index(\"LouvainLabelD\",inplace=True)\n",
    "aad = aad[[\"Cluster\",\"MaxMonth\",\"MaxMonthColor\",\"louvain_label_color\"]]\n",
    "aad[\"Cluster_\"]= aad[\"Cluster\"].apply(lambda x: name_dict[str(int(x))])\n",
    "print(aad)\n",
    "aad.to_csv(\"tables/Sup_Figure_3c_table_meta.csv\", sep=\";\")"
   ],
   "metadata": {
    "collapsed": false
   }
  },
  {
   "cell_type": "code",
   "execution_count": null,
   "outputs": [],
   "source": [
    "def month_to_season(month_value:int):\n",
    "\n",
    "    month_value = int(np.round(month_value))\n",
    "    if month_value in [9,10,11]:\n",
    "        ret = \"F\"\n",
    "    elif month_value in [12,1,2]:\n",
    "        ret = \"LL\"\n",
    "    elif month_value in [3,4,5]:\n",
    "        ret = \"M\"\n",
    "    else:\n",
    "        ret = \"HL\"\n",
    "    return ret"
   ],
   "metadata": {
    "collapsed": false
   }
  },
  {
   "cell_type": "code",
   "execution_count": null,
   "outputs": [],
   "source": [
    "#df_meta.value_counts(\"LouvainLabelD\")"
   ],
   "metadata": {
    "collapsed": false
   }
  },
  {
   "cell_type": "code",
   "execution_count": null,
   "outputs": [],
   "source": [
    "df_meta = pd.read_csv(ENRICH,sep=\",\")\n",
    "meta_dict_ =df_meta[[\"Nodes\",\"cluster_names\"]]\n",
    "meta_dict_ =meta_dict_.set_index(\"Nodes\")\n",
    "meta_dict = meta_dict_.to_dict()[\"cluster_names\"]\n",
    "print(meta_dict)"
   ],
   "metadata": {
    "collapsed": false
   }
  },
  {
   "cell_type": "code",
   "execution_count": null,
   "outputs": [],
   "source": [
    "def apply_(x,ob):\n",
    "    try:\n",
    "        ret =ob[x]\n",
    "    except:\n",
    "        ret= np.nan\n",
    "    return ret"
   ],
   "metadata": {
    "collapsed": false
   }
  },
  {
   "cell_type": "code",
   "execution_count": null,
   "outputs": [],
   "source": [
    "df_table = pd.read_csv(CON_LOUVAIN_NETWORK_PATH,sep=\";\")\n",
    "df_table['from_clu'] = df_table[\"from\"].map(meta_dict)\n",
    "df_table['to_clu'] = df_table[\"to\"].map(meta_dict)\n",
    "df_table['egdes_between_clu'] = df_table.apply(create_combined_column, axis=1)\n",
    "#df_table.value_counts('egdes_between_clu')\n",
    "\n",
    "aad[\"Season\"] = aad[\"MaxMonth\"].apply(month_to_season)\n",
    "#aad[\"Season T\"] = aad[\"MaxMonthTotal\"].apply(month_to_season)\n",
    "aad2 =aad[[\"Cluster\", \"MaxMonth\", \"Season\"]]\n",
    "aad2[\"NumberOfAsv\"]= aad2[\"Cluster\"].apply(lambda x: df_meta.value_counts(\"LouvainLabelD\")[int(x)])\n",
    "#aad2[\"Connected\"] = aad2[\"NumberOfAsv\"].apply(lambda x: True if x > 10 else False)\n",
    "aad2.sort_values(by=\"Season\")\n",
    "aad2[\"NumberOfEdges CCM\"] = aad2[\"Cluster\"].apply(lambda x: apply_(df.value_counts(\"egdes_between_clu\"),int(np.round(x))))\n",
    "aad2[\"NumberOfEdges CON\"] = aad2[\"Cluster\"].apply(lambda x: apply_(df_table.value_counts('egdes_between_clu'),int(np.round(x))))\n",
    "aad2 =aad2[[\"Cluster\", \"MaxMonth\", \"Season\",\"NumberOfAsv\",\"NumberOfEdges CCM\",\"NumberOfEdges CON\"]]\n",
    "#aad2 = aad2[aad2[\"Cluster\"].isin([0,1,2,4,6,7,8,9,10,11])]\n",
    "aad2[\"Cluster\"] =aad2[\"Cluster\"].apply(lambda x: name_dict[str(int(x))])\n",
    "aad2.sort_values(\"Cluster\", inplace=True)\n",
    "aad2.to_csv(\"tables/Sup_Figure_Unknown_Cluster_overview.csv\", sep=\";\")\n",
    "aad2"
   ],
   "metadata": {
    "collapsed": false
   }
  },
  {
   "cell_type": "code",
   "execution_count": null,
   "outputs": [],
   "source": [
    "#df_meta.value_counts(\"LouvainLabelD\")"
   ],
   "metadata": {
    "collapsed": false
   }
  },
  {
   "cell_type": "code",
   "execution_count": null,
   "outputs": [],
   "source": [
    "df[\"number_of_nodes_total\"] = nodes_count\n",
    "df[\"number_of_edges_total\"] = edges_count"
   ],
   "metadata": {
    "collapsed": false
   }
  },
  {
   "cell_type": "code",
   "execution_count": null,
   "outputs": [],
   "source": [
    "df.to_csv(\"tables/Sup_ADD_CC_Network_Analyis_overview_0818.csv\", sep=\";\")"
   ],
   "metadata": {
    "collapsed": false
   }
  },
  {
   "cell_type": "code",
   "execution_count": null,
   "outputs": [],
   "source": [
    "print(df.head())"
   ],
   "metadata": {
    "collapsed": false
   }
  }
 ],
 "metadata": {
  "kernelspec": {
   "display_name": "Python 3",
   "language": "python",
   "name": "python3"
  },
  "language_info": {
   "codemirror_mode": {
    "name": "ipython",
    "version": 2
   },
   "file_extension": ".py",
   "mimetype": "text/x-python",
   "name": "python",
   "nbconvert_exporter": "python",
   "pygments_lexer": "ipython2",
   "version": "2.7.6"
  }
 },
 "nbformat": 4,
 "nbformat_minor": 0
}
