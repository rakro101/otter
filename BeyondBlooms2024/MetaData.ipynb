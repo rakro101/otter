{
 "cells": [
  {
   "cell_type": "code",
   "execution_count": null,
   "id": "initial_id",
   "metadata": {
    "collapsed": true
   },
   "outputs": [],
   "source": [
    "import pandas as pd"
   ]
  },
  {
   "cell_type": "code",
   "execution_count": null,
   "outputs": [],
   "source": [
    "df_meta = pd.read_csv('./data/meta_data.txt',sep=\"\\t\")"
   ],
   "metadata": {
    "collapsed": false
   },
   "id": "96b3e685c33aa343"
  },
  {
   "cell_type": "code",
   "execution_count": null,
   "outputs": [],
   "source": [
    "df_meta[\"date\"]=pd.to_datetime(df_meta[\"date\"])"
   ],
   "metadata": {
    "collapsed": false
   },
   "id": "fbbe7bccb3777854"
  },
  {
   "cell_type": "code",
   "execution_count": null,
   "outputs": [],
   "source": [
    "df_meta"
   ],
   "metadata": {
    "collapsed": false
   },
   "id": "bab842aa26aebf1c"
  },
  {
   "cell_type": "code",
   "execution_count": null,
   "outputs": [],
   "source": [],
   "metadata": {
    "collapsed": false
   },
   "id": "23a8b51be2a83dbd"
  },
  {
   "cell_type": "code",
   "execution_count": null,
   "outputs": [],
   "source": [
    "df_abu = pd.read_csv(\"/Users/raphaelkronberg/PycharmProjects/otter/BeyondBlooms2024/data/F4_euk_abundance_table.csv\",sep=\";\")\n",
    "dates = pd.to_datetime(df_abu[\"Unnamed: 0\"]).to_list()\n",
    "len(dates)"
   ],
   "metadata": {
    "collapsed": false
   },
   "id": "552be3939b39eb9f"
  },
  {
   "cell_type": "code",
   "execution_count": null,
   "outputs": [],
   "source": [
    "df_meta =df_meta[df_meta[\"date\"].isin(dates)]"
   ],
   "metadata": {
    "collapsed": false
   },
   "id": "358a80a66f0cfaf"
  },
  {
   "cell_type": "code",
   "execution_count": null,
   "outputs": [],
   "source": [
    "df_meta.set_index('date',inplace=True)"
   ],
   "metadata": {
    "collapsed": false
   },
   "id": "8be1bddb1b1e434e"
  },
  {
   "cell_type": "code",
   "execution_count": null,
   "outputs": [],
   "source": [
    "df_meta.columns"
   ],
   "metadata": {
    "collapsed": false
   },
   "id": "88e5f696555f419d"
  },
  {
   "cell_type": "code",
   "execution_count": null,
   "outputs": [],
   "source": [
    "df_meta_new = df_meta[['RAS_id', 'lon', 'lat', 'daylight', 'depth', 'temp', 'sal', 'sig',\n",
    "       'O2_conc', 'O2_sat', 'chl_sens', 'CO2', 'pH', 'AW_frac', 'PW_frac',\n",
    "       'NO3_NO2', 'PO4', 'NO2', 'SiO4', 'iceConc', 'iceDist', 'icePast',\n",
    "       'iceDistPast', 'MLD', 'PAR_satellite','pcr_primer']]"
   ],
   "metadata": {
    "collapsed": false
   },
   "id": "1b7ca7e9d8b2ce24"
  },
  {
   "cell_type": "code",
   "execution_count": null,
   "outputs": [],
   "source": [
    "df_meta_new.to_csv('./data/F4_euk_meta_data.csv', sep=\";\")"
   ],
   "metadata": {
    "collapsed": false
   },
   "id": "a53d18c3ee98f04"
  },
  {
   "cell_type": "code",
   "execution_count": null,
   "outputs": [],
   "source": [
    "df_meta_new.shape"
   ],
   "metadata": {
    "collapsed": false
   },
   "id": "6b65094ef530d537"
  },
  {
   "cell_type": "code",
   "execution_count": null,
   "outputs": [],
   "source": [],
   "metadata": {
    "collapsed": false
   },
   "id": "fc55106a74091745"
  },
  {
   "cell_type": "code",
   "execution_count": null,
   "outputs": [],
   "source": [],
   "metadata": {
    "collapsed": false
   },
   "id": "8495a091250b8e3"
  },
  {
   "cell_type": "code",
   "execution_count": null,
   "outputs": [],
   "source": [],
   "metadata": {
    "collapsed": false
   },
   "id": "b8f4f1d803bd6225"
  },
  {
   "cell_type": "code",
   "execution_count": null,
   "outputs": [],
   "source": [],
   "metadata": {
    "collapsed": false
   },
   "id": "eed482028ed20178"
  }
 ],
 "metadata": {
  "kernelspec": {
   "display_name": "Python 3",
   "language": "python",
   "name": "python3"
  },
  "language_info": {
   "codemirror_mode": {
    "name": "ipython",
    "version": 2
   },
   "file_extension": ".py",
   "mimetype": "text/x-python",
   "name": "python",
   "nbconvert_exporter": "python",
   "pygments_lexer": "ipython2",
   "version": "2.7.6"
  }
 },
 "nbformat": 4,
 "nbformat_minor": 5
}
