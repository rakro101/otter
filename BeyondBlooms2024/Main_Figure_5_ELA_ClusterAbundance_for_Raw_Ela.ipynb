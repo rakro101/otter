{
 "cells": [
  {
   "cell_type": "code",
   "execution_count": null,
   "metadata": {
    "collapsed": true
   },
   "outputs": [],
   "source": [
    "import pandas as pd\n",
    "import numpy as np\n",
    "from BeyondBlooms2024.config import name_dict\n",
    "from BeyondBlooms2024.config_file import (ABUNDANCES_FILE, CCMN_CON_MAP_PATH, CON_LOUVAIN_META_PATH,CON_LOUVAIN_NETWORK_PATH, ENRICH\n",
    ",NUM_PERMUTATIONS, NUM_SAMPLES, NUM_CORES, METADATA_FILE, PRUNED_PVAL_CCMN_PATH,PVAL_CCMN_PATH,ENRICHED_META_PATH, RANDOM_PVAL_CCMN_PATH)"
   ]
  },
  {
   "cell_type": "markdown",
   "source": [
    "# Env Data"
   ],
   "metadata": {
    "collapsed": false
   }
  },
  {
   "cell_type": "code",
   "execution_count": null,
   "outputs": [],
   "source": [
    "df = pd.read_csv(METADATA_FILE, sep=\";\")\n",
    "df_env_F4 = df\n",
    "df_env_F4 = df_env_F4.set_index(\"date\")\n",
    "df_env_F4.index = pd.to_datetime(df_env_F4.index)\n",
    "df_env_F4.columns#'PAR_satellite'\n",
    "print(len(df_env_F4))\n",
    "#df_env_F4 = df_env_F4.loc['2016-08-01':'2020-07-31']\n",
    "print(df_env_F4)\n",
    "cols =['MLD', 'PAR_satellite', 'temp', \"sal\", \"PW_frac\", \"O2_conc\",\"depth\"]# df_env_F4.columns#\n",
    "# corr with only one mooring ASV\n",
    "df_env = df_env_F4[cols]\n",
    "window_size = 8  # You can adjust this as needed\n",
    "df_env = df_env.reset_index()\n",
    "for i in range(len(df_env)):\n",
    "    if pd.isna(df_env.at[i, 'O2_conc']):\n",
    "        # Calculate the rolling mean for the neighborhood around the NaN value\n",
    "        start = max(0, i - (window_size // 2))\n",
    "        end = min(len(df_env), i + (window_size // 2) + 1)\n",
    "        neighborhood_mean = df_env['O2_conc'][start:end].mean()\n",
    "\n",
    "        # Replace NaN with the neighborhood mean\n",
    "        df_env.at[i, 'O2_conc'] = neighborhood_mean\n",
    "# Now, df_env will have NaN values in the \"pH\" column replaced with rolling mean values around them\n",
    "print(df_env)\n",
    "df_env.set_index(\"date\", inplace=True)\n",
    "#print(df_env)\n",
    "df_env.to_csv(\"/Users/raphaelkronberg/PycharmProjects/ELLEN/CCMN_Paper_Submission/data/Env_data.csv\", sep=\";\")"
   ],
   "metadata": {
    "collapsed": false
   }
  },
  {
   "cell_type": "code",
   "execution_count": null,
   "outputs": [],
   "source": [
    "df_env_time = df_env[[\"MLD\"]]\n",
    "df_env_time"
   ],
   "metadata": {
    "collapsed": false
   }
  },
  {
   "cell_type": "markdown",
   "source": [
    "# Taxa and Labels"
   ],
   "metadata": {
    "collapsed": false
   }
  },
  {
   "cell_type": "code",
   "execution_count": null,
   "outputs": [],
   "source": [
    "df_taxa = pd.read_csv(ENRICH, sep =',', engine=\"python\")\n",
    "df_taxa.shape"
   ],
   "metadata": {
    "collapsed": false
   }
  },
  {
   "cell_type": "code",
   "execution_count": null,
   "outputs": [],
   "source": [
    "def get_dict(col = \"Class\"):\n",
    "    df_taxa_temp =df_taxa[[\"Nodes\",col]]\n",
    "    df_taxa_temp.set_index(\"Nodes\", inplace=True)\n",
    "    d_ = df_taxa_temp.to_dict()[col]\n",
    "    return d_"
   ],
   "metadata": {
    "collapsed": false
   }
  },
  {
   "cell_type": "markdown",
   "source": [
    "# Abundance Table"
   ],
   "metadata": {
    "collapsed": false
   }
  },
  {
   "cell_type": "code",
   "execution_count": null,
   "outputs": [],
   "source": [
    "df_abundance = pd.read_csv(ABUNDANCES_FILE,sep=\";\")\n",
    "df_abundance[\"Unnamed: 0\"]= pd.to_datetime(df_abundance[\"Unnamed: 0\"])\n",
    "df_abundance.set_index(\"Unnamed: 0\",inplace=True)\n",
    "# Hellinger Normalize\n",
    "#df_sqrt = np.sqrt(df_abundance)\n",
    "#row_norms = np.linalg.norm(df_sqrt, axis=1)\n",
    "#df_normalized = df_sqrt.div(row_norms, axis=0)\n",
    "#df_abundance = df_normalized\n",
    "df_abu= df_abundance.join(df_env_time, how=\"inner\")\n",
    "df_abu.drop(columns=[\"MLD\"],inplace=True)\n",
    "df_abundance=df_abu\n",
    "df_abu[\"count\"]=1\n",
    "df_abu = df_abu[[\"count\"]]"
   ],
   "metadata": {
    "collapsed": false
   }
  },
  {
   "cell_type": "code",
   "execution_count": null,
   "outputs": [],
   "source": [
    "print(df_env.shape)\n",
    "df_env_ =df_env.join(df_abu, how=\"inner\")\n",
    "print(df_env_.shape)\n",
    "df_env_.drop(columns=[\"count\"],inplace=True)\n",
    "df_env_.to_csv(\"/Users/raphaelkronberg/PycharmProjects/ELLEN/CCMN_Paper_Submission/data/Raw_Env_data.csv\", sep=\";\")\n",
    "print(df_env_.shape)"
   ],
   "metadata": {
    "collapsed": false
   }
  },
  {
   "cell_type": "code",
   "execution_count": null,
   "outputs": [],
   "source": [
    "df_env_"
   ],
   "metadata": {
    "collapsed": false
   }
  },
  {
   "cell_type": "markdown",
   "source": [
    "# Create Clusters"
   ],
   "metadata": {
    "collapsed": false
   }
  },
  {
   "cell_type": "code",
   "execution_count": null,
   "outputs": [],
   "source": [
    "clu_list = df_taxa[\"cluster_names\"].unique().tolist()\n",
    "clu_list.sort()\n",
    "clu_list"
   ],
   "metadata": {
    "collapsed": false
   }
  },
  {
   "cell_type": "code",
   "execution_count": null,
   "outputs": [],
   "source": [
    "from BeyondBlooms2024.config import name_dict\n",
    "# ToDo Name\n",
    "for clu in clu_list:\n",
    "    print(clu)\n",
    "    temp_df = df_abundance[df_taxa[df_taxa[\"cluster_names\"]==clu][\"Nodes\"].tolist()]\n",
    "    #print(temp_df.shape, clu)\n",
    "    #print(temp_df.head(2))\n",
    "    temp_df.to_csv(f\"/Users/raphaelkronberg/PycharmProjects/ELLEN/CCMN_Paper_Submission/data/Raw_Ela_Cluster_{clu}.csv\", sep=\";\")\n",
    "    print(f\"/Users/raphaelkronberg/PycharmProjects/ELLEN/CCMN_Paper_Submission/data/Raw_Ela_Cluster_{clu}.csv\")"
   ],
   "metadata": {
    "collapsed": false
   }
  },
  {
   "cell_type": "code",
   "execution_count": null,
   "outputs": [],
   "source": [
    "df_taxa.columns"
   ],
   "metadata": {
    "collapsed": false
   }
  },
  {
   "cell_type": "code",
   "execution_count": null,
   "outputs": [],
   "source": [
    "cluster_nos = df_taxa[[\"Nodes\",\"max_abundance_month\",\"cluster_names\"]]"
   ],
   "metadata": {
    "collapsed": false
   }
  },
  {
   "cell_type": "code",
   "execution_count": null,
   "outputs": [],
   "source": [
    "cluster_nos"
   ],
   "metadata": {
    "collapsed": false
   }
  },
  {
   "cell_type": "code",
   "execution_count": null,
   "outputs": [],
   "source": [
    "[\"/Users/raphaelkronberg/PycharmProjects/ELLEN/CCMN_Paper/tables/woSeason/Raw_NMDS_coordinates_for_REla_with_env__mod_withoutSeason_01-F_-09-|-10-|-11-_tr0.02.csv\",\n",
    "\"/Users/raphaelkronberg/PycharmProjects/ELLEN/CCMN_Paper/tables/woSeason/Raw_NMDS_coordinates_for_REla_with_env__mod_withoutSeason_02-F_-09-|-10-|-11-_tr0.02.csv\",\n",
    "\"/Users/raphaelkronberg/PycharmProjects/ELLEN/CCMN_Paper/tables/woSeason/Raw_NMDS_coordinates_for_REla_with_env__mod_withoutSeason_03-L_-12-|-01-|-02-_tr0.002.csv\",\n",
    "\"/Users/raphaelkronberg/PycharmProjects/ELLEN/CCMN_Paper/tables/woSeason/Raw_NMDS_coordinates_for_REla_with_env__mod_withoutSeason_04-L_-12-|-01-|-02-_tr0.002.csv\",\n",
    "\"/Users/raphaelkronberg/PycharmProjects/ELLEN/CCMN_Paper/tables/woSeason/Raw_NMDS_coordinates_for_REla_with_env__mod_withoutSeason_05-L_-12-|-01-|-02-_tr0.002.csv\",\n",
    "\"/Users/raphaelkronberg/PycharmProjects/ELLEN/CCMN_Paper/tables/woSeason/Raw_NMDS_coordinates_for_REla_with_env__mod_withoutSeason_06-M_-03-|-04-|-05-_tr0.02.csv\",\n",
    "\"/Users/raphaelkronberg/PycharmProjects/ELLEN/CCMN_Paper/tables/woSeason/Raw_NMDS_coordinates_for_REla_with_env__mod_withoutSeason_07-M_-03-|-04-|-05-_tr0.02.csv\",\n",
    "\"/Users/raphaelkronberg/PycharmProjects/ELLEN/CCMN_Paper/tables/woSeason/Raw_NMDS_coordinates_for_REla_with_env__mod_withoutSeason_08-M_-03-|-04-|-05-_tr0.02.csv\",\n",
    "\"/Users/raphaelkronberg/PycharmProjects/ELLEN/CCMN_Paper/tables/woSeason/Raw_NMDS_coordinates_for_REla_with_env__mod_withoutSeason_09-H_-06-|-07-|-08-_tr0.02.csv\",\n",
    "\"/Users/raphaelkronberg/PycharmProjects/ELLEN/CCMN_Paper/tables/woSeason/Raw_NMDS_coordinates_for_REla_with_env__mod_withoutSeason_10-H_-06-|-07-|-08-_tr0.02.csv\",\n",
    "]"
   ],
   "metadata": {
    "collapsed": false
   }
  }
 ],
 "metadata": {
  "kernelspec": {
   "display_name": "Python 3",
   "language": "python",
   "name": "python3"
  },
  "language_info": {
   "codemirror_mode": {
    "name": "ipython",
    "version": 2
   },
   "file_extension": ".py",
   "mimetype": "text/x-python",
   "name": "python",
   "nbconvert_exporter": "python",
   "pygments_lexer": "ipython2",
   "version": "2.7.6"
  }
 },
 "nbformat": 4,
 "nbformat_minor": 0
}
