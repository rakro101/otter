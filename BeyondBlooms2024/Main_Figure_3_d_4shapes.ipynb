{
 "cells": [
  {
   "cell_type": "code",
   "execution_count": 37,
   "metadata": {
    "collapsed": true,
    "ExecuteTime": {
     "end_time": "2024-04-17T14:17:36.373618Z",
     "start_time": "2024-04-17T14:17:36.327537Z"
    }
   },
   "outputs": [],
   "source": [
    "import pandas as pd\n",
    "import numpy as np\n",
    "#from config import name_dict, color_dict\n",
    "from BeyondBlooms2024.config import name_dict, color_dict\n",
    "from BeyondBlooms2024.config_file import (ABUNDANCES_FILE, CCMN_CON_MAP_PATH, CON_LOUVAIN_META_PATH,CON_LOUVAIN_NETWORK_PATH\n",
    ",NUM_PERMUTATIONS, NUM_SAMPLES, NUM_CORES, METADATA_FILE, PRUNED_PVAL_CCMN_PATH,PVAL_CCMN_PATH,ENRICH, RANDOM_PVAL_CCMN_PATH, TAXA_FILE)"
   ]
  },
  {
   "cell_type": "code",
   "execution_count": 38,
   "outputs": [
    {
     "data": {
      "text/plain": "         Nodes    Kingdom      Phylum                Class  \\\n0  euk_asv1002  Eukaryota   Sagenista  Labyrinthulomycetes   \n1  euk_asv1004  Eukaryota  Ochrophyta      Bacillariophyta   \n2  euk_asv1005  Eukaryota    Cercozoa    Filosa-Imbricatea   \n3  euk_asv1006  Eukaryota  Radiolaria           Acantharea   \n4  euk_asv1008  Eukaryota     Picozoa           Picozoa uc   \n\n                  Order            Family                Genus  \\\n0       Labyrinthulales  Labyrinthulaceae  Labyrinthulaceae uc   \n1    Bacillariophyta uc    Raphid-pennate             Navicula   \n2  Filosa-Imbricatea uc     Novel-clade-2     Novel-clade-2 uc   \n3         Acantharea uc     Acantharea uc        Acantharea uc   \n4            Picozoa uc        Picozoa uc           Picozoa uc   \n\n                   Species  LouvainLabelD  LouvainLabelD_res  ...  \\\n0  Labyrinthulaceae uc_sp.           15.0                1.0  ...   \n1              Navicula uc            9.0                1.0  ...   \n2     Novel-clade-2 uc_sp.            8.0                1.0  ...   \n3        Acantharea uc_sp.            1.0                1.0  ...   \n4           Picozoa uc_sp.            2.0                1.0  ...   \n\n   CON_Betweenness_Centrality CON_Closeness Centrality  \\\n0                    0.000002                 0.319624   \n1                    0.000002                 0.062326   \n2                    0.000072                 0.256959   \n3                    0.000216                 0.183947   \n4                    0.000027                 0.204819   \n\n  con_cluster_closseness_centrality  con_cluster_betweeness_centrality  \\\n0                          0.591667                           0.003234   \n1                          0.428571                           0.006125   \n2                          0.435583                           0.006003   \n3                          0.496815                           0.039119   \n4                          0.331742                           0.001249   \n\n   louvain_label_color  cluster_names  cluster_color  MaxMonth  MaxMonthColor  \\\n0              #FF7F00           07TS        #E9C1EC         3        #41AE76   \n1              #33FFC9           04LW        #9C55CF         4        #238B45   \n2              #C933FF           03LW        #4D637D         2        #084594   \n3              #33FF57           09HS        #4F9991         6        #88419D   \n4              #5733FF           01TA        #54CABE         8        #C994C7   \n\n   MaxMonthName  \n0           Mar  \n1           Apr  \n2           Feb  \n3           Jun  \n4           Aug  \n\n[5 rows x 54 columns]",
      "text/html": "<div>\n<style scoped>\n    .dataframe tbody tr th:only-of-type {\n        vertical-align: middle;\n    }\n\n    .dataframe tbody tr th {\n        vertical-align: top;\n    }\n\n    .dataframe thead th {\n        text-align: right;\n    }\n</style>\n<table border=\"1\" class=\"dataframe\">\n  <thead>\n    <tr style=\"text-align: right;\">\n      <th></th>\n      <th>Nodes</th>\n      <th>Kingdom</th>\n      <th>Phylum</th>\n      <th>Class</th>\n      <th>Order</th>\n      <th>Family</th>\n      <th>Genus</th>\n      <th>Species</th>\n      <th>LouvainLabelD</th>\n      <th>LouvainLabelD_res</th>\n      <th>...</th>\n      <th>CON_Betweenness_Centrality</th>\n      <th>CON_Closeness Centrality</th>\n      <th>con_cluster_closseness_centrality</th>\n      <th>con_cluster_betweeness_centrality</th>\n      <th>louvain_label_color</th>\n      <th>cluster_names</th>\n      <th>cluster_color</th>\n      <th>MaxMonth</th>\n      <th>MaxMonthColor</th>\n      <th>MaxMonthName</th>\n    </tr>\n  </thead>\n  <tbody>\n    <tr>\n      <th>0</th>\n      <td>euk_asv1002</td>\n      <td>Eukaryota</td>\n      <td>Sagenista</td>\n      <td>Labyrinthulomycetes</td>\n      <td>Labyrinthulales</td>\n      <td>Labyrinthulaceae</td>\n      <td>Labyrinthulaceae uc</td>\n      <td>Labyrinthulaceae uc_sp.</td>\n      <td>15.0</td>\n      <td>1.0</td>\n      <td>...</td>\n      <td>0.000002</td>\n      <td>0.319624</td>\n      <td>0.591667</td>\n      <td>0.003234</td>\n      <td>#FF7F00</td>\n      <td>07TS</td>\n      <td>#E9C1EC</td>\n      <td>3</td>\n      <td>#41AE76</td>\n      <td>Mar</td>\n    </tr>\n    <tr>\n      <th>1</th>\n      <td>euk_asv1004</td>\n      <td>Eukaryota</td>\n      <td>Ochrophyta</td>\n      <td>Bacillariophyta</td>\n      <td>Bacillariophyta uc</td>\n      <td>Raphid-pennate</td>\n      <td>Navicula</td>\n      <td>Navicula uc</td>\n      <td>9.0</td>\n      <td>1.0</td>\n      <td>...</td>\n      <td>0.000002</td>\n      <td>0.062326</td>\n      <td>0.428571</td>\n      <td>0.006125</td>\n      <td>#33FFC9</td>\n      <td>04LW</td>\n      <td>#9C55CF</td>\n      <td>4</td>\n      <td>#238B45</td>\n      <td>Apr</td>\n    </tr>\n    <tr>\n      <th>2</th>\n      <td>euk_asv1005</td>\n      <td>Eukaryota</td>\n      <td>Cercozoa</td>\n      <td>Filosa-Imbricatea</td>\n      <td>Filosa-Imbricatea uc</td>\n      <td>Novel-clade-2</td>\n      <td>Novel-clade-2 uc</td>\n      <td>Novel-clade-2 uc_sp.</td>\n      <td>8.0</td>\n      <td>1.0</td>\n      <td>...</td>\n      <td>0.000072</td>\n      <td>0.256959</td>\n      <td>0.435583</td>\n      <td>0.006003</td>\n      <td>#C933FF</td>\n      <td>03LW</td>\n      <td>#4D637D</td>\n      <td>2</td>\n      <td>#084594</td>\n      <td>Feb</td>\n    </tr>\n    <tr>\n      <th>3</th>\n      <td>euk_asv1006</td>\n      <td>Eukaryota</td>\n      <td>Radiolaria</td>\n      <td>Acantharea</td>\n      <td>Acantharea uc</td>\n      <td>Acantharea uc</td>\n      <td>Acantharea uc</td>\n      <td>Acantharea uc_sp.</td>\n      <td>1.0</td>\n      <td>1.0</td>\n      <td>...</td>\n      <td>0.000216</td>\n      <td>0.183947</td>\n      <td>0.496815</td>\n      <td>0.039119</td>\n      <td>#33FF57</td>\n      <td>09HS</td>\n      <td>#4F9991</td>\n      <td>6</td>\n      <td>#88419D</td>\n      <td>Jun</td>\n    </tr>\n    <tr>\n      <th>4</th>\n      <td>euk_asv1008</td>\n      <td>Eukaryota</td>\n      <td>Picozoa</td>\n      <td>Picozoa uc</td>\n      <td>Picozoa uc</td>\n      <td>Picozoa uc</td>\n      <td>Picozoa uc</td>\n      <td>Picozoa uc_sp.</td>\n      <td>2.0</td>\n      <td>1.0</td>\n      <td>...</td>\n      <td>0.000027</td>\n      <td>0.204819</td>\n      <td>0.331742</td>\n      <td>0.001249</td>\n      <td>#5733FF</td>\n      <td>01TA</td>\n      <td>#54CABE</td>\n      <td>8</td>\n      <td>#C994C7</td>\n      <td>Aug</td>\n    </tr>\n  </tbody>\n</table>\n<p>5 rows × 54 columns</p>\n</div>"
     },
     "execution_count": 38,
     "metadata": {},
     "output_type": "execute_result"
    }
   ],
   "source": [
    "df_meta = pd.read_csv(ENRICH,sep=\",\")\n",
    "df_meta = df_meta[df_meta[\"cluster_names\"]!=\"RAUS\"]\n",
    "df_meta.head()"
   ],
   "metadata": {
    "collapsed": false,
    "ExecuteTime": {
     "end_time": "2024-04-17T14:17:36.388305Z",
     "start_time": "2024-04-17T14:17:36.375810Z"
    }
   }
  },
  {
   "cell_type": "code",
   "execution_count": 39,
   "outputs": [],
   "source": [
    "df = pd.read_csv(PRUNED_PVAL_CCMN_PATH,sep=\";\")\n",
    "df[\"from_clu\"] = df[\"from_clu\"].apply(lambda x : name_dict[str(x)])\n",
    "df[\"to_clu\"] = df[\"to_clu\"].apply(lambda x : name_dict[str(x)])\n",
    "df = df[df[\"from_clu\"]!=\"RAUS\"]\n",
    "df = df[df[\"to_clu\"]!=\"RAUS\"]"
   ],
   "metadata": {
    "collapsed": false,
    "ExecuteTime": {
     "end_time": "2024-04-17T14:17:36.410610Z",
     "start_time": "2024-04-17T14:17:36.389036Z"
    }
   }
  },
  {
   "cell_type": "code",
   "execution_count": 40,
   "outputs": [
    {
     "data": {
      "text/plain": "           Nodes    Kingdom          Phylum                Class  \\\n0    euk_asv1002  Eukaryota       Sagenista  Labyrinthulomycetes   \n1    euk_asv1004  Eukaryota      Ochrophyta      Bacillariophyta   \n2    euk_asv1005  Eukaryota        Cercozoa    Filosa-Imbricatea   \n3    euk_asv1006  Eukaryota      Radiolaria           Acantharea   \n4    euk_asv1008  Eukaryota         Picozoa           Picozoa uc   \n..           ...        ...             ...                  ...   \n930   euk_asv989  Eukaryota   Mesomycetozoa        Ichthyosporea   \n931    euk_asv99  Eukaryota  Dinoflagellata          Dinophyceae   \n932   euk_asv992  Eukaryota  Dinoflagellata          Dinophyceae   \n933   euk_asv993  Eukaryota      Ochrophyta        Bolidophyceae   \n934   euk_asv999  Eukaryota      Ochrophyta        Bolidophyceae   \n\n                    Order                     Family  \\\n0         Labyrinthulales           Labyrinthulaceae   \n1      Bacillariophyta uc             Raphid-pennate   \n2    Filosa-Imbricatea uc              Novel-clade-2   \n3           Acantharea uc              Acantharea uc   \n4              Picozoa uc                 Picozoa uc   \n..                    ...                        ...   \n930       Ichthyosphonida  Abeoformidae_Group_MAIP_2   \n931            Suessiales                Suessiaceae   \n932          Peridiniales            Peridiniales uc   \n933              Parmales             Parmales_env_3   \n934              Parmales               Triparmaceae   \n\n                            Genus                           Species  \\\n0             Labyrinthulaceae uc           Labyrinthulaceae uc_sp.   \n1                        Navicula                       Navicula uc   \n2                Novel-clade-2 uc              Novel-clade-2 uc_sp.   \n3                   Acantharea uc                 Acantharea uc_sp.   \n4                      Picozoa uc                    Picozoa uc_sp.   \n..                            ...                               ...   \n930  Abeoformidae_Group_MAIP_2 uc  Abeoformidae_Group_MAIP_2 uc_sp.   \n931                   Protodinium               Protodinium_simplex   \n932               Peridiniales uc                   Peridiniales uc   \n933               Parmales_env_3B               Parmales_env_3B_sp.   \n934                      Triparma             Triparma_laevis_clade   \n\n     LouvainLabelD  LouvainLabelD_res  ...  CON_Betweenness_Centrality  \\\n0             15.0                1.0  ...                    0.000002   \n1              9.0                1.0  ...                    0.000002   \n2              8.0                1.0  ...                    0.000072   \n3              1.0                1.0  ...                    0.000216   \n4              2.0                1.0  ...                    0.000027   \n..             ...                ...  ...                         ...   \n930            2.0                1.0  ...                    0.000000   \n931            5.0                1.0  ...                    0.000021   \n932            7.0                1.0  ...                    0.000006   \n933            5.0                1.0  ...                    0.000250   \n934            1.0                1.0  ...                    0.000101   \n\n    CON_Closeness Centrality con_cluster_closseness_centrality  \\\n0                   0.319624                          0.591667   \n1                   0.062326                          0.428571   \n2                   0.256959                          0.435583   \n3                   0.183947                          0.496815   \n4                   0.204819                          0.331742   \n..                       ...                               ...   \n930                 0.000000                               NaN   \n931                 0.004289                          0.329968   \n932                 0.120228                          0.295154   \n933                 0.241364                          0.430546   \n934                 0.143724                          0.362791   \n\n     con_cluster_betweeness_centrality  louvain_label_color  cluster_names  \\\n0                             0.003234              #FF7F00           07TS   \n1                             0.006125              #33FFC9           04LW   \n2                             0.006003              #C933FF           03LW   \n3                             0.039119              #33FF57           09HS   \n4                             0.001249              #5733FF           01TA   \n..                                 ...                  ...            ...   \n930                                NaN              #5733FF           01TA   \n931                           0.018520              #FF33E2           10HS   \n932                           0.029851              #FFC933           05LW   \n933                           0.020413              #FF33E2           10HS   \n934                           0.000817              #33FF57           09HS   \n\n     cluster_color  MaxMonth  MaxMonthColor  MaxMonthName  \n0          #E9C1EC         3        #41AE76           Mar  \n1          #9C55CF         4        #238B45           Apr  \n2          #4D637D         2        #084594           Feb  \n3          #4F9991         6        #88419D           Jun  \n4          #54CABE         8        #C994C7           Aug  \n..             ...       ...            ...           ...  \n930        #54CABE         9        #EC7014           Sep  \n931        #59A0F2         8        #C994C7           Aug  \n932        #FAB573         1        #2171B5           Jan  \n933        #59A0F2         8        #C994C7           Aug  \n934        #4F9991         6        #88419D           Jun  \n\n[935 rows x 54 columns]",
      "text/html": "<div>\n<style scoped>\n    .dataframe tbody tr th:only-of-type {\n        vertical-align: middle;\n    }\n\n    .dataframe tbody tr th {\n        vertical-align: top;\n    }\n\n    .dataframe thead th {\n        text-align: right;\n    }\n</style>\n<table border=\"1\" class=\"dataframe\">\n  <thead>\n    <tr style=\"text-align: right;\">\n      <th></th>\n      <th>Nodes</th>\n      <th>Kingdom</th>\n      <th>Phylum</th>\n      <th>Class</th>\n      <th>Order</th>\n      <th>Family</th>\n      <th>Genus</th>\n      <th>Species</th>\n      <th>LouvainLabelD</th>\n      <th>LouvainLabelD_res</th>\n      <th>...</th>\n      <th>CON_Betweenness_Centrality</th>\n      <th>CON_Closeness Centrality</th>\n      <th>con_cluster_closseness_centrality</th>\n      <th>con_cluster_betweeness_centrality</th>\n      <th>louvain_label_color</th>\n      <th>cluster_names</th>\n      <th>cluster_color</th>\n      <th>MaxMonth</th>\n      <th>MaxMonthColor</th>\n      <th>MaxMonthName</th>\n    </tr>\n  </thead>\n  <tbody>\n    <tr>\n      <th>0</th>\n      <td>euk_asv1002</td>\n      <td>Eukaryota</td>\n      <td>Sagenista</td>\n      <td>Labyrinthulomycetes</td>\n      <td>Labyrinthulales</td>\n      <td>Labyrinthulaceae</td>\n      <td>Labyrinthulaceae uc</td>\n      <td>Labyrinthulaceae uc_sp.</td>\n      <td>15.0</td>\n      <td>1.0</td>\n      <td>...</td>\n      <td>0.000002</td>\n      <td>0.319624</td>\n      <td>0.591667</td>\n      <td>0.003234</td>\n      <td>#FF7F00</td>\n      <td>07TS</td>\n      <td>#E9C1EC</td>\n      <td>3</td>\n      <td>#41AE76</td>\n      <td>Mar</td>\n    </tr>\n    <tr>\n      <th>1</th>\n      <td>euk_asv1004</td>\n      <td>Eukaryota</td>\n      <td>Ochrophyta</td>\n      <td>Bacillariophyta</td>\n      <td>Bacillariophyta uc</td>\n      <td>Raphid-pennate</td>\n      <td>Navicula</td>\n      <td>Navicula uc</td>\n      <td>9.0</td>\n      <td>1.0</td>\n      <td>...</td>\n      <td>0.000002</td>\n      <td>0.062326</td>\n      <td>0.428571</td>\n      <td>0.006125</td>\n      <td>#33FFC9</td>\n      <td>04LW</td>\n      <td>#9C55CF</td>\n      <td>4</td>\n      <td>#238B45</td>\n      <td>Apr</td>\n    </tr>\n    <tr>\n      <th>2</th>\n      <td>euk_asv1005</td>\n      <td>Eukaryota</td>\n      <td>Cercozoa</td>\n      <td>Filosa-Imbricatea</td>\n      <td>Filosa-Imbricatea uc</td>\n      <td>Novel-clade-2</td>\n      <td>Novel-clade-2 uc</td>\n      <td>Novel-clade-2 uc_sp.</td>\n      <td>8.0</td>\n      <td>1.0</td>\n      <td>...</td>\n      <td>0.000072</td>\n      <td>0.256959</td>\n      <td>0.435583</td>\n      <td>0.006003</td>\n      <td>#C933FF</td>\n      <td>03LW</td>\n      <td>#4D637D</td>\n      <td>2</td>\n      <td>#084594</td>\n      <td>Feb</td>\n    </tr>\n    <tr>\n      <th>3</th>\n      <td>euk_asv1006</td>\n      <td>Eukaryota</td>\n      <td>Radiolaria</td>\n      <td>Acantharea</td>\n      <td>Acantharea uc</td>\n      <td>Acantharea uc</td>\n      <td>Acantharea uc</td>\n      <td>Acantharea uc_sp.</td>\n      <td>1.0</td>\n      <td>1.0</td>\n      <td>...</td>\n      <td>0.000216</td>\n      <td>0.183947</td>\n      <td>0.496815</td>\n      <td>0.039119</td>\n      <td>#33FF57</td>\n      <td>09HS</td>\n      <td>#4F9991</td>\n      <td>6</td>\n      <td>#88419D</td>\n      <td>Jun</td>\n    </tr>\n    <tr>\n      <th>4</th>\n      <td>euk_asv1008</td>\n      <td>Eukaryota</td>\n      <td>Picozoa</td>\n      <td>Picozoa uc</td>\n      <td>Picozoa uc</td>\n      <td>Picozoa uc</td>\n      <td>Picozoa uc</td>\n      <td>Picozoa uc_sp.</td>\n      <td>2.0</td>\n      <td>1.0</td>\n      <td>...</td>\n      <td>0.000027</td>\n      <td>0.204819</td>\n      <td>0.331742</td>\n      <td>0.001249</td>\n      <td>#5733FF</td>\n      <td>01TA</td>\n      <td>#54CABE</td>\n      <td>8</td>\n      <td>#C994C7</td>\n      <td>Aug</td>\n    </tr>\n    <tr>\n      <th>...</th>\n      <td>...</td>\n      <td>...</td>\n      <td>...</td>\n      <td>...</td>\n      <td>...</td>\n      <td>...</td>\n      <td>...</td>\n      <td>...</td>\n      <td>...</td>\n      <td>...</td>\n      <td>...</td>\n      <td>...</td>\n      <td>...</td>\n      <td>...</td>\n      <td>...</td>\n      <td>...</td>\n      <td>...</td>\n      <td>...</td>\n      <td>...</td>\n      <td>...</td>\n      <td>...</td>\n    </tr>\n    <tr>\n      <th>930</th>\n      <td>euk_asv989</td>\n      <td>Eukaryota</td>\n      <td>Mesomycetozoa</td>\n      <td>Ichthyosporea</td>\n      <td>Ichthyosphonida</td>\n      <td>Abeoformidae_Group_MAIP_2</td>\n      <td>Abeoformidae_Group_MAIP_2 uc</td>\n      <td>Abeoformidae_Group_MAIP_2 uc_sp.</td>\n      <td>2.0</td>\n      <td>1.0</td>\n      <td>...</td>\n      <td>0.000000</td>\n      <td>0.000000</td>\n      <td>NaN</td>\n      <td>NaN</td>\n      <td>#5733FF</td>\n      <td>01TA</td>\n      <td>#54CABE</td>\n      <td>9</td>\n      <td>#EC7014</td>\n      <td>Sep</td>\n    </tr>\n    <tr>\n      <th>931</th>\n      <td>euk_asv99</td>\n      <td>Eukaryota</td>\n      <td>Dinoflagellata</td>\n      <td>Dinophyceae</td>\n      <td>Suessiales</td>\n      <td>Suessiaceae</td>\n      <td>Protodinium</td>\n      <td>Protodinium_simplex</td>\n      <td>5.0</td>\n      <td>1.0</td>\n      <td>...</td>\n      <td>0.000021</td>\n      <td>0.004289</td>\n      <td>0.329968</td>\n      <td>0.018520</td>\n      <td>#FF33E2</td>\n      <td>10HS</td>\n      <td>#59A0F2</td>\n      <td>8</td>\n      <td>#C994C7</td>\n      <td>Aug</td>\n    </tr>\n    <tr>\n      <th>932</th>\n      <td>euk_asv992</td>\n      <td>Eukaryota</td>\n      <td>Dinoflagellata</td>\n      <td>Dinophyceae</td>\n      <td>Peridiniales</td>\n      <td>Peridiniales uc</td>\n      <td>Peridiniales uc</td>\n      <td>Peridiniales uc</td>\n      <td>7.0</td>\n      <td>1.0</td>\n      <td>...</td>\n      <td>0.000006</td>\n      <td>0.120228</td>\n      <td>0.295154</td>\n      <td>0.029851</td>\n      <td>#FFC933</td>\n      <td>05LW</td>\n      <td>#FAB573</td>\n      <td>1</td>\n      <td>#2171B5</td>\n      <td>Jan</td>\n    </tr>\n    <tr>\n      <th>933</th>\n      <td>euk_asv993</td>\n      <td>Eukaryota</td>\n      <td>Ochrophyta</td>\n      <td>Bolidophyceae</td>\n      <td>Parmales</td>\n      <td>Parmales_env_3</td>\n      <td>Parmales_env_3B</td>\n      <td>Parmales_env_3B_sp.</td>\n      <td>5.0</td>\n      <td>1.0</td>\n      <td>...</td>\n      <td>0.000250</td>\n      <td>0.241364</td>\n      <td>0.430546</td>\n      <td>0.020413</td>\n      <td>#FF33E2</td>\n      <td>10HS</td>\n      <td>#59A0F2</td>\n      <td>8</td>\n      <td>#C994C7</td>\n      <td>Aug</td>\n    </tr>\n    <tr>\n      <th>934</th>\n      <td>euk_asv999</td>\n      <td>Eukaryota</td>\n      <td>Ochrophyta</td>\n      <td>Bolidophyceae</td>\n      <td>Parmales</td>\n      <td>Triparmaceae</td>\n      <td>Triparma</td>\n      <td>Triparma_laevis_clade</td>\n      <td>1.0</td>\n      <td>1.0</td>\n      <td>...</td>\n      <td>0.000101</td>\n      <td>0.143724</td>\n      <td>0.362791</td>\n      <td>0.000817</td>\n      <td>#33FF57</td>\n      <td>09HS</td>\n      <td>#4F9991</td>\n      <td>6</td>\n      <td>#88419D</td>\n      <td>Jun</td>\n    </tr>\n  </tbody>\n</table>\n<p>935 rows × 54 columns</p>\n</div>"
     },
     "execution_count": 40,
     "metadata": {},
     "output_type": "execute_result"
    }
   ],
   "source": [
    "df_taxa = df_meta\n",
    "df_taxa"
   ],
   "metadata": {
    "collapsed": false,
    "ExecuteTime": {
     "end_time": "2024-04-17T14:17:36.419523Z",
     "start_time": "2024-04-17T14:17:36.402269Z"
    }
   }
  },
  {
   "cell_type": "markdown",
   "source": [
    "## Project Score"
   ],
   "metadata": {
    "collapsed": false
   }
  },
  {
   "cell_type": "code",
   "execution_count": 41,
   "outputs": [],
   "source": [
    "def get_dict(col = \"Class\"):\n",
    "    df_taxa_temp =df_taxa[[\"Nodes\",col]]\n",
    "    df_taxa_temp.set_index(\"Nodes\", inplace=True)\n",
    "    d_ = df_taxa_temp.to_dict()[col]\n",
    "    return d_"
   ],
   "metadata": {
    "collapsed": false,
    "ExecuteTime": {
     "end_time": "2024-04-17T14:17:36.421792Z",
     "start_time": "2024-04-17T14:17:36.409903Z"
    }
   }
  },
  {
   "cell_type": "code",
   "execution_count": 42,
   "outputs": [],
   "source": [
    "class_d = get_dict(col = \"Class\")\n",
    "df[\"from_Class\"] =df[\"from\"].apply(lambda x:  class_d[x])\n",
    "df[\"to_Class\"] =df[\"to\"].apply(lambda x:  class_d[x])"
   ],
   "metadata": {
    "collapsed": false,
    "ExecuteTime": {
     "end_time": "2024-04-17T14:17:36.437140Z",
     "start_time": "2024-04-17T14:17:36.411387Z"
    }
   }
  },
  {
   "cell_type": "code",
   "execution_count": 43,
   "outputs": [],
   "source": [
    "label_d = get_dict(col = \"LouvainLabelD\")\n",
    "df[\"from_label\"] =df[\"from\"].apply(lambda x:  label_d[x])\n",
    "df[\"to_label\"] =df[\"to\"].apply(lambda x:  label_d[x])"
   ],
   "metadata": {
    "collapsed": false,
    "ExecuteTime": {
     "end_time": "2024-04-17T14:17:36.444131Z",
     "start_time": "2024-04-17T14:17:36.417757Z"
    }
   }
  },
  {
   "cell_type": "code",
   "execution_count": 44,
   "outputs": [
    {
     "data": {
      "text/plain": "['Acantharea',\n 'Bacillariophyta',\n 'Bolidophyceae',\n 'Centroheliozoa uc',\n 'Cercozoa uc',\n 'Chlorarachniophyceae',\n 'Chloropicophyceae',\n 'Choanoflagellatea',\n 'Chrysophyceae',\n 'Cryptophyceae',\n 'Dictyochophyceae',\n 'Dinoflagellata uc',\n 'Dinophyceae',\n 'Endomyxa',\n 'Eukaryota uc',\n 'Filosa',\n 'Filosa-Thecofilosea',\n 'Fungi uc',\n 'Gregarinomorphea',\n 'Haptophyta uc',\n 'Haptophyta_Clade_HAP3',\n 'Haptophyta_Clade_HAP4',\n 'Haptophyta_Clade_HAP5',\n 'Ichthyosporea',\n 'Labyrinthulomycetes',\n 'Litostomatea',\n 'MAST-1',\n 'MAST-2',\n 'MAST-3',\n 'MAST-4',\n 'MAST-7',\n 'MAST-8',\n 'MAST-9',\n 'MOCH-1',\n 'MOCH-2',\n 'Mamiellophyceae',\n 'Nassophorea',\n 'Oligohymenophorea',\n 'Palmophyllophyceae',\n 'Pelagophyceae',\n 'Phyllopharyngea',\n 'Picozoa uc',\n 'Polycystinea',\n 'Prasino-Clade-V',\n 'Prymnesiophyceae',\n 'Pyramimonadales',\n 'RAD-A',\n 'RAD-B',\n 'RAD-C',\n 'Spirotrichea',\n 'Stramenopiles uc',\n 'Syndiniales',\n 'Telonemia uc']"
     },
     "execution_count": 44,
     "metadata": {},
     "output_type": "execute_result"
    }
   ],
   "source": [
    "cc = df[\"from_Class\"].unique().tolist()\n",
    "cc.sort()\n",
    "cc"
   ],
   "metadata": {
    "collapsed": false,
    "ExecuteTime": {
     "end_time": "2024-04-17T14:17:36.466298Z",
     "start_time": "2024-04-17T14:17:36.423309Z"
    }
   }
  },
  {
   "cell_type": "code",
   "execution_count": 45,
   "outputs": [],
   "source": [
    "four_classes = [\"Syndiniales\", \"Dinophyceae\", \"Bacillariophyta\",\n",
    " 'MAST-1',\n",
    " 'MAST-12',\n",
    " 'MAST-2',\n",
    " 'MAST-3',\n",
    " 'MAST-4',\n",
    " 'MAST-7',\n",
    " 'MAST-8',\n",
    " 'MAST-9',]\n",
    "\n",
    "df_fig = df[df[\"from_Class\"].isin(four_classes)]\n",
    "df_fig = df_fig[df_fig[\"to_Class\"].isin(four_classes)]"
   ],
   "metadata": {
    "collapsed": false,
    "ExecuteTime": {
     "end_time": "2024-04-17T14:17:36.466641Z",
     "start_time": "2024-04-17T14:17:36.426488Z"
    }
   }
  },
  {
   "cell_type": "code",
   "execution_count": 46,
   "outputs": [],
   "source": [
    "new_data2 =df_fig\n",
    "# List of values to replace\n",
    "values_to_replace = ['MAST-1', 'MAST-12', 'MAST-2', 'MAST-3', 'MAST-4', 'MAST-7', 'MAST-8', 'MAST-9']\n",
    "\n",
    "# Value to replace with\n",
    "replacement_value = 'MAST'\n",
    "\n",
    "# Replace values\n",
    "df_fig= new_data2.replace(values_to_replace, replacement_value)"
   ],
   "metadata": {
    "collapsed": false,
    "ExecuteTime": {
     "end_time": "2024-04-17T14:17:36.466949Z",
     "start_time": "2024-04-17T14:17:36.431191Z"
    }
   }
  },
  {
   "cell_type": "code",
   "execution_count": 47,
   "outputs": [
    {
     "data": {
      "text/plain": "      Unnamed: 0         from           to      corr from_clu to_clu  \\\n0              0     euk_asv2    euk_asv21  0.706469     04LW   04LW   \n1              1     euk_asv2    euk_asv26  0.635287     04LW   04LW   \n2              3     euk_asv2    euk_asv53  0.497619     04LW   04LW   \n3              5     euk_asv2  euk_asv1254  0.816939     04LW   04LW   \n4              6     euk_asv3   euk_asv102  0.524414     05LW   05LW   \n...          ...          ...          ...       ...      ...    ...   \n4589       16894  euk_asv1284  euk_asv1242  0.656222     10HS   10HS   \n4590       16932  euk_asv1505  euk_asv1284  0.552585     10HS   10HS   \n4592       16971  euk_asv1400  euk_asv1315  0.490663     08TS   08TS   \n4593       16980  euk_asv2540  euk_asv1322  0.610120     07TS   07TS   \n4596       17120  euk_asv1731  euk_asv1535  0.822011     05LW   05LW   \n\n       p-value       from_Class         to_Class  from_label  to_label  \n0     0.000174      Syndiniales      Syndiniales         9.0       9.0  \n1     0.001101      Syndiniales      Syndiniales         9.0       9.0  \n2     0.023415      Syndiniales      Syndiniales         9.0       9.0  \n3     0.000000      Syndiniales      Syndiniales         9.0       9.0  \n4     0.014084      Syndiniales      Syndiniales         7.0       7.0  \n...        ...              ...              ...         ...       ...  \n4589  0.000695      Dinophyceae      Dinophyceae         5.0       5.0  \n4590  0.007419      Dinophyceae      Dinophyceae         5.0       5.0  \n4592  0.026660  Bacillariophyta  Bacillariophyta         0.0       0.0  \n4593  0.001971      Dinophyceae      Syndiniales        15.0      15.0  \n4596  0.000000      Syndiniales      Syndiniales         7.0       7.0  \n\n[1398 rows x 11 columns]",
      "text/html": "<div>\n<style scoped>\n    .dataframe tbody tr th:only-of-type {\n        vertical-align: middle;\n    }\n\n    .dataframe tbody tr th {\n        vertical-align: top;\n    }\n\n    .dataframe thead th {\n        text-align: right;\n    }\n</style>\n<table border=\"1\" class=\"dataframe\">\n  <thead>\n    <tr style=\"text-align: right;\">\n      <th></th>\n      <th>Unnamed: 0</th>\n      <th>from</th>\n      <th>to</th>\n      <th>corr</th>\n      <th>from_clu</th>\n      <th>to_clu</th>\n      <th>p-value</th>\n      <th>from_Class</th>\n      <th>to_Class</th>\n      <th>from_label</th>\n      <th>to_label</th>\n    </tr>\n  </thead>\n  <tbody>\n    <tr>\n      <th>0</th>\n      <td>0</td>\n      <td>euk_asv2</td>\n      <td>euk_asv21</td>\n      <td>0.706469</td>\n      <td>04LW</td>\n      <td>04LW</td>\n      <td>0.000174</td>\n      <td>Syndiniales</td>\n      <td>Syndiniales</td>\n      <td>9.0</td>\n      <td>9.0</td>\n    </tr>\n    <tr>\n      <th>1</th>\n      <td>1</td>\n      <td>euk_asv2</td>\n      <td>euk_asv26</td>\n      <td>0.635287</td>\n      <td>04LW</td>\n      <td>04LW</td>\n      <td>0.001101</td>\n      <td>Syndiniales</td>\n      <td>Syndiniales</td>\n      <td>9.0</td>\n      <td>9.0</td>\n    </tr>\n    <tr>\n      <th>2</th>\n      <td>3</td>\n      <td>euk_asv2</td>\n      <td>euk_asv53</td>\n      <td>0.497619</td>\n      <td>04LW</td>\n      <td>04LW</td>\n      <td>0.023415</td>\n      <td>Syndiniales</td>\n      <td>Syndiniales</td>\n      <td>9.0</td>\n      <td>9.0</td>\n    </tr>\n    <tr>\n      <th>3</th>\n      <td>5</td>\n      <td>euk_asv2</td>\n      <td>euk_asv1254</td>\n      <td>0.816939</td>\n      <td>04LW</td>\n      <td>04LW</td>\n      <td>0.000000</td>\n      <td>Syndiniales</td>\n      <td>Syndiniales</td>\n      <td>9.0</td>\n      <td>9.0</td>\n    </tr>\n    <tr>\n      <th>4</th>\n      <td>6</td>\n      <td>euk_asv3</td>\n      <td>euk_asv102</td>\n      <td>0.524414</td>\n      <td>05LW</td>\n      <td>05LW</td>\n      <td>0.014084</td>\n      <td>Syndiniales</td>\n      <td>Syndiniales</td>\n      <td>7.0</td>\n      <td>7.0</td>\n    </tr>\n    <tr>\n      <th>...</th>\n      <td>...</td>\n      <td>...</td>\n      <td>...</td>\n      <td>...</td>\n      <td>...</td>\n      <td>...</td>\n      <td>...</td>\n      <td>...</td>\n      <td>...</td>\n      <td>...</td>\n      <td>...</td>\n    </tr>\n    <tr>\n      <th>4589</th>\n      <td>16894</td>\n      <td>euk_asv1284</td>\n      <td>euk_asv1242</td>\n      <td>0.656222</td>\n      <td>10HS</td>\n      <td>10HS</td>\n      <td>0.000695</td>\n      <td>Dinophyceae</td>\n      <td>Dinophyceae</td>\n      <td>5.0</td>\n      <td>5.0</td>\n    </tr>\n    <tr>\n      <th>4590</th>\n      <td>16932</td>\n      <td>euk_asv1505</td>\n      <td>euk_asv1284</td>\n      <td>0.552585</td>\n      <td>10HS</td>\n      <td>10HS</td>\n      <td>0.007419</td>\n      <td>Dinophyceae</td>\n      <td>Dinophyceae</td>\n      <td>5.0</td>\n      <td>5.0</td>\n    </tr>\n    <tr>\n      <th>4592</th>\n      <td>16971</td>\n      <td>euk_asv1400</td>\n      <td>euk_asv1315</td>\n      <td>0.490663</td>\n      <td>08TS</td>\n      <td>08TS</td>\n      <td>0.026660</td>\n      <td>Bacillariophyta</td>\n      <td>Bacillariophyta</td>\n      <td>0.0</td>\n      <td>0.0</td>\n    </tr>\n    <tr>\n      <th>4593</th>\n      <td>16980</td>\n      <td>euk_asv2540</td>\n      <td>euk_asv1322</td>\n      <td>0.610120</td>\n      <td>07TS</td>\n      <td>07TS</td>\n      <td>0.001971</td>\n      <td>Dinophyceae</td>\n      <td>Syndiniales</td>\n      <td>15.0</td>\n      <td>15.0</td>\n    </tr>\n    <tr>\n      <th>4596</th>\n      <td>17120</td>\n      <td>euk_asv1731</td>\n      <td>euk_asv1535</td>\n      <td>0.822011</td>\n      <td>05LW</td>\n      <td>05LW</td>\n      <td>0.000000</td>\n      <td>Syndiniales</td>\n      <td>Syndiniales</td>\n      <td>7.0</td>\n      <td>7.0</td>\n    </tr>\n  </tbody>\n</table>\n<p>1398 rows × 11 columns</p>\n</div>"
     },
     "execution_count": 47,
     "metadata": {},
     "output_type": "execute_result"
    }
   ],
   "source": [
    "df_fig"
   ],
   "metadata": {
    "collapsed": false,
    "ExecuteTime": {
     "end_time": "2024-04-17T14:17:36.467931Z",
     "start_time": "2024-04-17T14:17:36.440576Z"
    }
   }
  },
  {
   "cell_type": "code",
   "execution_count": 48,
   "outputs": [
    {
     "name": "stdout",
     "output_type": "stream",
     "text": [
      "              Taxa     08TS     09HS     01TA     06TS     10HS     05LW  \\\n",
      "0      Syndiniales  #FAE626  #4F9991  #54CABE  #B27584  #59A0F2  #FAB573   \n",
      "1      Dinophyceae  #FAE626  #4F9991  #54CABE  #B27584  #59A0F2  #FAB573   \n",
      "2  Bacillariophyta  #FAE626  #4F9991  #54CABE  #B27584  #59A0F2  #FAB573   \n",
      "3             MAST  #FAE626  #4F9991  #54CABE  #B27584  #59A0F2  #FAB573   \n",
      "\n",
      "      03LW     04LW     02TA     07TS  \n",
      "0  #4D637D  #9C55CF  #FD9D9D  #E9C1EC  \n",
      "1  #4D637D  #9C55CF  #FD9D9D  #E9C1EC  \n",
      "2  #4D637D  #9C55CF  #FD9D9D  #E9C1EC  \n",
      "3  #4D637D  #9C55CF  #FD9D9D  #E9C1EC  \n"
     ]
    }
   ],
   "source": [
    "import pandas as pd\n",
    "\n",
    "# Dictionary containing color codes\n",
    "color_dict = {\n",
    "    \"#FAE626\": \"08TS\",\n",
    "    \"#4F9991\": \"09HS\",\n",
    "    \"#54CABE\": \"01TA\",\n",
    "    \"#B27584\": \"06TS\",\n",
    "    \"#59A0F2\": \"10HS\",\n",
    "    \"#FAB573\": \"05LW\",\n",
    "    \"#4D637D\": \"03LW\",\n",
    "    \"#9C55CF\": \"04LW\",\n",
    "    \"#FD9D9D\": \"02TA\",\n",
    "    \"#E9C1EC\": \"07TS\"\n",
    "}\n",
    "\n",
    "# List of taxa\n",
    "taxa3 = [\"Syndiniales\", \"Dinophyceae\", \"Bacillariophyta\", \"MAST\"]\n",
    "\n",
    "# Create DataFrame\n",
    "data3 = {\"Taxa\": taxa3}\n",
    "\n",
    "# Adding colors to DataFrame\n",
    "for color, code in color_dict.items():\n",
    "    data3[code] = [color] * len(taxa3)\n",
    "\n",
    "df3 = pd.DataFrame(data3)\n",
    "df3.to_csv(\"tables/Main_Figure_3_d_4shapes_meta_data.csv\", index = False)\n",
    "print(df3)\n"
   ],
   "metadata": {
    "collapsed": false,
    "ExecuteTime": {
     "end_time": "2024-04-17T14:17:36.479433Z",
     "start_time": "2024-04-17T14:17:36.449730Z"
    }
   }
  },
  {
   "cell_type": "code",
   "execution_count": 49,
   "outputs": [],
   "source": [
    "# Before select which cluster !"
   ],
   "metadata": {
    "collapsed": false,
    "ExecuteTime": {
     "end_time": "2024-04-17T14:17:36.509913Z",
     "start_time": "2024-04-17T14:17:36.472369Z"
    }
   }
  },
  {
   "cell_type": "code",
   "execution_count": 50,
   "outputs": [],
   "source": [
    "df_fig = df_fig[[\"from_Class\", \"to_Class\",\"from_label\", \"to_label\",\"corr\",\"p-value\"]]"
   ],
   "metadata": {
    "collapsed": false,
    "ExecuteTime": {
     "end_time": "2024-04-17T14:17:36.525801Z",
     "start_time": "2024-04-17T14:17:36.485688Z"
    }
   }
  },
  {
   "cell_type": "code",
   "execution_count": 51,
   "outputs": [
    {
     "name": "stderr",
     "output_type": "stream",
     "text": [
      "/var/folders/l5/7vqpfl9j2yd9xqq2n8kh8tyc0000gn/T/ipykernel_44965/2251703164.py:1: FutureWarning: The provided callable <function mean at 0x10b03a440> is currently using DataFrameGroupBy.mean. In a future version of pandas, the provided callable will be used directly. To keep current behavior pass the string \"mean\" instead.\n",
      "  a = df_fig.groupby([\"from_Class\", \"to_Class\",\"from_label\", \"to_label\",]).agg(np.mean)\n"
     ]
    }
   ],
   "source": [
    "a = df_fig.groupby([\"from_Class\", \"to_Class\",\"from_label\", \"to_label\",]).agg(np.mean)"
   ],
   "metadata": {
    "collapsed": false,
    "ExecuteTime": {
     "end_time": "2024-04-17T14:17:36.552137Z",
     "start_time": "2024-04-17T14:17:36.529033Z"
    }
   }
  },
  {
   "cell_type": "code",
   "execution_count": 52,
   "outputs": [],
   "source": [
    "new_data =a.reset_index()"
   ],
   "metadata": {
    "collapsed": false,
    "ExecuteTime": {
     "end_time": "2024-04-17T14:17:36.559359Z",
     "start_time": "2024-04-17T14:17:36.541246Z"
    }
   }
  },
  {
   "cell_type": "code",
   "execution_count": 53,
   "outputs": [],
   "source": [
    "new_data = new_data[new_data[\"from_label\"]==new_data[\"to_label\"]]\n",
    "#new_data.drop(columns=[\"p-value\",\"pearson\",\"p-value_adj_fdr_bh\",\"Unnamed: 0\"], inplace=True)\n",
    "new_data.drop(columns=[\"p-value\"], inplace=True)"
   ],
   "metadata": {
    "collapsed": false,
    "ExecuteTime": {
     "end_time": "2024-04-17T14:17:36.594353Z",
     "start_time": "2024-04-17T14:17:36.562527Z"
    }
   }
  },
  {
   "cell_type": "code",
   "execution_count": 54,
   "outputs": [
    {
     "name": "stdout",
     "output_type": "stream",
     "text": [
      "(87, 5)\n"
     ]
    }
   ],
   "source": [
    "print(new_data.shape)"
   ],
   "metadata": {
    "collapsed": false,
    "ExecuteTime": {
     "end_time": "2024-04-17T14:17:36.600845Z",
     "start_time": "2024-04-17T14:17:36.596585Z"
    }
   }
  },
  {
   "cell_type": "code",
   "execution_count": 55,
   "outputs": [
    {
     "name": "stderr",
     "output_type": "stream",
     "text": [
      "/var/folders/l5/7vqpfl9j2yd9xqq2n8kh8tyc0000gn/T/ipykernel_44965/1212207005.py:3: SettingWithCopyWarning: \n",
      "A value is trying to be set on a copy of a slice from a DataFrame\n",
      "\n",
      "See the caveats in the documentation: https://pandas.pydata.org/pandas-docs/stable/user_guide/indexing.html#returning-a-view-versus-a-copy\n",
      "  temp_df__.drop(columns=[\"index\"],inplace=True)\n"
     ]
    }
   ],
   "source": [
    "temp_df__ = new_data[(new_data[\"from_label\"]==new_data[\"to_label\"]) & (new_data[\"to_label\"]==1)]\n",
    "temp_df__.reset_index(inplace=True)\n",
    "temp_df__.drop(columns=[\"index\"],inplace=True)"
   ],
   "metadata": {
    "collapsed": false,
    "ExecuteTime": {
     "end_time": "2024-04-17T14:17:36.623002Z",
     "start_time": "2024-04-17T14:17:36.604098Z"
    }
   }
  },
  {
   "cell_type": "code",
   "execution_count": 56,
   "outputs": [
    {
     "name": "stdout",
     "output_type": "stream",
     "text": [
      "         from_Class         to_Class  from_label  to_label      corr\n",
      "0   Bacillariophyta  Bacillariophyta         1.0       1.0  0.602276\n",
      "1   Bacillariophyta      Dinophyceae         1.0       1.0  0.553307\n",
      "2   Bacillariophyta             MAST         1.0       1.0  0.496802\n",
      "3   Bacillariophyta      Syndiniales         1.0       1.0  0.454938\n",
      "4       Dinophyceae  Bacillariophyta         1.0       1.0  0.531822\n",
      "5       Dinophyceae      Dinophyceae         1.0       1.0  0.600038\n",
      "6       Dinophyceae             MAST         1.0       1.0  0.470102\n",
      "7              MAST  Bacillariophyta         1.0       1.0  0.467024\n",
      "8              MAST      Dinophyceae         1.0       1.0  0.575877\n",
      "9              MAST             MAST         1.0       1.0  0.520738\n",
      "10             MAST      Syndiniales         1.0       1.0  0.543314\n",
      "11      Syndiniales  Bacillariophyta         1.0       1.0  0.555950\n",
      "12      Syndiniales      Dinophyceae         1.0       1.0  0.492985\n",
      "13      Syndiniales             MAST         1.0       1.0  0.650038\n",
      "14      Syndiniales      Syndiniales         1.0       1.0  0.507441\n"
     ]
    }
   ],
   "source": [
    "print(temp_df__)"
   ],
   "metadata": {
    "collapsed": false,
    "ExecuteTime": {
     "end_time": "2024-04-17T14:17:36.623391Z",
     "start_time": "2024-04-17T14:17:36.609573Z"
    }
   }
  },
  {
   "cell_type": "code",
   "execution_count": 57,
   "outputs": [
    {
     "name": "stdout",
     "output_type": "stream",
     "text": [
      "0.0\n",
      "Index(['index', 'from_Class', 'to_Class', 'from_label', 'to_label', 'corr'], dtype='object')\n",
      "1.0\n",
      "Index(['index', 'from_Class', 'to_Class', 'from_label', 'to_label', 'corr'], dtype='object')\n",
      "2.0\n",
      "Index(['index', 'from_Class', 'to_Class', 'from_label', 'to_label', 'corr'], dtype='object')\n",
      "3.0\n",
      "Index(['index', 'from_Class', 'to_Class', 'from_label', 'to_label', 'corr'], dtype='object')\n",
      "5.0\n",
      "Index(['index', 'from_Class', 'to_Class', 'from_label', 'to_label', 'corr'], dtype='object')\n",
      "7.0\n",
      "Index(['index', 'from_Class', 'to_Class', 'from_label', 'to_label', 'corr'], dtype='object')\n",
      "8.0\n",
      "Index(['index', 'from_Class', 'to_Class', 'from_label', 'to_label', 'corr'], dtype='object')\n",
      "9.0\n",
      "Index(['index', 'from_Class', 'to_Class', 'from_label', 'to_label', 'corr'], dtype='object')\n",
      "12.0\n",
      "Index(['index', 'from_Class', 'to_Class', 'from_label', 'to_label', 'corr'], dtype='object')\n",
      "15.0\n",
      "Index(['index', 'from_Class', 'to_Class', 'from_label', 'to_label', 'corr'], dtype='object')\n"
     ]
    },
    {
     "name": "stderr",
     "output_type": "stream",
     "text": [
      "/var/folders/l5/7vqpfl9j2yd9xqq2n8kh8tyc0000gn/T/ipykernel_44965/1989978877.py:10: SettingWithCopyWarning: \n",
      "A value is trying to be set on a copy of a slice from a DataFrame.\n",
      "Try using .loc[row_indexer,col_indexer] = value instead\n",
      "\n",
      "See the caveats in the documentation: https://pandas.pydata.org/pandas-docs/stable/user_guide/indexing.html#returning-a-view-versus-a-copy\n",
      "  temp_df[\"from_label\"] = temp_df[\"from_label\"].apply(lambda x: name_dict[str(int(x))])\n",
      "/var/folders/l5/7vqpfl9j2yd9xqq2n8kh8tyc0000gn/T/ipykernel_44965/1989978877.py:11: SettingWithCopyWarning: \n",
      "A value is trying to be set on a copy of a slice from a DataFrame.\n",
      "Try using .loc[row_indexer,col_indexer] = value instead\n",
      "\n",
      "See the caveats in the documentation: https://pandas.pydata.org/pandas-docs/stable/user_guide/indexing.html#returning-a-view-versus-a-copy\n",
      "  temp_df[\"to_label\"] = temp_df[\"to_label\"].apply(lambda x: name_dict[str(int(x))])\n",
      "/var/folders/l5/7vqpfl9j2yd9xqq2n8kh8tyc0000gn/T/ipykernel_44965/1989978877.py:12: SettingWithCopyWarning: \n",
      "A value is trying to be set on a copy of a slice from a DataFrame\n",
      "\n",
      "See the caveats in the documentation: https://pandas.pydata.org/pandas-docs/stable/user_guide/indexing.html#returning-a-view-versus-a-copy\n",
      "  temp_df.drop(columns=[\"index\"],inplace=True)\n",
      "/var/folders/l5/7vqpfl9j2yd9xqq2n8kh8tyc0000gn/T/ipykernel_44965/1989978877.py:10: SettingWithCopyWarning: \n",
      "A value is trying to be set on a copy of a slice from a DataFrame.\n",
      "Try using .loc[row_indexer,col_indexer] = value instead\n",
      "\n",
      "See the caveats in the documentation: https://pandas.pydata.org/pandas-docs/stable/user_guide/indexing.html#returning-a-view-versus-a-copy\n",
      "  temp_df[\"from_label\"] = temp_df[\"from_label\"].apply(lambda x: name_dict[str(int(x))])\n",
      "/var/folders/l5/7vqpfl9j2yd9xqq2n8kh8tyc0000gn/T/ipykernel_44965/1989978877.py:11: SettingWithCopyWarning: \n",
      "A value is trying to be set on a copy of a slice from a DataFrame.\n",
      "Try using .loc[row_indexer,col_indexer] = value instead\n",
      "\n",
      "See the caveats in the documentation: https://pandas.pydata.org/pandas-docs/stable/user_guide/indexing.html#returning-a-view-versus-a-copy\n",
      "  temp_df[\"to_label\"] = temp_df[\"to_label\"].apply(lambda x: name_dict[str(int(x))])\n",
      "/var/folders/l5/7vqpfl9j2yd9xqq2n8kh8tyc0000gn/T/ipykernel_44965/1989978877.py:12: SettingWithCopyWarning: \n",
      "A value is trying to be set on a copy of a slice from a DataFrame\n",
      "\n",
      "See the caveats in the documentation: https://pandas.pydata.org/pandas-docs/stable/user_guide/indexing.html#returning-a-view-versus-a-copy\n",
      "  temp_df.drop(columns=[\"index\"],inplace=True)\n",
      "/var/folders/l5/7vqpfl9j2yd9xqq2n8kh8tyc0000gn/T/ipykernel_44965/1989978877.py:10: SettingWithCopyWarning: \n",
      "A value is trying to be set on a copy of a slice from a DataFrame.\n",
      "Try using .loc[row_indexer,col_indexer] = value instead\n",
      "\n",
      "See the caveats in the documentation: https://pandas.pydata.org/pandas-docs/stable/user_guide/indexing.html#returning-a-view-versus-a-copy\n",
      "  temp_df[\"from_label\"] = temp_df[\"from_label\"].apply(lambda x: name_dict[str(int(x))])\n",
      "/var/folders/l5/7vqpfl9j2yd9xqq2n8kh8tyc0000gn/T/ipykernel_44965/1989978877.py:11: SettingWithCopyWarning: \n",
      "A value is trying to be set on a copy of a slice from a DataFrame.\n",
      "Try using .loc[row_indexer,col_indexer] = value instead\n",
      "\n",
      "See the caveats in the documentation: https://pandas.pydata.org/pandas-docs/stable/user_guide/indexing.html#returning-a-view-versus-a-copy\n",
      "  temp_df[\"to_label\"] = temp_df[\"to_label\"].apply(lambda x: name_dict[str(int(x))])\n",
      "/var/folders/l5/7vqpfl9j2yd9xqq2n8kh8tyc0000gn/T/ipykernel_44965/1989978877.py:12: SettingWithCopyWarning: \n",
      "A value is trying to be set on a copy of a slice from a DataFrame\n",
      "\n",
      "See the caveats in the documentation: https://pandas.pydata.org/pandas-docs/stable/user_guide/indexing.html#returning-a-view-versus-a-copy\n",
      "  temp_df.drop(columns=[\"index\"],inplace=True)\n",
      "/var/folders/l5/7vqpfl9j2yd9xqq2n8kh8tyc0000gn/T/ipykernel_44965/1989978877.py:10: SettingWithCopyWarning: \n",
      "A value is trying to be set on a copy of a slice from a DataFrame.\n",
      "Try using .loc[row_indexer,col_indexer] = value instead\n",
      "\n",
      "See the caveats in the documentation: https://pandas.pydata.org/pandas-docs/stable/user_guide/indexing.html#returning-a-view-versus-a-copy\n",
      "  temp_df[\"from_label\"] = temp_df[\"from_label\"].apply(lambda x: name_dict[str(int(x))])\n",
      "/var/folders/l5/7vqpfl9j2yd9xqq2n8kh8tyc0000gn/T/ipykernel_44965/1989978877.py:11: SettingWithCopyWarning: \n",
      "A value is trying to be set on a copy of a slice from a DataFrame.\n",
      "Try using .loc[row_indexer,col_indexer] = value instead\n",
      "\n",
      "See the caveats in the documentation: https://pandas.pydata.org/pandas-docs/stable/user_guide/indexing.html#returning-a-view-versus-a-copy\n",
      "  temp_df[\"to_label\"] = temp_df[\"to_label\"].apply(lambda x: name_dict[str(int(x))])\n",
      "/var/folders/l5/7vqpfl9j2yd9xqq2n8kh8tyc0000gn/T/ipykernel_44965/1989978877.py:12: SettingWithCopyWarning: \n",
      "A value is trying to be set on a copy of a slice from a DataFrame\n",
      "\n",
      "See the caveats in the documentation: https://pandas.pydata.org/pandas-docs/stable/user_guide/indexing.html#returning-a-view-versus-a-copy\n",
      "  temp_df.drop(columns=[\"index\"],inplace=True)\n",
      "/var/folders/l5/7vqpfl9j2yd9xqq2n8kh8tyc0000gn/T/ipykernel_44965/1989978877.py:10: SettingWithCopyWarning: \n",
      "A value is trying to be set on a copy of a slice from a DataFrame.\n",
      "Try using .loc[row_indexer,col_indexer] = value instead\n",
      "\n",
      "See the caveats in the documentation: https://pandas.pydata.org/pandas-docs/stable/user_guide/indexing.html#returning-a-view-versus-a-copy\n",
      "  temp_df[\"from_label\"] = temp_df[\"from_label\"].apply(lambda x: name_dict[str(int(x))])\n",
      "/var/folders/l5/7vqpfl9j2yd9xqq2n8kh8tyc0000gn/T/ipykernel_44965/1989978877.py:11: SettingWithCopyWarning: \n",
      "A value is trying to be set on a copy of a slice from a DataFrame.\n",
      "Try using .loc[row_indexer,col_indexer] = value instead\n",
      "\n",
      "See the caveats in the documentation: https://pandas.pydata.org/pandas-docs/stable/user_guide/indexing.html#returning-a-view-versus-a-copy\n",
      "  temp_df[\"to_label\"] = temp_df[\"to_label\"].apply(lambda x: name_dict[str(int(x))])\n",
      "/var/folders/l5/7vqpfl9j2yd9xqq2n8kh8tyc0000gn/T/ipykernel_44965/1989978877.py:12: SettingWithCopyWarning: \n",
      "A value is trying to be set on a copy of a slice from a DataFrame\n",
      "\n",
      "See the caveats in the documentation: https://pandas.pydata.org/pandas-docs/stable/user_guide/indexing.html#returning-a-view-versus-a-copy\n",
      "  temp_df.drop(columns=[\"index\"],inplace=True)\n",
      "/var/folders/l5/7vqpfl9j2yd9xqq2n8kh8tyc0000gn/T/ipykernel_44965/1989978877.py:10: SettingWithCopyWarning: \n",
      "A value is trying to be set on a copy of a slice from a DataFrame.\n",
      "Try using .loc[row_indexer,col_indexer] = value instead\n",
      "\n",
      "See the caveats in the documentation: https://pandas.pydata.org/pandas-docs/stable/user_guide/indexing.html#returning-a-view-versus-a-copy\n",
      "  temp_df[\"from_label\"] = temp_df[\"from_label\"].apply(lambda x: name_dict[str(int(x))])\n",
      "/var/folders/l5/7vqpfl9j2yd9xqq2n8kh8tyc0000gn/T/ipykernel_44965/1989978877.py:11: SettingWithCopyWarning: \n",
      "A value is trying to be set on a copy of a slice from a DataFrame.\n",
      "Try using .loc[row_indexer,col_indexer] = value instead\n",
      "\n",
      "See the caveats in the documentation: https://pandas.pydata.org/pandas-docs/stable/user_guide/indexing.html#returning-a-view-versus-a-copy\n",
      "  temp_df[\"to_label\"] = temp_df[\"to_label\"].apply(lambda x: name_dict[str(int(x))])\n",
      "/var/folders/l5/7vqpfl9j2yd9xqq2n8kh8tyc0000gn/T/ipykernel_44965/1989978877.py:12: SettingWithCopyWarning: \n",
      "A value is trying to be set on a copy of a slice from a DataFrame\n",
      "\n",
      "See the caveats in the documentation: https://pandas.pydata.org/pandas-docs/stable/user_guide/indexing.html#returning-a-view-versus-a-copy\n",
      "  temp_df.drop(columns=[\"index\"],inplace=True)\n",
      "/var/folders/l5/7vqpfl9j2yd9xqq2n8kh8tyc0000gn/T/ipykernel_44965/1989978877.py:10: SettingWithCopyWarning: \n",
      "A value is trying to be set on a copy of a slice from a DataFrame.\n",
      "Try using .loc[row_indexer,col_indexer] = value instead\n",
      "\n",
      "See the caveats in the documentation: https://pandas.pydata.org/pandas-docs/stable/user_guide/indexing.html#returning-a-view-versus-a-copy\n",
      "  temp_df[\"from_label\"] = temp_df[\"from_label\"].apply(lambda x: name_dict[str(int(x))])\n",
      "/var/folders/l5/7vqpfl9j2yd9xqq2n8kh8tyc0000gn/T/ipykernel_44965/1989978877.py:11: SettingWithCopyWarning: \n",
      "A value is trying to be set on a copy of a slice from a DataFrame.\n",
      "Try using .loc[row_indexer,col_indexer] = value instead\n",
      "\n",
      "See the caveats in the documentation: https://pandas.pydata.org/pandas-docs/stable/user_guide/indexing.html#returning-a-view-versus-a-copy\n",
      "  temp_df[\"to_label\"] = temp_df[\"to_label\"].apply(lambda x: name_dict[str(int(x))])\n",
      "/var/folders/l5/7vqpfl9j2yd9xqq2n8kh8tyc0000gn/T/ipykernel_44965/1989978877.py:12: SettingWithCopyWarning: \n",
      "A value is trying to be set on a copy of a slice from a DataFrame\n",
      "\n",
      "See the caveats in the documentation: https://pandas.pydata.org/pandas-docs/stable/user_guide/indexing.html#returning-a-view-versus-a-copy\n",
      "  temp_df.drop(columns=[\"index\"],inplace=True)\n",
      "/var/folders/l5/7vqpfl9j2yd9xqq2n8kh8tyc0000gn/T/ipykernel_44965/1989978877.py:10: SettingWithCopyWarning: \n",
      "A value is trying to be set on a copy of a slice from a DataFrame.\n",
      "Try using .loc[row_indexer,col_indexer] = value instead\n",
      "\n",
      "See the caveats in the documentation: https://pandas.pydata.org/pandas-docs/stable/user_guide/indexing.html#returning-a-view-versus-a-copy\n",
      "  temp_df[\"from_label\"] = temp_df[\"from_label\"].apply(lambda x: name_dict[str(int(x))])\n",
      "/var/folders/l5/7vqpfl9j2yd9xqq2n8kh8tyc0000gn/T/ipykernel_44965/1989978877.py:11: SettingWithCopyWarning: \n",
      "A value is trying to be set on a copy of a slice from a DataFrame.\n",
      "Try using .loc[row_indexer,col_indexer] = value instead\n",
      "\n",
      "See the caveats in the documentation: https://pandas.pydata.org/pandas-docs/stable/user_guide/indexing.html#returning-a-view-versus-a-copy\n",
      "  temp_df[\"to_label\"] = temp_df[\"to_label\"].apply(lambda x: name_dict[str(int(x))])\n",
      "/var/folders/l5/7vqpfl9j2yd9xqq2n8kh8tyc0000gn/T/ipykernel_44965/1989978877.py:12: SettingWithCopyWarning: \n",
      "A value is trying to be set on a copy of a slice from a DataFrame\n",
      "\n",
      "See the caveats in the documentation: https://pandas.pydata.org/pandas-docs/stable/user_guide/indexing.html#returning-a-view-versus-a-copy\n",
      "  temp_df.drop(columns=[\"index\"],inplace=True)\n",
      "/var/folders/l5/7vqpfl9j2yd9xqq2n8kh8tyc0000gn/T/ipykernel_44965/1989978877.py:10: SettingWithCopyWarning: \n",
      "A value is trying to be set on a copy of a slice from a DataFrame.\n",
      "Try using .loc[row_indexer,col_indexer] = value instead\n",
      "\n",
      "See the caveats in the documentation: https://pandas.pydata.org/pandas-docs/stable/user_guide/indexing.html#returning-a-view-versus-a-copy\n",
      "  temp_df[\"from_label\"] = temp_df[\"from_label\"].apply(lambda x: name_dict[str(int(x))])\n",
      "/var/folders/l5/7vqpfl9j2yd9xqq2n8kh8tyc0000gn/T/ipykernel_44965/1989978877.py:11: SettingWithCopyWarning: \n",
      "A value is trying to be set on a copy of a slice from a DataFrame.\n",
      "Try using .loc[row_indexer,col_indexer] = value instead\n",
      "\n",
      "See the caveats in the documentation: https://pandas.pydata.org/pandas-docs/stable/user_guide/indexing.html#returning-a-view-versus-a-copy\n",
      "  temp_df[\"to_label\"] = temp_df[\"to_label\"].apply(lambda x: name_dict[str(int(x))])\n",
      "/var/folders/l5/7vqpfl9j2yd9xqq2n8kh8tyc0000gn/T/ipykernel_44965/1989978877.py:12: SettingWithCopyWarning: \n",
      "A value is trying to be set on a copy of a slice from a DataFrame\n",
      "\n",
      "See the caveats in the documentation: https://pandas.pydata.org/pandas-docs/stable/user_guide/indexing.html#returning-a-view-versus-a-copy\n",
      "  temp_df.drop(columns=[\"index\"],inplace=True)\n",
      "/var/folders/l5/7vqpfl9j2yd9xqq2n8kh8tyc0000gn/T/ipykernel_44965/1989978877.py:10: SettingWithCopyWarning: \n",
      "A value is trying to be set on a copy of a slice from a DataFrame.\n",
      "Try using .loc[row_indexer,col_indexer] = value instead\n",
      "\n",
      "See the caveats in the documentation: https://pandas.pydata.org/pandas-docs/stable/user_guide/indexing.html#returning-a-view-versus-a-copy\n",
      "  temp_df[\"from_label\"] = temp_df[\"from_label\"].apply(lambda x: name_dict[str(int(x))])\n",
      "/var/folders/l5/7vqpfl9j2yd9xqq2n8kh8tyc0000gn/T/ipykernel_44965/1989978877.py:11: SettingWithCopyWarning: \n",
      "A value is trying to be set on a copy of a slice from a DataFrame.\n",
      "Try using .loc[row_indexer,col_indexer] = value instead\n",
      "\n",
      "See the caveats in the documentation: https://pandas.pydata.org/pandas-docs/stable/user_guide/indexing.html#returning-a-view-versus-a-copy\n",
      "  temp_df[\"to_label\"] = temp_df[\"to_label\"].apply(lambda x: name_dict[str(int(x))])\n",
      "/var/folders/l5/7vqpfl9j2yd9xqq2n8kh8tyc0000gn/T/ipykernel_44965/1989978877.py:12: SettingWithCopyWarning: \n",
      "A value is trying to be set on a copy of a slice from a DataFrame\n",
      "\n",
      "See the caveats in the documentation: https://pandas.pydata.org/pandas-docs/stable/user_guide/indexing.html#returning-a-view-versus-a-copy\n",
      "  temp_df.drop(columns=[\"index\"],inplace=True)\n"
     ]
    }
   ],
   "source": [
    "l32 = list(set(df_meta[\"LouvainLabelD\"].to_list()))\n",
    "l32.sort()\n",
    "for clu in l32:\n",
    "    print(clu)\n",
    "    temp_df = new_data[(new_data[\"from_label\"]==new_data[\"to_label\"]) & (new_data[\"to_label\"]==clu)]\n",
    "    temp_df.reset_index(inplace=True)\n",
    "    #temp_df.dropna(inplace=True)\n",
    "    print(temp_df.columns)\n",
    "    #temp_df[\"color\"] =temp_df[\"from_label\"].apply(lambda x: color_dict[str(int(x))])\n",
    "    temp_df[\"from_label\"] = temp_df[\"from_label\"].apply(lambda x: name_dict[str(int(x))])\n",
    "    temp_df[\"to_label\"] = temp_df[\"to_label\"].apply(lambda x: name_dict[str(int(x))])\n",
    "    temp_df.drop(columns=[\"index\"],inplace=True)\n",
    "\n",
    "    temp_df.to_csv(f\"tables/4shapes_cluster_{name_dict[str(int(clu))]}_ALL.csv\", sep=\";\")"
   ],
   "metadata": {
    "collapsed": false,
    "ExecuteTime": {
     "end_time": "2024-04-17T14:17:36.658944Z",
     "start_time": "2024-04-17T14:17:36.628115Z"
    }
   }
  },
  {
   "cell_type": "code",
   "execution_count": 58,
   "outputs": [
    {
     "data": {
      "text/plain": "[0.0, 1.0, 2.0, 3.0, 5.0, 7.0, 8.0, 9.0, 12.0, 15.0]"
     },
     "execution_count": 58,
     "metadata": {},
     "output_type": "execute_result"
    }
   ],
   "source": [
    "l32"
   ],
   "metadata": {
    "collapsed": false,
    "ExecuteTime": {
     "end_time": "2024-04-17T14:17:36.687992Z",
     "start_time": "2024-04-17T14:17:36.653032Z"
    }
   }
  },
  {
   "cell_type": "code",
   "execution_count": 58,
   "outputs": [],
   "source": [],
   "metadata": {
    "collapsed": false,
    "ExecuteTime": {
     "end_time": "2024-04-17T14:17:36.702362Z",
     "start_time": "2024-04-17T14:17:36.690085Z"
    }
   }
  },
  {
   "cell_type": "code",
   "execution_count": 58,
   "outputs": [],
   "source": [],
   "metadata": {
    "collapsed": false,
    "ExecuteTime": {
     "end_time": "2024-04-17T14:17:36.702711Z",
     "start_time": "2024-04-17T14:17:36.693489Z"
    }
   }
  }
 ],
 "metadata": {
  "kernelspec": {
   "display_name": "Python 3",
   "language": "python",
   "name": "python3"
  },
  "language_info": {
   "codemirror_mode": {
    "name": "ipython",
    "version": 2
   },
   "file_extension": ".py",
   "mimetype": "text/x-python",
   "name": "python",
   "nbconvert_exporter": "python",
   "pygments_lexer": "ipython2",
   "version": "2.7.6"
  }
 },
 "nbformat": 4,
 "nbformat_minor": 0
}
