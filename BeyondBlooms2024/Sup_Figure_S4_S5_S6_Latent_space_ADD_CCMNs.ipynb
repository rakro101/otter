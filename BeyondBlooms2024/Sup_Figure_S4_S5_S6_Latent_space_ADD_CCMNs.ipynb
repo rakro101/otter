{
 "cells": [
  {
   "cell_type": "code",
   "execution_count": null,
   "metadata": {
    "collapsed": true
   },
   "outputs": [],
   "source": [
    "import pandas as pd\n",
    "import numpy as np\n",
    "np.random.seed(42)\n",
    "num_coefficients = 14\n",
    "from BeyondBlooms2024.config import name_dict, color_dict\n",
    "from BeyondBlooms2024.config_file import (ABUNDANCES_FILE, CCMN_CON_MAP_PATH, CON_LOUVAIN_META_PATH,CON_LOUVAIN_NETWORK_PATH, ENRICH,\n",
    "NUM_PERMUTATIONS, NUM_SAMPLES, NUM_CORES, METADATA_FILE, PRUNED_PVAL_CCMN_PATH,PVAL_CCMN_PATH,ENRICHED_META_PATH, RANDOM_PVAL_CCMN_PATH)"
   ]
  },
  {
   "cell_type": "code",
   "execution_count": null,
   "outputs": [],
   "source": [
    "def calculate_fourier_coefficients(series):\n",
    "    \"\"\" Calculate Fourier Coefficients from the time series\"\"\"\n",
    "    print(series.shape)\n",
    "    fourier_transform = np.fft.fft(series)\n",
    "    coefficients = fourier_transform[1:num_coefficients]  # Select the desired number of coefficients\n",
    "    ret = np.concatenate([np.real(coefficients), np.imag(coefficients)], axis=0)\n",
    "    #return np.abs(coefficients)\n",
    "    return ret"
   ],
   "metadata": {
    "collapsed": false
   }
  },
  {
   "cell_type": "code",
   "execution_count": null,
   "outputs": [],
   "source": [
    "hellinger =True\n",
    "kind =  \"euk\"\n",
    "locations = [\"f4\"]#[\"f4\", \"egc\", \"hgiv\"]\n",
    "dic_loc= {\"f4\":\"F4\", \"egc\":\"EGC\", \"hgiv\":\"HG\"}\n",
    "# chosen_method = \"Pearson_FFT\"\n",
    "chosen_method = \"NMI\"\n",
    "if chosen_method in [\"Pearson_FFT\", \"Pearson\"]:\n",
    "    sym=True\n",
    "else:\n",
    "    sym=False\n",
    "for loc in locations:\n",
    "    # Example usage\n",
    "    df_spec = pd.read_csv(ABUNDANCES_FILE, sep=\";\", index_col=0)\n",
    "    if hellinger == True:\n",
    "        df_sqrt = np.sqrt(df_spec)\n",
    "        row_norms = np.linalg.norm(df_sqrt, axis=1)\n",
    "        df_normalized = df_sqrt.div(row_norms, axis=0)\n",
    "        df_spec = df_normalized\n",
    "df_spec.shape"
   ],
   "metadata": {
    "collapsed": false
   }
  },
  {
   "cell_type": "code",
   "execution_count": null,
   "outputs": [],
   "source": [
    "df_spec_T = df_spec.T"
   ],
   "metadata": {
    "collapsed": false
   }
  },
  {
   "cell_type": "code",
   "execution_count": null,
   "outputs": [],
   "source": [
    "df_spec_T"
   ],
   "metadata": {
    "collapsed": false
   }
  },
  {
   "cell_type": "code",
   "execution_count": null,
   "outputs": [],
   "source": [
    "df_fft_spec = df_spec_T.apply(lambda row: calculate_fourier_coefficients(row),axis =1, result_type='expand')"
   ],
   "metadata": {
    "collapsed": false
   }
  },
  {
   "cell_type": "code",
   "execution_count": null,
   "outputs": [],
   "source": [
    "df_fft_spec"
   ],
   "metadata": {
    "collapsed": false
   }
  },
  {
   "cell_type": "code",
   "execution_count": null,
   "outputs": [],
   "source": [
    "# Create column names for the FFT components\n",
    "fft_column_names = [f'fft_component_{i+1}' for i in range(26)]\n",
    "\n",
    "# Rename the columns in the new DataFrame\n",
    "df_fft_spec.columns = fft_column_names"
   ],
   "metadata": {
    "collapsed": false
   }
  },
  {
   "cell_type": "code",
   "execution_count": null,
   "outputs": [],
   "source": [
    "meta = pd.read_csv(ENRICH, sep=\",\")\n",
    "meta.head()"
   ],
   "metadata": {
    "collapsed": false
   }
  },
  {
   "cell_type": "code",
   "execution_count": null,
   "outputs": [],
   "source": [
    "meta = pd.read_csv(ENRICH, sep=\",\")\n",
    "meta[\"clu\"] = meta[\"cluster_names\"]\n",
    "meta[\"colors\"] = meta[\"cluster_color\"]\n",
    "#meta = meta[meta[\"clu\"].isin([name_dict_new[x] for x in ['01-F',\n",
    " #'02-F',\n",
    " #'03-L',\n",
    " #'04-L',\n",
    " #'05-L',\n",
    " #'06-M',\n",
    " #'07-M',\n",
    " #'08-M',\n",
    "# '09-H',\n",
    "## '10-H']])]\n",
    "#meta = meta[meta[\"clu\"].isin([name_dict[str(x)] for x in [0,1,2,3,4,5,6,7,8,9,10,11,12,13,14,15,16,17]])]\n",
    "meta = meta.sort_values(by='clu')\n",
    "node_label= meta[[\"Nodes\", \"clu\"]]\n",
    "node_label.set_index(\"Nodes\", inplace=True)\n",
    "clu_dict = node_label.to_dict()[\"clu\"]\n",
    "list_off_con = meta[\"Nodes\"]"
   ],
   "metadata": {
    "collapsed": false
   }
  },
  {
   "cell_type": "code",
   "execution_count": null,
   "outputs": [],
   "source": [
    "clu_l = meta[\"clu\"].unique().tolist()\n",
    "clu_l.sort()\n",
    "clu_l"
   ],
   "metadata": {
    "collapsed": false
   }
  },
  {
   "cell_type": "code",
   "execution_count": null,
   "outputs": [],
   "source": [
    "df_fft_spec = df_fft_spec.T[list_off_con].T"
   ],
   "metadata": {
    "collapsed": false
   }
  },
  {
   "cell_type": "code",
   "execution_count": null,
   "outputs": [],
   "source": [
    "import numpy as np\n",
    "from sklearn.decomposition import PCA\n",
    "X = df_fft_spec\n",
    "pca = PCA(n_components=10)\n",
    "abc = pca.fit_transform(X)"
   ],
   "metadata": {
    "collapsed": false
   }
  },
  {
   "cell_type": "code",
   "execution_count": null,
   "outputs": [],
   "source": [
    "abc"
   ],
   "metadata": {
    "collapsed": false
   }
  },
  {
   "cell_type": "code",
   "execution_count": null,
   "outputs": [],
   "source": [],
   "metadata": {
    "collapsed": false
   }
  },
  {
   "cell_type": "code",
   "execution_count": null,
   "outputs": [],
   "source": [
    "import umap\n",
    "from sklearn.preprocessing import StandardScaler\n",
    "import matplotlib.pyplot as plt\n",
    "reducer = umap.UMAP()\n",
    "scaled_data = StandardScaler().fit_transform(abc)\n",
    "\n",
    "U_embedding = reducer.fit_transform(scaled_data)\n",
    "print(U_embedding.shape)\n",
    "\n",
    "df_fft_spec[\"x_2d\"] =U_embedding[:, 0]\n",
    "df_fft_spec[\"y_2d\"] =U_embedding[:, 1]\n",
    "\n",
    "plt.scatter(U_embedding[:, 0], U_embedding[:, 1], c=meta[\"colors\"].values, s=5)\n",
    "#plt.gca().set_aspect('equal', 'datalim')\n",
    "plt.gcf().savefig(\"figures/PCA_Umap2.png\")"
   ],
   "metadata": {
    "collapsed": false
   }
  },
  {
   "cell_type": "code",
   "execution_count": null,
   "outputs": [],
   "source": [
    "import seaborn as sns\n",
    "import matplotlib.pyplot as plt\n",
    "\n",
    "# Assuming you have already imported your data and have the U_embedding and meta variables\n",
    "\n",
    "# Set the style for the plot\n",
    "sns.set(style=\"whitegrid\")\n",
    "\n",
    "# Create a scatter plot using seaborn\n",
    "plt.figure(figsize=(10, 8))\n",
    "sns.scatterplot(x=U_embedding[:, 0], y=U_embedding[:, 1], hue=meta[\"clu\"].values, palette=meta[\"colors\"].unique().tolist(), s=50)\n",
    "\n",
    "# Customize the plot further if needed\n",
    "#plt.title('Scatter Plot with Seaborn')\n",
    "plt.xlabel('Umap x')\n",
    "plt.ylabel('Umap y')\n",
    "plt.legend(title='Colors', loc='upper right')\n",
    "\n",
    "# Save the plot\n",
    "plt.savefig(\"figures/PCA_Umap2_seaborn.png\")\n",
    "\n",
    "# Show the plot\n",
    "plt.show()"
   ],
   "metadata": {
    "collapsed": false
   }
  },
  {
   "cell_type": "code",
   "execution_count": null,
   "outputs": [],
   "source": [
    "import plotly.express as px\n",
    "import umap\n",
    "from sklearn.preprocessing import StandardScaler\n",
    "import matplotlib.pyplot as plt\n",
    "reducer = umap.UMAP( n_components=3)\n",
    "#scaled_data = StandardScaler().fit_transform(abc)\n",
    "scaled_data =abc\n",
    "V_embedding = reducer.fit_transform(scaled_data)\n",
    "df_fft_spec[\"x_3d\"] =V_embedding[:, 0]\n",
    "df_fft_spec[\"y_3d\"] =V_embedding[:, 1]\n",
    "df_fft_spec[\"z_3d\"] =V_embedding[:, 2]\n",
    "\n",
    "print(V_embedding.shape)\n",
    "d = {}"
   ],
   "metadata": {
    "collapsed": false
   }
  },
  {
   "cell_type": "code",
   "execution_count": null,
   "outputs": [],
   "source": [
    "meta[\"clu\"].unique()"
   ],
   "metadata": {
    "collapsed": false
   }
  },
  {
   "cell_type": "code",
   "execution_count": null,
   "outputs": [],
   "source": [
    "df_fft_spec.to_csv(\"tables/latentspacelatent_space.csv\", sep=\";\")\n",
    "df_fft_spec"
   ],
   "metadata": {
    "collapsed": false
   }
  },
  {
   "cell_type": "code",
   "execution_count": null,
   "outputs": [],
   "source": [
    "df_fft_spec[\"Nodes\"] =df_fft_spec.index\n",
    "df_fft_spec[\"clu\"] =df_fft_spec[\"Nodes\"].apply(lambda x: clu_dict[x])\n",
    "df_fft_spec = df_fft_spec[df_fft_spec[\"clu\"]!=\"no_label\"] # ToDo. Fix\n",
    "#from config import name_dict_new\n",
    "#df_fft_spec[\"clu\"] =df_fft_spec[\"clu\"].apply(lambda x: name_dict[x])\n",
    "umap3d_matrix = df_fft_spec[[\"x_3d\",\"y_3d\",\"z_3d\",\"clu\"]]"
   ],
   "metadata": {
    "collapsed": false
   }
  },
  {
   "cell_type": "code",
   "execution_count": null,
   "outputs": [],
   "source": [],
   "metadata": {
    "collapsed": false
   }
  },
  {
   "cell_type": "code",
   "execution_count": null,
   "outputs": [],
   "source": [
    "centroids = umap3d_matrix.groupby('clu').mean()"
   ],
   "metadata": {
    "collapsed": false
   }
  },
  {
   "cell_type": "code",
   "execution_count": null,
   "outputs": [],
   "source": [
    "centroids"
   ],
   "metadata": {
    "collapsed": false
   }
  },
  {
   "cell_type": "code",
   "execution_count": null,
   "outputs": [],
   "source": [
    "# Create a 3D scatter plot using Plotly\n",
    "fig = px.scatter_3d(x=V_embedding[:, 0], y=V_embedding[:, 1], z=V_embedding[:, 2], color_discrete_sequence = meta[\"colors\"].unique(), color=meta[\"clu\"].values,opacity=0.5)\n",
    "#fig.add_trace(px.scatter_3d(x=centroids[\"x_3d\"], y=centroids[\"x_3d\"], z=centroids[\"x_3d\"]))\n",
    "centroids_trace =px.scatter_3d(x=centroids[\"x_3d\"], y=centroids[\"y_3d\"], z=centroids[\"z_3d\"])\n",
    "fig.add_trace(centroids_trace.update_traces(marker=dict(color=meta[\"colors\"].unique().tolist(), symbol=\"x\", line=dict(color='black', width=1000,)), name='Centroids').data[0])\n",
    "fig.update_layout(scene=dict(aspectmode=\"data\"), height=1000, width=1000)\n",
    "#plt.savefig(\"tables/PCA_Umap3d_seaborn.png\")\n",
    "fig.write_image(\"figures/Sup_Figure_S4_PCA_Umap3d_seaborn.png\")\n",
    "fig.show()"
   ],
   "metadata": {
    "collapsed": false
   }
  },
  {
   "cell_type": "code",
   "execution_count": null,
   "outputs": [],
   "source": [
    "centroids"
   ],
   "metadata": {
    "collapsed": false
   }
  },
  {
   "cell_type": "code",
   "execution_count": null,
   "outputs": [],
   "source": [
    "import numpy as np\n",
    "from scipy.spatial.distance import pdist, squareform\n",
    "\n",
    "# Assuming your matrix looks like this:\n",
    "# matrix = np.array([\n",
    "#     [x1, y1, z1],\n",
    "#     [x2, y2, z2],\n",
    "#     ...,\n",
    "#     [x10, y10, z10]\n",
    "# ])\n",
    "\n",
    "# Calculate the pairwise distances\n",
    "distance_vector = pdist(centroids)\n",
    "\n",
    "# Convert the distance vector to a square distance matrix\n",
    "distance_matrix = squareform(distance_vector)\n",
    "\n",
    "# Display the distance matrix\n",
    "m =np.round(distance_matrix,0)"
   ],
   "metadata": {
    "collapsed": false
   }
  },
  {
   "cell_type": "code",
   "execution_count": null,
   "outputs": [],
   "source": [],
   "metadata": {
    "collapsed": false
   }
  },
  {
   "cell_type": "code",
   "execution_count": null,
   "outputs": [],
   "source": [
    "df_ccm = pd.read_csv(PRUNED_PVAL_CCMN_PATH,sep=\";\")\n",
    "meta_file_dict = meta[[\"Nodes\",\"cluster_names\"]]\n",
    "meta_file_dict.set_index(\"Nodes\",inplace=True)\n",
    "mfd = meta_file_dict.to_dict()[\"cluster_names\"]\n",
    "df_ccm[\"from_clu\"]=df_ccm[\"from\"].map(mfd)\n",
    "df_ccm[\"to_clu\"]=df_ccm[\"to\"].map(mfd)\n",
    "#df_ccm.head()"
   ],
   "metadata": {
    "collapsed": false
   }
  },
  {
   "cell_type": "code",
   "execution_count": null,
   "outputs": [],
   "source": [
    "matrix_3b = df_ccm[[\"from_clu\",\"to_clu\", \"corr\"]].groupby([\"to_clu\",\"from_clu\"]).agg(np.mean).reset_index()\n",
    "\n",
    "# Create a matrix using pivot\n",
    "matrix_pivot = matrix_3b.pivot(index='to_clu', columns='from_clu', values='corr')\n",
    "matrix_pivot"
   ],
   "metadata": {
    "collapsed": false
   }
  },
  {
   "cell_type": "code",
   "execution_count": null,
   "outputs": [],
   "source": [
    "matrix_pivot.to_csv(\"tables/Main_Figure_S3_D_table.csv\",sep=\";\")"
   ],
   "metadata": {
    "collapsed": false
   }
  },
  {
   "cell_type": "code",
   "execution_count": null,
   "outputs": [],
   "source": [
    "#df_ccm = pd.read_csv(\"tables/matrix_cluster_cluster_distance_ALL.csv\",sep=\",\", index_col=0)\n",
    "#dc = df_ccm[df_ccm>-0.1]\n",
    "#dc = dc.fillna(0)\n",
    "dc =matrix_pivot\n",
    "#dc.to_csv(\"tables/matrix_cluster_cluster_distance_ALL_clean.csv\",sep=\",\")\n",
    "dc = dc.fillna(0) #ToDo replace with ccm aggregated ADD HERE\n",
    "dc =pd.DataFrame(dc)\n"
   ],
   "metadata": {
    "collapsed": false
   }
  },
  {
   "cell_type": "code",
   "execution_count": null,
   "outputs": [],
   "source": [
    "dc.columns"
   ],
   "metadata": {
    "collapsed": false
   }
  },
  {
   "cell_type": "code",
   "execution_count": null,
   "outputs": [],
   "source": [
    "dc"
   ],
   "metadata": {
    "collapsed": false
   }
  },
  {
   "cell_type": "code",
   "execution_count": null,
   "outputs": [],
   "source": [
    "#from config import name_dict_new\n",
    "#name_clu = [i for i in centroids.index]\n",
    "#n_dict = {col: name_clu[col] for col in dc.columns}\n",
    "#dc.rename(columns=n_dict, inplace=True)\n",
    "#dc.index = dc.index.map(n_dict)"
   ],
   "metadata": {
    "collapsed": false
   }
  },
  {
   "cell_type": "code",
   "execution_count": null,
   "outputs": [],
   "source": [
    "bin = dc[dc == 0]\n",
    "bin = bin.fillna(1)\n",
    "bin"
   ],
   "metadata": {
    "collapsed": false
   }
  },
  {
   "cell_type": "code",
   "execution_count": null,
   "outputs": [],
   "source": [
    "bin_one= dc[dc == 10]\n",
    "bin_one = bin_one.fillna(1)\n",
    "bin_one"
   ],
   "metadata": {
    "collapsed": false
   }
  },
  {
   "cell_type": "code",
   "execution_count": null,
   "outputs": [],
   "source": [
    "# All distances\n",
    "dist_map = np.multiply(bin_one, m)\n",
    "print(dist_map.sum().sum())\n",
    "dist_map"
   ],
   "metadata": {
    "collapsed": false
   }
  },
  {
   "cell_type": "code",
   "execution_count": null,
   "outputs": [],
   "source": [
    "dist_map.to_csv(\"tables/Sup_Figures_4_5_6_Latentspace_distance_matrix.csv\",sep=\";\")"
   ],
   "metadata": {
    "collapsed": false
   }
  },
  {
   "cell_type": "code",
   "execution_count": null,
   "outputs": [],
   "source": [
    "# distance masked with CCMNs\n",
    "result = np.multiply(bin, m)\n",
    "print(result.sum().sum())\n",
    "result"
   ],
   "metadata": {
    "collapsed": false
   }
  },
  {
   "cell_type": "code",
   "execution_count": null,
   "outputs": [],
   "source": [
    "m_inv = m+1\n",
    "n = np.where(m_inv!=1, 1, 0)\n",
    "result_inv = np.multiply(bin, m_inv)\n",
    "\n",
    "print(result_inv.sum().sum())\n",
    "result_inv"
   ],
   "metadata": {
    "collapsed": false
   }
  },
  {
   "cell_type": "code",
   "execution_count": null,
   "outputs": [],
   "source": [
    "import numpy as np\n",
    "import matplotlib.pyplot as plt\n",
    "\n",
    "# Assuming A is the adjacency matrix and D is the distance matrix\n",
    "# Create sample matrices for illustration\n",
    "A = bin.values\n",
    "\n",
    "D = m\n",
    "D=  np.where((D> 0) & (D < 4), 1, 0)\n",
    "# Visual representation\n",
    "plt.subplot(1, 2, 1)\n",
    "plt.imshow(A, cmap='viridis')\n",
    "plt.title('Adjacency Matrix')\n",
    "\n",
    "plt.subplot(1, 2, 2)\n",
    "plt.imshow(D, cmap='viridis')\n",
    "plt.title('Distance Matrix')\n",
    "\n",
    "plt.show()\n"
   ],
   "metadata": {
    "collapsed": false
   }
  },
  {
   "cell_type": "code",
   "execution_count": null,
   "outputs": [],
   "source": [
    "import matplotlib.pyplot as plt\n",
    "\n",
    "plt.figure(figsize=(8, 6))\n",
    "\n",
    "pivot_table_mask = (result == 0.00)\n",
    "\n",
    "sns.clustermap(result, annot=True, cmap='coolwarm', fmt='.0f', cbar=True, square=True, linewidths=1, mask=pivot_table_mask, col_cluster=False, row_cluster=False)\n",
    "\n",
    "sns.set_style('white')\n",
    "#sns.grid(False)\n",
    "# Logarithmic normalization\n",
    "\n",
    "# Annotate the heatmap with cluster names\n",
    "#plt.xticks(np.arange(10) + 0.5, clu_list_, rotation=90)\n",
    "#plt.yticks(np.arange(10) + 0.5, clu_list_, rotation=0)\n",
    "\n",
    "#plt.title('Beta Diversity Matrix', fontsize=16)\n",
    "#plt.xlabel('From Cluster', fontsize=12)\n",
    "#sns.setylabel('Cluster', fontsize=12)\n",
    "\n",
    "#plt.tight_layout()  # Adjust layout for better appearance\n",
    "\n",
    "save_path_temp =f'figures/Sup_Figure_S6_Distance_Connections_heatmap_ALL.png'\n",
    "plt.savefig(save_path_temp, dpi=200, bbox_inches='tight')\n",
    "\n",
    "plt.show()"
   ],
   "metadata": {
    "collapsed": false
   }
  },
  {
   "cell_type": "code",
   "execution_count": null,
   "outputs": [],
   "source": [
    "import matplotlib.pyplot as plt\n",
    "\n",
    "plt.figure(figsize=(8, 6))\n",
    "\n",
    "pivot_table_mask = (dist_map == 0.00)\n",
    "\n",
    "sns.clustermap(dist_map, annot=True, cmap='coolwarm', fmt='.0f', cbar=True, square=True, linewidths=1, mask=pivot_table_mask, col_cluster=True, row_cluster=True,)\n",
    "\n",
    "sns.set_style('white')\n",
    "# Logarithmic normalization\n",
    "\n",
    "# Annotate the heatmap with cluster names\n",
    "#plt.xticks(np.arange(10) + 0.5, clu_list_, rotation=90)\n",
    "#plt.yticks(np.arange(10) + 0.5, clu_list_, rotation=0)\n",
    "\n",
    "#plt.title('Beta Diversity Matrix', fontsize=16)\n",
    "#plt.xlabel('Cluster', fontsize=12)\n",
    "#plt.ylabel('Cluster', fontsize=12)\n",
    "\n",
    "#plt.tight_layout()  # Adjust layout for better appearance\n",
    "\n",
    "save_path_temp =f'figures/Sup_Figure_S5_Distance_ALL_Connections_heatmap_ALL.png'\n",
    "plt.savefig(save_path_temp, dpi=200, bbox_inches='tight')\n",
    "\n",
    "plt.show()"
   ],
   "metadata": {
    "collapsed": false
   }
  },
  {
   "cell_type": "code",
   "execution_count": null,
   "outputs": [],
   "source": [],
   "metadata": {
    "collapsed": false
   }
  },
  {
   "cell_type": "code",
   "execution_count": null,
   "outputs": [],
   "source": [],
   "metadata": {
    "collapsed": false
   }
  },
  {
   "cell_type": "code",
   "execution_count": null,
   "outputs": [],
   "source": [],
   "metadata": {
    "collapsed": false
   }
  },
  {
   "cell_type": "code",
   "execution_count": null,
   "outputs": [],
   "source": [],
   "metadata": {
    "collapsed": false
   }
  }
 ],
 "metadata": {
  "kernelspec": {
   "display_name": "Python 3",
   "language": "python",
   "name": "python3"
  },
  "language_info": {
   "codemirror_mode": {
    "name": "ipython",
    "version": 2
   },
   "file_extension": ".py",
   "mimetype": "text/x-python",
   "name": "python",
   "nbconvert_exporter": "python",
   "pygments_lexer": "ipython2",
   "version": "2.7.6"
  }
 },
 "nbformat": 4,
 "nbformat_minor": 0
}
