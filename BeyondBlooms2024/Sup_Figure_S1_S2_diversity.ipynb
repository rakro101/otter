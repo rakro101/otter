{
 "cells": [
  {
   "cell_type": "code",
   "execution_count": null,
   "metadata": {
    "collapsed": true
   },
   "outputs": [],
   "source": [
    "#!pip install scikit-bio\n",
    "import skbio as sb\n",
    "import pandas as pd\n",
    "import numpy as np\n",
    "from BeyondBlooms2024.config_file import CON_LOUVAIN_META_PATH, ENRICH\n",
    "from BeyondBlooms2024.config import name_dict, color_dict"
   ]
  },
  {
   "cell_type": "code",
   "execution_count": null,
   "outputs": [],
   "source": [
    "df_meta = pd.read_csv(ENRICH, sep=\",\")\n",
    "#from config import name_dict\n",
    "\n",
    "df_meta[\"clu\"] = df_meta[\"cluster_names\"]\n",
    "#df_meta=df_meta[~df_meta[\"clu\"].isin([\"--L\", \"--F\", \"--H\", \"--M\"])]\n",
    "#df_meta[\"clu\"] = df_meta[\"LouvainLabelD\"]\n",
    "df_meta[\"count\"]=1\n",
    "df_f4_count = df_meta[['Nodes', 'Kingdom', 'Phylum', 'Class', 'Order', 'Family', 'Genus',\n",
    "       'Species', 'clu']]"
   ],
   "metadata": {
    "collapsed": false
   }
  },
  {
   "cell_type": "code",
   "execution_count": null,
   "outputs": [],
   "source": [
    "df_meta[\"cluster_names\"]"
   ],
   "metadata": {
    "collapsed": false
   }
  },
  {
   "cell_type": "code",
   "execution_count": null,
   "outputs": [],
   "source": [
    "def isna_col(col):\n",
    "       if np.isnan(col):\n",
    "              return 0\n",
    "       else:\n",
    "              return 1"
   ],
   "metadata": {
    "collapsed": false
   }
  },
  {
   "cell_type": "code",
   "execution_count": null,
   "outputs": [],
   "source": [
    "def bins(col):\n",
    "    if col == 0:\n",
    "        return 0\n",
    "    elif col <= 10:\n",
    "        return 1\n",
    "    elif col <= 20:\n",
    "        return 2\n",
    "    elif col <= 30:\n",
    "        return 3\n",
    "    elif col <= 40:\n",
    "        return 4\n",
    "    elif col <= 50:\n",
    "        return 5\n",
    "    elif col <= 100:\n",
    "        return 6\n",
    "    elif col <= 150:\n",
    "        return 7\n",
    "    else:\n",
    "        return 8\n",
    "bins_list = [\"0\",\"(0,10]\", \"(10,20]\", \"(20,30]\", \"(30,40]\", \"(40,50]\", \"(50,100]\",\"(100,150]\", \"(150,400]\"]\n",
    "df_f4_count[\"count\"] = 1\n",
    "print(df_f4_count)"
   ],
   "metadata": {
    "collapsed": false
   }
  },
  {
   "cell_type": "code",
   "execution_count": null,
   "outputs": [],
   "source": [
    "def log_if_not_null(col):\n",
    "       if col != 0.0:\n",
    "              return np.log(col)\n",
    "       else:\n",
    "              return 0"
   ],
   "metadata": {
    "collapsed": false
   }
  },
  {
   "cell_type": "code",
   "execution_count": null,
   "outputs": [],
   "source": [
    "\n",
    "temp_list= []\n",
    "temp_list_= []\n",
    "clu_list_ = []\n",
    "no_asv = []\n",
    "\n"
   ],
   "metadata": {
    "collapsed": false
   }
  },
  {
   "cell_type": "code",
   "execution_count": null,
   "outputs": [],
   "source": [
    "for clu in sorted(df_f4_count[\"clu\"].unique()):\n",
    "    clu_list_.append(clu)\n",
    "    df_temp = df_f4_count[df_f4_count[\"clu\"]==clu]\n",
    "    #df_temp = df_temp.reindex(df_f4_count, fill_value=0)\n",
    "    no_asv.append(df_temp.shape[0])\n",
    "    f4 = df_temp.groupby('Phylum').agg({'count': ['sum']}).sort_values(by=[('count', 'sum')])\n",
    "\n",
    "    f4[\"count_n\"] = f4[('count', 'sum')] / np.sum(f4[('count', 'sum')])\n",
    "    f4_count=f4.values.reshape(1, -1).ravel().tolist()\n",
    "    f4[\"log\"]= f4[\"count_n\"].apply(log_if_not_null)\n",
    "    f4[\"sh\"] =f4[\"log\"] * f4[\"count_n\"]\n",
    "    f4[\"bins\"] = f4[('count', 'sum')].apply(bins)\n",
    "    #f4 = f4.sort_values('Class')\n",
    "    F = -np.sum(f4)\n",
    "    temp_list_.append(f4_count)\n",
    "    temp_list.append(f4)\n",
    "\n",
    "f4 = df_f4_count.groupby('Phylum').agg({'count': ['sum']}).sort_values(by=[('count', 'sum')])\n",
    "f4__ =f4\n",
    "f4[\"count_n\"] = f4[('count', 'sum')] / np.sum(f4[('count', 'sum')])\n",
    "f4_count=f4.values.reshape(1, -1).ravel().tolist()\n",
    "f4[\"log\"]= f4[\"count_n\"].apply(log_if_not_null)\n",
    "f4[\"sh\"] =f4[\"log\"] * f4[\"count_n\"]\n",
    "f4[\"bins\"] = f4[('count', 'sum')].apply(bins)\n",
    "f4_count_ = f4_count\n",
    "F = -np.sum(f4)"
   ],
   "metadata": {
    "collapsed": false
   }
  },
  {
   "cell_type": "code",
   "execution_count": null,
   "outputs": [],
   "source": [
    "print(f4__)"
   ],
   "metadata": {
    "collapsed": false
   }
  },
  {
   "cell_type": "code",
   "execution_count": null,
   "outputs": [],
   "source": [
    "from matplotlib.colors import ListedColormap\n",
    "from matplotlib import cm\n",
    "viridis = cm.get_cmap('hsv', len(df_f4_count['Phylum'].drop_duplicates()))\n",
    "#print(viridis)\n",
    "newcolors = viridis(np.linspace(0, 1, len(df_f4_count['Phylum'].drop_duplicates())))\n",
    "newcolors2 = newcolors.copy()\n",
    "newcmp = ListedColormap(newcolors2)\n",
    "color_dict = {}\n",
    "counter = 0\n",
    "for ent in df_f4_count['Phylum'].drop_duplicates():\n",
    "    color_dict[ent] =newcolors2[counter, :]\n",
    "    counter +=1\n",
    "newcmp"
   ],
   "metadata": {
    "collapsed": false
   }
  },
  {
   "cell_type": "code",
   "execution_count": null,
   "outputs": [],
   "source": [
    "coun = np.zeros((2,len(f4_count)))\n",
    "coun[0,:] =np.array(f4_count)\n",
    "coun[1,:] =np.array(f4_count)\n",
    "a=sb.diversity.beta_diversity(metric=\"hamming\", counts=coun)\n",
    "beta= np.round(a[0][1],10)\n",
    "\n",
    "\n"
   ],
   "metadata": {
    "collapsed": false
   }
  },
  {
   "cell_type": "code",
   "execution_count": null,
   "outputs": [],
   "source": [
    "len(temp_list)"
   ],
   "metadata": {
    "collapsed": false
   }
  },
  {
   "cell_type": "code",
   "execution_count": null,
   "outputs": [],
   "source": [
    "temp_list"
   ],
   "metadata": {
    "collapsed": false
   }
  },
  {
   "cell_type": "code",
   "execution_count": null,
   "outputs": [],
   "source": [
    "temp_list\n",
    "\n",
    "def calculate_beta(x,y):\n",
    "    coun = np.zeros((2,len(x)))\n",
    "    coun[0,:] =np.array(x)\n",
    "    coun[1,:] =np.array(y)\n",
    "    a=sb.diversity.beta_diversity(metric=\"hamming\", counts=coun)\n",
    "    beta= np.round(a[0][1],10)\n",
    "    return beta"
   ],
   "metadata": {
    "collapsed": false
   }
  },
  {
   "cell_type": "code",
   "execution_count": null,
   "outputs": [],
   "source": [
    "from matplotlib import pyplot as plt\n",
    "SMALL_SIZE = 20\n",
    "MEDIUM_SIZE = 20\n",
    "BIGGER_SIZE = 20\n",
    "MEDIUM= 25\n",
    "TICK = 20\n",
    "I_SIZE = 8\n",
    "plt.rc('font', size=SMALL_SIZE)          # controls default text sizes\n",
    "plt.rc('axes', titlesize=SMALL_SIZE)     # fontsize of the axes title\n",
    "plt.rc('axes', labelsize=MEDIUM)    # fontsize of the x and y labels\n",
    "plt.rc('xtick', labelsize=TICK)    # fontsize of the tick labels\n",
    "plt.rc('ytick', labelsize=TICK)    # fontsize of the tick labels\n",
    "plt.rc('legend', fontsize=MEDIUM)   # legend fontsize\n",
    "plt.rc('figure', titlesize=BIGGER_SIZE)\n",
    "linewidth=4"
   ],
   "metadata": {
    "collapsed": false
   }
  },
  {
   "cell_type": "code",
   "execution_count": null,
   "outputs": [],
   "source": [
    "import matplotlib.pyplot as plt\n",
    "import numpy as np\n",
    "import seaborn as sns  # Import Seaborn for additional styling\n",
    "\n",
    "# Assuming 'color_dict' and 'bins_list' are predefined in your code\n",
    "\n",
    "fig, axs = plt.subplots(5, 2, figsize=(20, 42), sharey=True)  # Create a 5x2 grid for subplots with shared y-axis\n",
    "chao = []\n",
    "shan = []\n",
    "simp = []\n",
    "noasv = []\n",
    "\n",
    "for ind, temp in enumerate(temp_list):\n",
    "    f4_count = temp[\"count_n\"]\n",
    "    f4 = temp_list[ind]\n",
    "    row = ind // 2  # Calculate row for the subplot\n",
    "    col = ind % 2   # Calculate column for the subplot\n",
    "\n",
    "    ax = axs[row, col]  # Select the current subplot\n",
    "\n",
    "    # Use Seaborn to set aesthetic parameters\n",
    "    sns.set(style=\"whitegrid\", font_scale=1.2)\n",
    "\n",
    "    for data in f4.iterrows():\n",
    "        w =data[1][\"bins\"]\n",
    "        #w = w.reindex(f4__.index, fill_value=0)\n",
    "        ax.bar(data[0], w, color=color_dict[data[0]])\n",
    "        ax.set_yticklabels(bins_list)\n",
    "        ax.tick_params(axis='x', rotation=90)  # Rotate x-axis labels\n",
    "\n",
    "    ax.set_xlabel(\"Phylum\", fontsize=15)\n",
    "    ax.set_ylabel(\"Number of ASVs\", fontsize=15)\n",
    "    ax.set_title(f\"{clu_list_[ind]}\")\n",
    "    # Adjust positioning of text annotations\n",
    "    z =f4[\"count_n\"]\n",
    "    z = z.reindex(f4__.index, fill_value=0)\n",
    "\n",
    "    chao.append(np.round(sb.diversity.alpha.chao1(counts=z), 2))\n",
    "    shan.append(np.round(sb.diversity.alpha.shannon(counts=z, base=np.e), 2))\n",
    "    simp.append(np.round(sb.diversity.alpha.simpson(counts=z), 2))\n",
    "    noasv.append(np.round(no_asv[ind], 2))\n",
    "    # annotations = [\n",
    "    #     f'Chao1 - Richness {np.round(sb.diversity.alpha.chao1(counts=z), 2)}',\n",
    "    #     f'Shannon Entropy: {np.round(sb.diversity.alpha.shannon(counts=z, base=np.e), 2)}',\n",
    "    #     f'Simpson-Index: {np.round(sb.diversity.alpha.simpson(counts=z), 2)}',\n",
    "    #     f'No. ASVs: {np.round(no_asv[ind], 2)}',\n",
    "    # #    f'Beta Diversity (Hamming distance) F4 vs. HG-IV: {np.round(beta, 2)}'\n",
    "    # ]\n",
    "    #\n",
    "    # for i, text in enumerate(annotations, start=3):\n",
    "    #     ax.text(1, i, text, fontsize=11, color='black', fontstyle='italic')\n",
    "\n",
    "    plt.tight_layout()  # Adjust layout for better appearance\n",
    "\n",
    "# Show and save the plot\n",
    "plt.show()\n",
    "#save_path_temp = 'figures/' + 'Sup_Figure_1_alpha__div_F4_each_cluster.png'\n",
    "#fig.savefig(save_path_temp, dpi=200, bbox_inches='tight')\n"
   ],
   "metadata": {
    "collapsed": false
   }
  },
  {
   "cell_type": "code",
   "execution_count": null,
   "outputs": [],
   "source": [
    "#from config import name_dict_new\n",
    "df_alpha = pd.DataFrame()\n",
    "df_alpha[\"Cluster\"]  =  clu_list_\n",
    "df_alpha[\"Chao1 - Richness\"]  =  chao\n",
    "df_alpha[\"Shannon Entropy\"]  =    shan\n",
    "df_alpha[\"Simpson-Index\"]  =   simp\n",
    "df_alpha[\"No. ASVs\"]  =    noasv\n",
    "#df_alpha[\"Cluster\"] = df_alpha[\"Cluster\"].apply(lambda x: name_dict[str(int(x))])\n",
    "clu_list_ = df_alpha[\"Cluster\"].to_list()\n",
    "df_alpha.set_index(\"Cluster\", inplace=True)\n",
    "df_alpha\n"
   ],
   "metadata": {
    "collapsed": false
   }
  },
  {
   "cell_type": "code",
   "execution_count": null,
   "outputs": [],
   "source": [
    "import numpy as np\n",
    "import seaborn as sns\n",
    "import matplotlib.pyplot as plt\n",
    "\n",
    "len_clu = 10\n",
    "\n",
    "# Function to calculate beta\n",
    "def calculate_beta(x,y):\n",
    "    coun = np.zeros((2,len(x.values)))\n",
    "    coun[0,:] =x.values.ravel()\n",
    "    coun[1,:] =y.values.ravel()\n",
    "    a=sb.diversity.beta_diversity(metric=\"braycurtis\", counts=coun)\n",
    "    beta= np.round(a[0][1],10)\n",
    "    return beta\n",
    "\n",
    "# Generate the list of arrays and their names\n",
    "def generate_temp_list_and_names(clu_list_, temp_list):\n",
    "    temp_list = temp_list # Modify size or number of arrays as needed\n",
    "    clu_list_ = clu_list_  # Names for the arrays\n",
    "    return temp_list, clu_list_\n",
    "\n",
    "# Generate the list of arrays and their names\n",
    "temp_list, clu_list_ = generate_temp_list_and_names(clu_list_,temp_list)\n",
    "\n",
    "# Calculate beta values for each pair in the list\n",
    "beta_matrix = np.zeros((len_clu, len_clu))\n",
    "for i in range(len_clu):\n",
    "    for j in range(len_clu):\n",
    "        x= temp_list[i][\"count\"]\n",
    "        y =temp_list[j][\"count\"]\n",
    "        x = x.reindex(f4__.index, fill_value=0)\n",
    "        y = y.reindex(f4__.index, fill_value=0)\n",
    "        print(x.shape)\n",
    "        print(y.shape)\n",
    "        beta_matrix[i, j] = calculate_beta(x, y)\n",
    "\n",
    "# Plot the matrix as a heatmap\n",
    "# Plot the matrix as a heatmap\n",
    "plt.figure(figsize=(8, 6))\n",
    "sns.heatmap(beta_matrix, annot=True, cmap='coolwarm', fmt='.1f', cbar=True, square=True, linewidths=1)\n",
    "\n",
    "sns.set_style('white')\n",
    "# Logarithmic normalization\n",
    "\n",
    "# Annotate the heatmap with cluster names\n",
    "plt.xticks(np.arange(len_clu) + 0.5, clu_list_, rotation=90)\n",
    "plt.yticks(np.arange(len_clu) + 0.5, clu_list_, rotation=0)\n",
    "\n",
    "#plt.title('Beta Diversity Matrix', fontsize=16)\n",
    "plt.xlabel('Cluster', fontsize=12)\n",
    "plt.ylabel('Cluster', fontsize=12)\n",
    "\n",
    "plt.tight_layout()  # Adjust layout for better appearance\n",
    "\n",
    "save_path_temp =f'figures/Sup_Figure_S2_Beta_diversity_heatmap_braycurtis.png'\n",
    "plt.savefig(save_path_temp, dpi=200, bbox_inches='tight')\n",
    "\n",
    "plt.show()"
   ],
   "metadata": {
    "collapsed": false
   }
  },
  {
   "cell_type": "code",
   "execution_count": null,
   "outputs": [],
   "source": [
    "x = x.reindex(f4__.index, fill_value=0)"
   ],
   "metadata": {
    "collapsed": false
   }
  },
  {
   "cell_type": "code",
   "execution_count": null,
   "outputs": [],
   "source": [
    "f4[\"count\"]"
   ],
   "metadata": {
    "collapsed": false
   }
  },
  {
   "cell_type": "code",
   "execution_count": null,
   "outputs": [],
   "source": [
    "import pandas as pd\n",
    "import matplotlib.pyplot as plt\n",
    "import seaborn as sns  # Import seaborn for enhanced styling\n",
    "from BeyondBlooms2024.config import name_dict, color_dict\n",
    "\n",
    "def plot_richness(alpha_diversity_data, sample_colors=None):\n",
    "    # Set seaborn style\n",
    "    sns.set(style=\"whitegrid\")\n",
    "\n",
    "    # Number of subplots\n",
    "    num_metrics = alpha_diversity_data.shape[1]\n",
    "\n",
    "    # Calculate the number of rows needed\n",
    "    num_rows = (num_metrics + 1) // 2\n",
    "\n",
    "    # Create subplots with 2 columns\n",
    "    fig, axes = plt.subplots(nrows=num_rows, ncols=2, figsize=(14, 4 * num_rows))\n",
    "\n",
    "    # Flatten the 2D array of subplots\n",
    "    axes = axes.flatten()\n",
    "\n",
    "    # Plot each metric on a separate subplot with specified sample colors\n",
    "    for i, metric in enumerate(alpha_diversity_data.columns):\n",
    "        alpha_diversity_data[metric].plot(kind='bar', ax=axes[i], rot=0, color=sample_colors, edgecolor='black')\n",
    "        axes[i].set_ylabel(f'{metric}', fontsize=20)\n",
    "        axes[i].set_xlabel('Cluster', fontsize=20)\n",
    "        #axes[i].set_title(f'Alpha Diversity - {metric}', fontsize=14)\n",
    "        axes[i].tick_params(axis='both', which='both', length=0,labelsize=16)  # Hide ticks\n",
    "\n",
    "\n",
    "    # Adjust layout for better spacing\n",
    "    plt.tight_layout()\n",
    "\n",
    "    # Show the plot\n",
    "\n",
    "\n",
    "    save_path_temp =f'figures/Sup_Figure_S1_Alpha_diversity_barplot.png'\n",
    "    plt.savefig(save_path_temp, dpi=200, bbox_inches='tight')\n",
    "    plt.show()\n",
    "\n",
    "\n",
    "\n",
    "list_ = [name for name in df_alpha.index]\n",
    "#list_.sort()\n",
    "reverse_dict = {value: key for key, value in name_dict.items()}\n",
    "sample_colors = [color_dict[str(int(reverse_dict[i]))] for i in list_]\n",
    "\n",
    "plot_richness(df_alpha, sample_colors=sample_colors)\n",
    "print(list_)"
   ],
   "metadata": {
    "collapsed": false
   }
  },
  {
   "cell_type": "code",
   "execution_count": null,
   "outputs": [],
   "source": [],
   "metadata": {
    "collapsed": false
   }
  },
  {
   "cell_type": "code",
   "execution_count": null,
   "outputs": [],
   "source": [
    "df_alpha"
   ],
   "metadata": {
    "collapsed": false
   }
  },
  {
   "cell_type": "code",
   "execution_count": null,
   "outputs": [],
   "source": [
    "color_dict"
   ],
   "metadata": {
    "collapsed": false
   }
  },
  {
   "cell_type": "code",
   "execution_count": null,
   "outputs": [],
   "source": [],
   "metadata": {
    "collapsed": false
   }
  }
 ],
 "metadata": {
  "kernelspec": {
   "display_name": "Python 3",
   "language": "python",
   "name": "python3"
  },
  "language_info": {
   "codemirror_mode": {
    "name": "ipython",
    "version": 2
   },
   "file_extension": ".py",
   "mimetype": "text/x-python",
   "name": "python",
   "nbconvert_exporter": "python",
   "pygments_lexer": "ipython2",
   "version": "2.7.6"
  }
 },
 "nbformat": 4,
 "nbformat_minor": 0
}
