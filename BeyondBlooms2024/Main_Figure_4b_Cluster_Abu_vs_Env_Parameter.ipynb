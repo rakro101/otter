{
 "cells": [
  {
   "cell_type": "code",
   "execution_count": null,
   "metadata": {
    "collapsed": true
   },
   "outputs": [],
   "source": [
    "import numpy as np\n",
    "import pandas as pd\n",
    "from BeyondBlooms2024.config import name_dict\n",
    "from BeyondBlooms2024.config_file import (ABUNDANCES_FILE, CCMN_CON_MAP_PATH, CON_LOUVAIN_META_PATH,CON_LOUVAIN_NETWORK_PATH, ENRICH\n",
    ",NUM_PERMUTATIONS, NUM_SAMPLES, NUM_CORES, METADATA_FILE, PRUNED_PVAL_CCMN_PATH,PVAL_CCMN_PATH,ENRICHED_META_PATH, RANDOM_PVAL_CCMN_PATH)"
   ]
  },
  {
   "cell_type": "code",
   "execution_count": null,
   "outputs": [],
   "source": [
    "df = pd.read_csv(\"data/F4_euk_meta_data.csv\", sep=\";\")\n",
    "df_env_F4 = df\n",
    "df_env_F4 = df_env_F4.set_index(\"date\")\n",
    "df_env_F4.index = pd.to_datetime(df_env_F4.index)\n",
    "df_env_F4.columns#'PAR_satellite'\n",
    "print(len(df_env_F4))\n",
    "df_env_F4 = df_env_F4#.loc['2016-08-01':'2020-07-31']\n",
    "print(df_env_F4)"
   ],
   "metadata": {
    "collapsed": false
   }
  },
  {
   "cell_type": "markdown",
   "source": [],
   "metadata": {
    "collapsed": false
   }
  },
  {
   "cell_type": "code",
   "execution_count": null,
   "outputs": [],
   "source": [
    "# Load Taxa Table\n",
    "df_taxa = pd.read_csv(ENRICH, sep =',', engine=\"python\")\n",
    "selected_asv= df_taxa[\"Nodes\"].tolist()"
   ],
   "metadata": {
    "collapsed": false
   }
  },
  {
   "cell_type": "code",
   "execution_count": null,
   "outputs": [],
   "source": [
    "def get_dict(col = \"Class\"):\n",
    "    df_taxa_temp =df_taxa[[\"Nodes\",col]]\n",
    "    df_taxa_temp.set_index(\"Nodes\", inplace=True)\n",
    "    d_ = df_taxa_temp.to_dict()[col]\n",
    "    return d_"
   ],
   "metadata": {
    "collapsed": false
   }
  },
  {
   "cell_type": "code",
   "execution_count": null,
   "outputs": [],
   "source": [
    "df_abundance = pd.read_csv(ABUNDANCES_FILE,sep=\";\")\n",
    "df_abundance[\"Unnamed: 0\"]= pd.to_datetime(df_abundance[\"Unnamed: 0\"])\n",
    "df_abundance.set_index(\"Unnamed: 0\",inplace=True)\n",
    "df_sqrt = np.sqrt(df_abundance)\n",
    "row_norms = np.linalg.norm(df_sqrt, axis=1)\n",
    "df_normalized = df_sqrt.div(row_norms, axis=0)\n",
    "df_abundance = df_normalized\n",
    "print(df_abundance.head())"
   ],
   "metadata": {
    "collapsed": false
   }
  },
  {
   "cell_type": "code",
   "execution_count": null,
   "outputs": [],
   "source": [
    "dff = []\n",
    "l_cus = df_taxa[\"cluster_names\"].unique().tolist()\n",
    "l_cus.sort()\n",
    "for clu in l_cus:\n",
    "    temp =df_taxa[df_taxa[\"cluster_names\"]==clu]\n",
    "    temp_asv= temp[\"Nodes\"].tolist()\n",
    "    temp_ab = df_abundance[temp_asv]\n",
    "    temp_ab = temp_ab.sum(axis=1).reset_index()\n",
    "    #print(temp_ab.columns)\n",
    "    temp_ab.rename(columns={\"Unnamed: 0\": \"date\", 0: f\"{clu}\"}, inplace=True)\n",
    "    temp_ab.set_index(\"date\", inplace = True)\n",
    "    #print(temp_ab.head())\n",
    "    dff.append(temp_ab)\n",
    "df_clus = pd.concat(dff, axis=1)\n",
    "df_clus.head()"
   ],
   "metadata": {
    "collapsed": false
   }
  },
  {
   "cell_type": "code",
   "execution_count": null,
   "outputs": [],
   "source": [
    "df_clus.columns"
   ],
   "metadata": {
    "collapsed": false
   }
  },
  {
   "cell_type": "code",
   "execution_count": null,
   "outputs": [],
   "source": [
    "df_clus# =df_clus[[\"0\",\"1\",\"2\",\"4\",\"6\",\"7\",\"8\",\"9\",\"10\",\"11\"]]#ToDo Namedict\n",
    "\n",
    "df_clus.rename(columns=name_dict, inplace=True)\n",
    "clu_cols = df_clus.columns.tolist()"
   ],
   "metadata": {
    "collapsed": false
   }
  },
  {
   "cell_type": "code",
   "execution_count": null,
   "outputs": [],
   "source": [
    "df_env_F4.columns"
   ],
   "metadata": {
    "collapsed": false
   }
  },
  {
   "cell_type": "code",
   "execution_count": null,
   "outputs": [],
   "source": [
    "cols =['MLD', 'PAR', 'temp', \"sal\", \"PW_frac\", \"O2_conc\",\"depth\"]# df_env_F4.columns#\n",
    "# corr with only one mooring ASV\n",
    "df_env_F4.rename(columns={'PAR_satellite': 'PAR'}, inplace=True)\n",
    "df_env = df_env_F4[cols]\n"
   ],
   "metadata": {
    "collapsed": false
   }
  },
  {
   "cell_type": "code",
   "execution_count": null,
   "outputs": [],
   "source": [
    "window_size = 8  # You can adjust this as needed\n",
    "df_env = df_env.reset_index()\n",
    "for i in range(len(df_env)):\n",
    "    if pd.isna(df_env.at[i, 'O2_conc']):\n",
    "        # Calculate the rolling mean for the neighborhood around the NaN value\n",
    "        start = max(0, i - (window_size // 2))\n",
    "        end = min(len(df_env), i + (window_size // 2) + 1)\n",
    "        neighborhood_mean = df_env['O2_conc'][start:end].mean()\n",
    "\n",
    "        # Replace NaN with the neighborhood mean\n",
    "        df_env.at[i, 'O2_conc'] = neighborhood_mean\n",
    "# Now, df_env will have NaN values in the \"pH\" column replaced with rolling mean values around them\n",
    "print(df_env)\n",
    "df_env.set_index(\"date\", inplace=True)\n",
    "print(df_env)"
   ],
   "metadata": {
    "collapsed": false
   }
  },
  {
   "cell_type": "code",
   "execution_count": null,
   "outputs": [],
   "source": [
    "df_corr_gen= df_clus.join(df_env, how=\"inner\") #only the 94 events (here 93!)\n",
    "correlation_gen = df_corr_gen.corr(method='pearson')\n",
    "print(correlation_gen[cols].T[df_clus.columns].T)\n",
    "target_df_gen = correlation_gen[cols].T[df_clus.columns].T\n",
    "a = target_df_gen.index.tolist()\n",
    "a.sort()\n",
    "a"
   ],
   "metadata": {
    "collapsed": false
   }
  },
  {
   "cell_type": "code",
   "execution_count": null,
   "outputs": [],
   "source": [
    "df_corr = target_df_gen"
   ],
   "metadata": {
    "collapsed": false
   }
  },
  {
   "cell_type": "code",
   "execution_count": null,
   "outputs": [],
   "source": [
    "import seaborn as sns\n",
    "from matplotlib import pyplot as plt\n",
    "\n",
    "SMALL_SIZE = 20\n",
    "MEDIUM_SIZE = 20\n",
    "BIGGER_SIZE = 20\n",
    "MEDIUM= 20\n",
    "TICK = 20\n",
    "I_SIZE = 8\n",
    "linewidth=4\n",
    "plt.rc('font', size=SMALL_SIZE)          # controls default text sizes\n",
    "plt.rc('axes', titlesize=SMALL_SIZE)     # fontsize of the axes title\n",
    "plt.rc('axes', labelsize=MEDIUM)    # fontsize of the x and y labels\n",
    "plt.rc('xtick', labelsize=TICK)    # fontsize of the tick labels\n",
    "plt.rc('ytick', labelsize=TICK)    # fontsize of the tick labels\n",
    "plt.rc('legend', fontsize=MEDIUM)   # legend fontsize\n",
    "plt.rc('figure', titlesize=BIGGER_SIZE)\n",
    "\n",
    "# Reshape the data for heatmap\n",
    "heatmap_data = df_corr.fillna(0)\n",
    "\n",
    "# Logarithmic normalization\n",
    "heatmap_data_normalized = heatmap_data\n",
    "\n",
    "# Create the heatmap\n",
    "plt.figure(figsize=(16, 16))\n",
    "sns.heatmap(heatmap_data_normalized, cmap='coolwarm', cbar=True, annot=True, linewidths=1.5)\n",
    "\n",
    "plt.xlabel('Environment parameter')\n",
    "plt.ylabel('Cluster')\n",
    "#plt.title(f'log1p normalized Count Distribution of BAC ASV by {level} (Top 10 Order)')\n",
    "\n",
    "# Set x-axis tick labels\n",
    "#xticklabels = [str(cluster[0]) for cluster in heatmap_data_normalized.columns]\n",
    "#plt.xticks(range(len(heatmap_data_normalized.columns)), xticklabels, rotation=90)\n",
    "#plt.xticks(rotation=0)\n",
    "# Save the heatmap\n",
    "save_path_temp =f'figures/Main_Figure_4_b__2023_08_08_Env_heatmap_Sec_Filter.png'\n",
    "#plt.savefig(save_path_temp, dpi=200, bbox_inches='tight')\n",
    "\n",
    "plt.show()"
   ],
   "metadata": {
    "collapsed": false
   }
  },
  {
   "cell_type": "code",
   "execution_count": null,
   "outputs": [],
   "source": [
    "import scipy.stats as stats\n",
    "gen_col =clu_cols\n",
    "env_col = ['MLD', 'PAR', 'temp', \"sal\", \"PW_frac\", \"O2_conc\",\"depth\"]\n",
    "env_no = len(env_col)\n",
    "gen_no = len(gen_col)\n",
    "m_1 = np.zeros((gen_no,env_no))\n",
    "m = np.zeros((gen_no,env_no))\n",
    "for i in range(0,gen_no):\n",
    "    for j in range(0,env_no):\n",
    "        cors, p_values = stats.pearsonr(df_corr_gen[gen_col[i]], df_corr_gen[env_col[j]])\n",
    "        m[i, j ] =p_values\n",
    "        m_1[i, j ] =cors\n",
    "p_values = m\n",
    "cor_values =  m_1\n",
    "mask = (p_values > 0.05)\n",
    "df_p_values = pd.DataFrame(p_values)\n",
    "index_val = gen_col"
   ],
   "metadata": {
    "collapsed": false
   }
  },
  {
   "cell_type": "code",
   "execution_count": null,
   "outputs": [],
   "source": [
    "import pandas as pd\n",
    "SMALL_SIZE = 20\n",
    "MEDIUM_SIZE = 20\n",
    "BIGGER_SIZE = 20\n",
    "MEDIUM= 20\n",
    "TICK = 20\n",
    "I_SIZE = 8\n",
    "linewidth=4\n",
    "plt.rc('font', size=SMALL_SIZE)          # controls default text sizes\n",
    "plt.rc('axes', titlesize=SMALL_SIZE)     # fontsize of the axes title\n",
    "plt.rc('axes', labelsize=MEDIUM)    # fontsize of the x and y labels\n",
    "plt.rc('xtick', labelsize=TICK)    # fontsize of the tick labels\n",
    "plt.rc('ytick', labelsize=TICK)    # fontsize of the tick labels\n",
    "plt.rc('legend', fontsize=MEDIUM)   # legend fontsize\n",
    "plt.rc('figure', titlesize=BIGGER_SIZE)\n",
    "import seaborn as sns\n",
    "import matplotlib.pyplot as plt\n",
    "#sns.set_theme(style='white')\n",
    "from scipy.cluster import hierarchy\n",
    "# Reshape the data for heatmap\n",
    "plt.figure(figsize=(20, 30))\n",
    "heatmap_data = df_corr.fillna(0)\n",
    "sns.set_style('white')\n",
    "# Logarithmic normalization\n",
    "\n",
    "clustermap=sns.clustermap(heatmap_data, cmap='coolwarm', annot=True, linewidths=2.5, col_cluster=False,row_cluster=True, mask=mask, rasterized=False, cbar_kws={'drawedges': False})\n",
    "\n",
    "#print(clustermap.dendrogram_row.reordered_ind)\n",
    "#print(clustermap.dendrogram_col.reordered_ind)\n",
    "colorbar_ax = clustermap.cax\n",
    "colorbar_ax.grid(False)\n",
    "clustermap.ax_heatmap.set(ylabel=\"Cluster\", xlabel=\"Environment Parameter\")\n",
    "plt.grid(False)\n",
    "\n",
    "\n",
    "\n",
    "# Reorder the rows based on the desired order\n",
    "#mask = mask[clustermap.dendrogram_row.reordered_ind]\n",
    "\n",
    "save_path_temp =f'figures/Main_Figure_4_b__Significants_Env_Dendogram.png'\n",
    "plt.savefig(save_path_temp, dpi=600, bbox_inches='tight')"
   ],
   "metadata": {
    "collapsed": false
   }
  },
  {
   "cell_type": "code",
   "execution_count": null,
   "outputs": [],
   "source": [],
   "metadata": {
    "collapsed": false
   }
  },
  {
   "cell_type": "code",
   "execution_count": null,
   "outputs": [],
   "source": [],
   "metadata": {
    "collapsed": false
   }
  }
 ],
 "metadata": {
  "kernelspec": {
   "display_name": "Python 3",
   "language": "python",
   "name": "python3"
  },
  "language_info": {
   "codemirror_mode": {
    "name": "ipython",
    "version": 2
   },
   "file_extension": ".py",
   "mimetype": "text/x-python",
   "name": "python",
   "nbconvert_exporter": "python",
   "pygments_lexer": "ipython2",
   "version": "2.7.6"
  }
 },
 "nbformat": 4,
 "nbformat_minor": 0
}
