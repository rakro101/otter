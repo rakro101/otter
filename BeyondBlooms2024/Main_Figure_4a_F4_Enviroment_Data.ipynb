{
 "cells": [
  {
   "cell_type": "code",
   "execution_count": null,
   "metadata": {},
   "outputs": [],
   "source": [
    "import pandas as pd\n",
    "import numpy as np\n",
    "from matplotlib import pyplot as plt\n",
    "import matplotlib.dates as mdates\n",
    "from BeyondBlooms2024.config import name_dict"
   ]
  },
  {
   "cell_type": "code",
   "execution_count": null,
   "outputs": [],
   "source": [
    "#  daylight fehlt wohl in den neuen Rohdaten\n",
    "df = pd.read_csv(\"data/F4_euk_meta_data.csv\", sep=\";\")\n",
    "df_env_F4 = df\n",
    "df_env_F4 = df_env_F4.set_index(\"date\")\n",
    "df_env_F4.index = pd.to_datetime(df_env_F4.index)\n",
    "df_env_F4.columns#'PAR_satellite'\n",
    "print(len(df_env_F4))\n",
    "print(df_env_F4.tail())\n",
    "#df_env_F4 = df_env_F4.loc['2016-08-01':'2020-07-31']\n",
    "print(df_env_F4)\n",
    "df_env_F4"
   ],
   "metadata": {
    "collapsed": false
   }
  },
  {
   "cell_type": "markdown",
   "source": [],
   "metadata": {
    "collapsed": false
   }
  },
  {
   "cell_type": "code",
   "execution_count": null,
   "outputs": [],
   "source": [
    "SMALL_SIZE = 38\n",
    "MEDIUM_SIZE = 38\n",
    "BIGGER_SIZE = 38\n",
    "MEDIUM= 38\n",
    "TICK = 32\n",
    "I_SIZE = 8\n",
    "plt.rc('font', size=SMALL_SIZE)          # controls default text sizes\n",
    "plt.rc('axes', titlesize=SMALL_SIZE)     # fontsize of the axes title\n",
    "plt.rc('axes', labelsize=MEDIUM)    # fontsize of the x and y labels\n",
    "plt.rc('xtick', labelsize=TICK)    # fontsize of the tick labels\n",
    "plt.rc('ytick', labelsize=TICK)    # fontsize of the tick labels\n",
    "plt.rc('legend', fontsize=MEDIUM)   # legend fontsize\n",
    "plt.rc('figure', titlesize=BIGGER_SIZE)\n",
    "plt.rcParams['axes.spines.left'] = True\n",
    "plt.rcParams['axes.spines.right'] = True\n",
    "plt.rcParams['axes.spines.top'] = True\n",
    "plt.rcParams['axes.spines.bottom'] = True\n",
    "\n",
    "linewidth=8\n",
    "titl = ['A','B','C', 'D', 'E', 'F',\"G\", \"H\"]\n",
    "# Some example data to display\n",
    "fig, axs = plt.subplots(4, 2, figsize = (50,18) ,sharex=\"col\")\n",
    "axen = [axs[0, 0],\n",
    "        axs[0, 1],\n",
    "        axs[1, 0],\n",
    "        axs[1, 1],\n",
    "        axs[2, 0],\n",
    "        axs[2, 1],\n",
    "        axs[3, 0],\n",
    "        axs[3, 1],\n",
    "        #axs[4, 0],\n",
    "        #axs[4, 1],\n",
    "        ]\n",
    "# Set the locator\n",
    "locator1 = mdates.MonthLocator(interval = 4)  # every month\n",
    "# Specify the format - %b gives us Jan, Feb...\n",
    "fmt1 = mdates.DateFormatter('%m.%y')\n",
    "#['MLD', 'PAR_satellite', 'temp', \"sal\", \"PW_frac\", \"O2_conc\",\"depth\"]\n",
    "# Photosythetically \\n available radition \\n\n",
    "cols = ['MLD', 'temp', 'PW_frac', 'chl_sens','PAR_satellite',\"sal\",\"O2_conc\",\"depth\"]\n",
    "plot_names =['mixed layer \\n depth \\n [m]', 'temperature \\n [°C]', 'polar water \\n fraction \\n [%]', 'chlorophyll  \\n fluorescence \\n [~μg 1/l]', \"PAR  \\n [~μmol photons  \\n m^-2 d^-1]\", \"Salinity \\n [PSU]\", \"Oxygen \\n [~μmol 1/l]\", \"depth \\n [m]\"]\n",
    "for count, ax in enumerate(axen):\n",
    "    ax.plot(df_env_F4.index, df_env_F4[cols[count]] if cols[count] != 'PW_frac' else 100*df_env_F4[cols[count]], color = \"darkblue\",linewidth=linewidth)\n",
    "    if cols[count] == 'MLD' or cols[count] == 'depth':\n",
    "        ax.invert_yaxis()\n",
    "    ax.grid(True)\n",
    "    ax.set_ylabel('{}'.format(plot_names[count]),fontweight='bold')\n",
    "    ax.set_visible(True)\n",
    "    ax.xaxis.set_major_locator(locator1)\n",
    "    ax.xaxis.set_major_formatter(fmt1)\n",
    "    ax.set_facecolor('white')  # Set the background color to white\n",
    "    ax.grid(color='black', linestyle='-', linewidth=0.5)\n",
    "    ax.locator_params(axis='y', nbins=5)\n",
    "\n",
    "plt.rcParams.update({'font.weight': 'bold'})\n",
    "\n",
    "#fig.legend(loc ='center right')\n",
    "#fig.patch.set_facecolor('white')\n",
    "#fig.legend(loc='center right', bbox_to_anchor=(1.1, 0.5))\n",
    "fig.tight_layout(pad=1.1, h_pad=0.85, w_pad=0.85)\n",
    "plt.show()\n",
    "save_path_temp ='figures/'+'Main_Figure_4_a__Environment_HG_F4.jpg'\n",
    "fig.savefig(save_path_temp, dpi=300, bbox_inches='tight')"
   ],
   "metadata": {
    "collapsed": false
   }
  },
  {
   "cell_type": "code",
   "execution_count": null,
   "outputs": [],
   "source": [],
   "metadata": {
    "collapsed": false
   }
  },
  {
   "cell_type": "code",
   "execution_count": null,
   "outputs": [],
   "source": [],
   "metadata": {
    "collapsed": false
   }
  }
 ],
 "metadata": {
  "kernelspec": {
   "display_name": "Python 3 (ipykernel)",
   "language": "python",
   "name": "python3"
  },
  "language_info": {
   "codemirror_mode": {
    "name": "ipython",
    "version": 3
   },
   "file_extension": ".py",
   "mimetype": "text/x-python",
   "name": "python",
   "nbconvert_exporter": "python",
   "pygments_lexer": "ipython3",
   "version": "3.10.5"
  }
 },
 "nbformat": 4,
 "nbformat_minor": 1
}
