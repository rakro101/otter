{
 "cells": [
  {
   "cell_type": "code",
   "execution_count": null,
   "id": "initial_id",
   "metadata": {
    "collapsed": true
   },
   "outputs": [],
   "source": [
    "import pandas as pd\n",
    "import numpy as np\n",
    "from BeyondBlooms2024.config import name_dict, color_dict, color_month_dict,color_month_names \n",
    "from BeyondBlooms2024.config_file import (ABUNDANCES_FILE, CCMN_CON_MAP_PATH, CON_LOUVAIN_META_PATH,CON_LOUVAIN_NETWORK_PATH, ENRICH\n",
    ",NUM_PERMUTATIONS, NUM_SAMPLES, NUM_CORES, METADATA_FILE, PRUNED_PVAL_CCMN_PATH,PVAL_CCMN_PATH,ENRICHED_META_PATH, RANDOM_PVAL_CCMN_PATH)"
   ]
  },
  {
   "cell_type": "code",
   "execution_count": null,
   "outputs": [],
   "source": [
    "df_enriched = pd.read_csv(\"tables/BeyondBlooms2024_Hellinger_True_14_Enriched_Hellinger_complete_network_table_meta_CON_CCM.csv\")"
   ],
   "metadata": {
    "collapsed": false
   },
   "id": "e9a64e0d13840a55"
  },
  {
   "cell_type": "code",
   "execution_count": null,
   "outputs": [],
   "source": [
    "df_enriched"
   ],
   "metadata": {
    "collapsed": false
   },
   "id": "fa5fb75b2f1de2a8"
  },
  {
   "cell_type": "code",
   "execution_count": null,
   "outputs": [],
   "source": [
    "df_enriched.dropna(subset=\"LouvainLabelD\",inplace=True)\n",
    "df_enriched[\"cluster_names\"] = df_enriched[\"LouvainLabelD\"].apply(lambda x: name_dict[str(int(x))])"
   ],
   "metadata": {
    "collapsed": false
   },
   "id": "fd6d9b5b1f5126f2"
  },
  {
   "cell_type": "code",
   "execution_count": null,
   "outputs": [],
   "source": [
    "df_enriched[\"cluster_color\"] = df_enriched[\"LouvainLabelD\"].apply(lambda x: color_dict[str(int(x))])"
   ],
   "metadata": {
    "collapsed": false
   },
   "id": "39c46e39e906be93"
  },
  {
   "cell_type": "code",
   "execution_count": null,
   "outputs": [],
   "source": [
    "df_enriched.drop(columns=[\"Unnamed: 0\"], inplace=True)\n",
    "df_enriched = df_enriched[df_enriched[\"cluster_names\"]!=\"RAUS\"]"
   ],
   "metadata": {
    "collapsed": false
   },
   "id": "970700fd4e2352dd"
  },
  {
   "cell_type": "code",
   "execution_count": null,
   "outputs": [],
   "source": [
    "df_abund = pd.read_csv(ABUNDANCES_FILE,sep=\";\")\n",
    "df_abund.set_index(\"Unnamed: 0\", inplace=True)\n",
    "df_sqrt = np.sqrt(df_abund)\n",
    "row_norms = np.linalg.norm(df_sqrt, axis=1)\n",
    "df_normalized = df_sqrt.div(row_norms, axis=0)\n",
    "df_abund = df_normalized\n",
    "df_abund[\"Unnamed: 0\"]=df_abund.index\n",
    "df_abund[\"Unnamed: 0\"] = pd.to_datetime(df_abund[\"Unnamed: 0\"])\n",
    "df_abund[\"month\"]=df_abund[\"Unnamed: 0\"].dt.month\n",
    "df_abund[\"year\"]=df_abund[\"Unnamed: 0\"].dt.year\n",
    "df_abund[\"year_month\"]=df_abund[\"Unnamed: 0\"].dt.strftime('%Y-%m')\n",
    "df_abund.drop(columns=\"Unnamed: 0\", inplace=True)\n",
    "df_abund = df_abund.reset_index()\n",
    "result_ym = df_abund.groupby(\"year_month\").agg(sum).reset_index()\n",
    "result_ym.set_index(\"year_month\",inplace= True)\n",
    "result_ym[\"year_month\"] = result_ym.index\n",
    "result_ym[\"year\"] = result_ym.index\n",
    "result_ym[\"year2\"] = result_ym.index\n",
    "result_ym[\"year\"]=pd.to_datetime(result_ym[\"year\"]).dt.year\n",
    "result_ym[\"month\"]=pd.to_datetime(result_ym[\"year2\"]).dt.month\n",
    "result = df_abund.groupby('month').agg(sum).reset_index()\n",
    "result.set_index(\"month\",inplace= True)\n",
    "# Print the result\n",
    "print(result.idxmax())\n",
    "mm_dict = result.idxmax().to_dict()\n",
    "df_enriched[\"MaxMonth\"]=df_enriched[\"Nodes\"].apply(lambda x: mm_dict[x])\n",
    "df_enriched[\"MaxMonth\"] = df_enriched[\"MaxMonth\"].astype(str)\n",
    "df_enriched[\"MaxMonthColor\"]=df_enriched[\"MaxMonth\"].map(color_month_dict)\n",
    "df_enriched[\"MaxMonthName\"]=df_enriched[\"MaxMonth\"].map(color_month_names)"
   ],
   "metadata": {
    "collapsed": false
   },
   "id": "5aee4307fa975ea3"
  },
  {
   "cell_type": "code",
   "execution_count": null,
   "outputs": [],
   "source": [
    "df_enriched"
   ],
   "metadata": {
    "collapsed": false
   },
   "id": "9242ad45b513c5e1"
  },
  {
   "cell_type": "code",
   "execution_count": null,
   "outputs": [],
   "source": [
    "df_enriched.to_csv(\"tables/Enriched_Paper_Meta.csv\",sep=\",\",index=False)"
   ],
   "metadata": {
    "collapsed": false
   },
   "id": "8a776fae338c8bc5"
  },
  {
   "cell_type": "code",
   "execution_count": null,
   "outputs": [],
   "source": [],
   "metadata": {
    "collapsed": false
   },
   "id": "75d87464766f8922"
  }
 ],
 "metadata": {
  "kernelspec": {
   "display_name": "Python 3",
   "language": "python",
   "name": "python3"
  },
  "language_info": {
   "codemirror_mode": {
    "name": "ipython",
    "version": 2
   },
   "file_extension": ".py",
   "mimetype": "text/x-python",
   "name": "python",
   "nbconvert_exporter": "python",
   "pygments_lexer": "ipython2",
   "version": "2.7.6"
  }
 },
 "nbformat": 4,
 "nbformat_minor": 5
}
