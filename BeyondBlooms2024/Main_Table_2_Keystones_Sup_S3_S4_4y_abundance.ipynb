{
 "cells": [
  {
   "cell_type": "code",
   "execution_count": null,
   "metadata": {
    "collapsed": true
   },
   "outputs": [],
   "source": [
    "import pandas as pd\n",
    "import numpy as np\n",
    "from BeyondBlooms2024.config import name_dict\n",
    "from BeyondBlooms2024.config_file import (ABUNDANCES_FILE, CCMN_CON_MAP_PATH, CON_LOUVAIN_META_PATH,CON_LOUVAIN_NETWORK_PATH, ENRICH\n",
    ",NUM_PERMUTATIONS, NUM_SAMPLES, NUM_CORES, METADATA_FILE, PRUNED_PVAL_CCMN_PATH,PVAL_CCMN_PATH,ENRICHED_META_PATH, RANDOM_PVAL_CCMN_PATH)"
   ]
  },
  {
   "cell_type": "code",
   "execution_count": null,
   "outputs": [],
   "source": [
    "# Load Taxa Table\n",
    "df_taxa = pd.read_csv(ENRICH, sep =',', engine=\"python\")\n",
    "selected_asv= df_taxa[\"Nodes\"].tolist()"
   ],
   "metadata": {
    "collapsed": false
   }
  },
  {
   "cell_type": "code",
   "execution_count": null,
   "outputs": [],
   "source": [
    "df_taxa.columns"
   ],
   "metadata": {
    "collapsed": false
   }
  },
  {
   "cell_type": "code",
   "execution_count": null,
   "outputs": [],
   "source": [
    "def get_dict(col = \"LouvainID\"):\n",
    "    df_taxa_temp =df_taxa[[\"Nodes\",col]]\n",
    "    df_taxa_temp.set_index(\"Nodes\", inplace=True)\n",
    "    d_ = df_taxa_temp.to_dict()[col]\n",
    "    return d_"
   ],
   "metadata": {
    "collapsed": false
   }
  },
  {
   "cell_type": "code",
   "execution_count": null,
   "outputs": [],
   "source": [
    "# Load abudance table f4\n",
    "df_ab_f4 = pd.read_csv(ABUNDANCES_FILE, sep =';', index_col=0)\n",
    "print(df_ab_f4)\n",
    "print(df_ab_f4.shape)\n",
    "df_ab_f4[\"time\"] = pd.to_datetime(df_ab_f4.index)\n",
    "df_ab_f4.set_index(\"time\", inplace=True)\n",
    "df_f4_4abu = df_ab_f4[selected_asv].sum()\n",
    "df_f4_4abu"
   ],
   "metadata": {
    "collapsed": false
   }
  },
  {
   "cell_type": "code",
   "execution_count": null,
   "outputs": [],
   "source": [
    "df_abu = pd.DataFrame(df_f4_4abu)"
   ],
   "metadata": {
    "collapsed": false
   }
  },
  {
   "cell_type": "code",
   "execution_count": null,
   "outputs": [],
   "source": [
    "df_abu.rename(columns={0:\"raw_abundance\"}, inplace = True)"
   ],
   "metadata": {
    "collapsed": false
   }
  },
  {
   "cell_type": "code",
   "execution_count": null,
   "outputs": [],
   "source": [
    "df_abu[\"raw_procentual_abundance\"] =100*df_abu[\"raw_abundance\"]/df_abu[\"raw_abundance\"].sum()\n",
    "df_abu[\"ASV\"]=df_abu.index\n",
    "df_abu[\"Clu\"] = df_abu[\"ASV\"].apply(lambda x: get_dict(col = \"cluster_names\")[x])\n",
    "df_abu[\"raw_clu_abundance\"] =df_abu[\"Clu\"].apply(lambda x: df_abu[df_abu[\"Clu\"]==x][\"raw_abundance\"].sum())\n",
    "df_abu[\"raw_procentual_clu_abundance\"]=100*df_abu[\"raw_abundance\"]/df_abu[\"raw_clu_abundance\"]"
   ],
   "metadata": {
    "collapsed": false
   }
  },
  {
   "cell_type": "code",
   "execution_count": null,
   "outputs": [],
   "source": [
    "print(df_abu.head(20))"
   ],
   "metadata": {
    "collapsed": false
   }
  },
  {
   "cell_type": "code",
   "execution_count": null,
   "outputs": [],
   "source": [
    "# Join Arctic Projection Data\n",
    "df_pro_arctic3 = pd.read_csv(\"tables/Taxatable_StableStates_withArcticENV_final03.csv\",sep=\";\")\n",
    "print(df_pro_arctic3.shape)\n",
    "df_pro_arctic10 = pd.read_csv(\"tables/Taxatable_StableStates_withArcticENV_final10.csv\",sep=\";\")\n",
    "print(df_pro_arctic10.shape)\n",
    "df_pro_arctic = pd.concat([df_pro_arctic3,df_pro_arctic10],axis=0)\n",
    "print(df_pro_arctic.shape)\n",
    "df_pro_arctic.to_csv(\"tables/Taxatable_StableState_Arctic.csv\", index=False,sep=\";\")"
   ],
   "metadata": {
    "collapsed": false
   }
  },
  {
   "cell_type": "code",
   "execution_count": null,
   "outputs": [],
   "source": [
    "# Join Arctic Projection Data\n",
    "df_pro_Atlantic3 = pd.read_csv(\"tables/Taxatable_StableStates_withAtlanticENV_final_03.csv\",sep=\";\")\n",
    "print(df_pro_Atlantic3.shape)\n",
    "df_pro_Atlantic10 = pd.read_csv(\"tables/Taxatable_StableStates_withAtlanticENV_final_10.csv\",sep=\";\")\n",
    "print(df_pro_Atlantic10.shape)\n",
    "df_pro_Atlantic = pd.concat([df_pro_Atlantic3,df_pro_Atlantic10],axis=0)\n",
    "print(df_pro_Atlantic.shape)\n",
    "df_pro_Atlantic.to_csv(\"tables/Taxatable_StableState_Atlantic.csv\", index=False,sep=\";\")"
   ],
   "metadata": {
    "collapsed": false
   }
  },
  {
   "cell_type": "code",
   "execution_count": null,
   "outputs": [],
   "source": [
    "cluster_id_dict = {\n",
    "    \"8\": \"08TS\",\n",
    "    \"9\": \"09HS\",\n",
    "    \"1\": \"01TA\",\n",
    "    \"6\": \"06TS\",\n",
    "    \"10\": \"10HS\",\n",
    "    \"5\": \"05LW\",\n",
    "    \"3\": \"03LW\",\n",
    "    \"4\": \"04LW\",\n",
    "    \"2\": \"02TA\",\n",
    "    \"7\": \"07TS\",\n",
    "}"
   ],
   "metadata": {
    "collapsed": false
   }
  },
  {
   "cell_type": "code",
   "execution_count": null,
   "outputs": [],
   "source": [
    "pathes_dict = {\"NonProjection\": \"tables/Taxatable_StableState.csv\", \"Projection_Arctic\": \"tables/Taxatable_StableState_Arctic.csv\",  \"Projection_Atlantic\": \"tables/Taxatable_StableState_Atlantic.csv\"}\n",
    "csv_name_dict = {\"NonProjection\": \"Main_Table_2_NonProjection\", \"Projection_Arctic\": \"Main_Sup_4_Projection_Arctic\",\n",
    "\"Projection_Atlantic\": \"Main_Sup_3_Projection_Atlantic\"}\n",
    "# Attention SS cluster are 01 == 01TA etc.\n",
    "for ent in [\"NonProjection\",\"Projection_Arctic\",\"Projection_Atlantic\"]:\n",
    "    df_ss = pd.read_csv(pathes_dict[ent], sep=\";\")\n",
    "    df_ss[\"cluster\"] = df_ss[\"cluster\"].apply(lambda x: cluster_id_dict[str(x)])\n",
    "    df_all = pd.merge(df_ss,df_abu, on =\"ASV\", how=\"inner\")\n",
    "    df_all.drop(columns=[\"Clu\"], inplace =True)\n",
    "    df_ccm = pd.read_csv(PRUNED_PVAL_CCMN_PATH,sep=\";\")\n",
    "    ccm_asv_list = df_ccm[\"from\"].to_list()+df_ccm[\"to\"].to_list()\n",
    "    ccm_asv_list = list(np.unique(ccm_asv_list))\n",
    "    ccm_dict = {asv: 1 for asv in ccm_asv_list}\n",
    "    df_all[\"CCM_Significance\"] = df_all[\"ASV\"].map(ccm_dict)\n",
    "    df_all[\"CCM_Significance\"].fillna(0, inplace=True)\n",
    "    df_all.set_index(\"ASV\", inplace=True)\n",
    "    df_all.to_csv(f\"tables/{csv_name_dict[ent]}_stablestate_biomass.csv\", sep=\";\")\n",
    "    df_all[\"raw_procentual_abundance\"] =df_all[\"raw_procentual_abundance\"].round(4)\n",
    "    df_all[\"raw_abundance\"] = df_all[\"raw_abundance\"].round(4)\n",
    "    df_all[\"raw_procentual_abundance\"] = df_all[\"raw_procentual_abundance\"].round(4)\n",
    "    df_all[\"raw_procentual_clu_abundance\"] = df_all[\"raw_procentual_clu_abundance\"].round(4)\n",
    "    df_all_short = df_all#[df_all[\"cluster\"]]\n",
    "    df_all_short_ = df_all_short[[\"Genus\", \"Species\", 'cluster', 'raw_abundance', 'raw_procentual_abundance', 'raw_procentual_clu_abundance',\n",
    "         \"CCM_Significance\"]]\n",
    "    df_all_short_new = df_all_short_.sort_values(by=['cluster', 'raw_abundance'], ascending=False)\n",
    "    df_all_short_new.to_latex(f\"tables/{csv_name_dict[ent]}_stablestate_latex_table_short.txt\")\n",
    "    df_all_short_new.to_csv(f\"tables/{csv_name_dict[ent]}_stablestate_latex_table_short.csv\")\n",
    "    print(df_all_short_new.head())"
   ],
   "metadata": {
    "collapsed": false
   }
  },
  {
   "cell_type": "code",
   "execution_count": null,
   "outputs": [],
   "source": [],
   "metadata": {
    "collapsed": false
   }
  }
 ],
 "metadata": {
  "kernelspec": {
   "display_name": "Python 3",
   "language": "python",
   "name": "python3"
  },
  "language_info": {
   "codemirror_mode": {
    "name": "ipython",
    "version": 2
   },
   "file_extension": ".py",
   "mimetype": "text/x-python",
   "name": "python",
   "nbconvert_exporter": "python",
   "pygments_lexer": "ipython2",
   "version": "2.7.6"
  }
 },
 "nbformat": 4,
 "nbformat_minor": 0
}
